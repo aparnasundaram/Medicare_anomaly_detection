{
 "cells": [
  {
   "cell_type": "code",
   "execution_count": 76,
   "metadata": {},
   "outputs": [],
   "source": [
    "import pandas as pd\n",
    "import numpy as np\n",
    "import seaborn as sns\n",
    "import matplotlib.pyplot as plt\n",
    "import re\n",
    "from pathlib import Path\n",
    "\n",
    "pd.set_option(\"display.max_columns\", 500)"
   ]
  },
  {
   "cell_type": "markdown",
   "metadata": {},
   "source": [
    "## Creating Top10 HCPCS CMS PUF file"
   ]
  },
  {
   "cell_type": "code",
   "execution_count": null,
   "metadata": {
    "scrolled": true
   },
   "outputs": [],
   "source": [
    "CY2017 = pd.read_csv(\"./data/Medicare_Provider_Util_Payment_PUF_CY2017.txt\", sep=\"\\t\",header=0,skiprows=[1])"
   ]
  },
  {
   "cell_type": "code",
   "execution_count": null,
   "metadata": {},
   "outputs": [],
   "source": [
    "df = CY2017.copy()"
   ]
  },
  {
   "cell_type": "code",
   "execution_count": null,
   "metadata": {},
   "outputs": [],
   "source": [
    "df.columns"
   ]
  },
  {
   "cell_type": "code",
   "execution_count": null,
   "metadata": {},
   "outputs": [],
   "source": [
    "df['Total_submitted_chrg_amt'] = df['line_srvc_cnt'] * df['average_submitted_chrg_amt']\n",
    "df['Total_Medicare_payment_amt'] = df['line_srvc_cnt'] * df['average_Medicare_payment_amt']"
   ]
  },
  {
   "cell_type": "code",
   "execution_count": null,
   "metadata": {},
   "outputs": [],
   "source": [
    "df.head()"
   ]
  },
  {
   "cell_type": "code",
   "execution_count": null,
   "metadata": {},
   "outputs": [],
   "source": [
    "Total_submitted = df.Total_submitted_chrg_amt.sum()"
   ]
  },
  {
   "cell_type": "code",
   "execution_count": null,
   "metadata": {},
   "outputs": [],
   "source": [
    "#per-row (per HCPS not grouped) --(wrong code)\n",
    "top = df.sort_values(by='Total_submitted_chrg_amt', ascending=False).hcpcs_code.unique() \n",
    "x = df[df.hcpcs_code.isin(top[0:10])]\n",
    "x.shape"
   ]
  },
  {
   "cell_type": "code",
   "execution_count": null,
   "metadata": {},
   "outputs": [],
   "source": [
    "x.hcpcs_code.value_counts()"
   ]
  },
  {
   "cell_type": "code",
   "execution_count": null,
   "metadata": {},
   "outputs": [],
   "source": [
    "# sort by top 10 hcpcs:\n",
    "top_hcpcs = df.groupby(['hcpcs_code'])['Total_submitted_chrg_amt'].sum().sort_values(ascending=False)\n",
    "top10_hcpcs = top_hcpcs[0:10].index\n",
    "top10_hcpcs"
   ]
  },
  {
   "cell_type": "code",
   "execution_count": null,
   "metadata": {
    "scrolled": true
   },
   "outputs": [],
   "source": [
    "df_top10 = df[df.hcpcs_code.isin(top10_hcpcs)]\n",
    "df_top10.shape"
   ]
  },
  {
   "cell_type": "code",
   "execution_count": null,
   "metadata": {},
   "outputs": [],
   "source": [
    "df_top10."
   ]
  },
  {
   "cell_type": "code",
   "execution_count": null,
   "metadata": {},
   "outputs": [],
   "source": [
    "df_top10.hcpcs_code.value_counts() #number of submitted charges\n",
    "# bene_unique_cnt / total_bene_unique_cnt\n",
    "# unique_npi / total_unique_npi"
   ]
  },
  {
   "cell_type": "code",
   "execution_count": null,
   "metadata": {},
   "outputs": [],
   "source": [
    "pd.DataFrame({'Total_submitted_sum': top_hcpcs[1:10],\\\n",
    "              'Total_submitted_percent': ((top_hcpcs[0:10] / Total_submitted) * 100)\\\n",
    "              ''})"
   ]
  },
  {
   "cell_type": "code",
   "execution_count": null,
   "metadata": {},
   "outputs": [],
   "source": [
    "top_hcpcs[1:10]"
   ]
  },
  {
   "cell_type": "code",
   "execution_count": null,
   "metadata": {},
   "outputs": [],
   "source": [
    "top_hcpcs[0:10] / Total_submitted * 100"
   ]
  },
  {
   "cell_type": "code",
   "execution_count": null,
   "metadata": {},
   "outputs": [],
   "source": [
    "df_top10.groupby('hcpcs_code')['npi'].count()"
   ]
  },
  {
   "cell_type": "code",
   "execution_count": null,
   "metadata": {},
   "outputs": [],
   "source": [
    "#df_top10.to_csv(Path(\"data\",\"top10_hcpcs.csv\")) #create a new csv file"
   ]
  },
  {
   "cell_type": "code",
   "execution_count": null,
   "metadata": {},
   "outputs": [],
   "source": [
    "#sort via highest avg Total_average_submitted_charge_amount\n",
    "#pick top 10 \n",
    "#find proportion for the top 10\n",
    "# drop all columns not in top 10"
   ]
  },
  {
   "cell_type": "markdown",
   "metadata": {},
   "source": [
    "# LEIE"
   ]
  },
  {
   "cell_type": "code",
   "execution_count": 22,
   "metadata": {},
   "outputs": [],
   "source": [
    "#LEIE\n",
    "LEIE = pd.read_csv('data/LEIE_08_2019.csv')"
   ]
  },
  {
   "cell_type": "code",
   "execution_count": 23,
   "metadata": {
    "scrolled": true
   },
   "outputs": [],
   "source": [
    "#Top10-HCPCS\n",
    "df = pd.read_csv('data/top10_hcpcs.csv', index_col=0)"
   ]
  },
  {
   "cell_type": "code",
   "execution_count": 4,
   "metadata": {},
   "outputs": [
    {
     "data": {
      "text/plain": [
       "(72476, 18)"
      ]
     },
     "execution_count": 4,
     "metadata": {},
     "output_type": "execute_result"
    }
   ],
   "source": [
    "LEIE.shape"
   ]
  },
  {
   "cell_type": "code",
   "execution_count": 5,
   "metadata": {},
   "outputs": [],
   "source": [
    "LEIE['exyear'] = pd.to_datetime(LEIE[\"EXCLDATE\"], format=\"%Y%m%d\").dt.year\n",
    "LEIE['exmonth'] = pd.to_datetime(LEIE[\"EXCLDATE\"], format=\"%Y%m%d\").dt.month"
   ]
  },
  {
   "cell_type": "code",
   "execution_count": 25,
   "metadata": {},
   "outputs": [
    {
     "data": {
      "text/html": [
       "<div>\n",
       "<style scoped>\n",
       "    .dataframe tbody tr th:only-of-type {\n",
       "        vertical-align: middle;\n",
       "    }\n",
       "\n",
       "    .dataframe tbody tr th {\n",
       "        vertical-align: top;\n",
       "    }\n",
       "\n",
       "    .dataframe thead th {\n",
       "        text-align: right;\n",
       "    }\n",
       "</style>\n",
       "<table border=\"1\" class=\"dataframe\">\n",
       "  <thead>\n",
       "    <tr style=\"text-align: right;\">\n",
       "      <th></th>\n",
       "      <th>lastname</th>\n",
       "      <th>firstname</th>\n",
       "      <th>midname</th>\n",
       "      <th>busname</th>\n",
       "      <th>general</th>\n",
       "      <th>specialty</th>\n",
       "      <th>upin</th>\n",
       "      <th>npi</th>\n",
       "      <th>dob</th>\n",
       "      <th>address</th>\n",
       "      <th>city</th>\n",
       "      <th>state</th>\n",
       "      <th>zip</th>\n",
       "      <th>excltype</th>\n",
       "      <th>excldate</th>\n",
       "      <th>reindate</th>\n",
       "      <th>waiverdate</th>\n",
       "      <th>wvrstate</th>\n",
       "    </tr>\n",
       "  </thead>\n",
       "  <tbody>\n",
       "    <tr>\n",
       "      <th>0</th>\n",
       "      <td>NaN</td>\n",
       "      <td>NaN</td>\n",
       "      <td></td>\n",
       "      <td>14 LAWRENCE AVE PHARMACY</td>\n",
       "      <td>PHARMACY</td>\n",
       "      <td>NaN</td>\n",
       "      <td>NaN</td>\n",
       "      <td>0</td>\n",
       "      <td>NaN</td>\n",
       "      <td>14 LAWRENCE AVENUE</td>\n",
       "      <td>SMITHTOWN</td>\n",
       "      <td>NY</td>\n",
       "      <td>11787</td>\n",
       "      <td>1128a1</td>\n",
       "      <td>19880830</td>\n",
       "      <td>0</td>\n",
       "      <td>0</td>\n",
       "      <td>NaN</td>\n",
       "    </tr>\n",
       "    <tr>\n",
       "      <th>1</th>\n",
       "      <td>NaN</td>\n",
       "      <td>NaN</td>\n",
       "      <td></td>\n",
       "      <td>143 MEDICAL EQUIPMENT CO</td>\n",
       "      <td>DME COMPANY</td>\n",
       "      <td>DME - OXYGEN</td>\n",
       "      <td>NaN</td>\n",
       "      <td>0</td>\n",
       "      <td>NaN</td>\n",
       "      <td>701 NW 36 AVENUE</td>\n",
       "      <td>MIAMI</td>\n",
       "      <td>FL</td>\n",
       "      <td>33125</td>\n",
       "      <td>1128b7</td>\n",
       "      <td>19970620</td>\n",
       "      <td>0</td>\n",
       "      <td>0</td>\n",
       "      <td>NaN</td>\n",
       "    </tr>\n",
       "    <tr>\n",
       "      <th>2</th>\n",
       "      <td>NaN</td>\n",
       "      <td>NaN</td>\n",
       "      <td></td>\n",
       "      <td>184TH STREET PHARMACY CORP</td>\n",
       "      <td>OTHER BUSINESS</td>\n",
       "      <td>PHARMACY</td>\n",
       "      <td>NaN</td>\n",
       "      <td>1922348218</td>\n",
       "      <td>NaN</td>\n",
       "      <td>69 E 184TH ST</td>\n",
       "      <td>BRONX</td>\n",
       "      <td>NY</td>\n",
       "      <td>10468</td>\n",
       "      <td>1128a1</td>\n",
       "      <td>20180419</td>\n",
       "      <td>0</td>\n",
       "      <td>0</td>\n",
       "      <td>NaN</td>\n",
       "    </tr>\n",
       "    <tr>\n",
       "      <th>3</th>\n",
       "      <td>NaN</td>\n",
       "      <td>NaN</td>\n",
       "      <td></td>\n",
       "      <td>1951 FLATBUSH AVENUE PHARMACY</td>\n",
       "      <td>PHARMACY</td>\n",
       "      <td>NaN</td>\n",
       "      <td>NaN</td>\n",
       "      <td>0</td>\n",
       "      <td>NaN</td>\n",
       "      <td>1951 FLATBUSH AVE</td>\n",
       "      <td>BROOKLYN</td>\n",
       "      <td>NY</td>\n",
       "      <td>11234</td>\n",
       "      <td>1128b5</td>\n",
       "      <td>20090319</td>\n",
       "      <td>0</td>\n",
       "      <td>0</td>\n",
       "      <td>NaN</td>\n",
       "    </tr>\n",
       "    <tr>\n",
       "      <th>4</th>\n",
       "      <td>NaN</td>\n",
       "      <td>NaN</td>\n",
       "      <td></td>\n",
       "      <td>1ST COMMUNITY HEALTH CTR, LTD</td>\n",
       "      <td>CLINIC</td>\n",
       "      <td>NaN</td>\n",
       "      <td>NaN</td>\n",
       "      <td>0</td>\n",
       "      <td>NaN</td>\n",
       "      <td>3138 W CERMAK ROAD</td>\n",
       "      <td>CHICAGO</td>\n",
       "      <td>IL</td>\n",
       "      <td>60623</td>\n",
       "      <td>1128a1</td>\n",
       "      <td>19940524</td>\n",
       "      <td>0</td>\n",
       "      <td>0</td>\n",
       "      <td>NaN</td>\n",
       "    </tr>\n",
       "  </tbody>\n",
       "</table>\n",
       "</div>"
      ],
      "text/plain": [
       "  lastname firstname midname                        busname         general  \\\n",
       "0      NaN       NaN               14 LAWRENCE AVE PHARMACY        PHARMACY   \n",
       "1      NaN       NaN               143 MEDICAL EQUIPMENT CO     DME COMPANY   \n",
       "2      NaN       NaN             184TH STREET PHARMACY CORP  OTHER BUSINESS   \n",
       "3      NaN       NaN          1951 FLATBUSH AVENUE PHARMACY        PHARMACY   \n",
       "4      NaN       NaN          1ST COMMUNITY HEALTH CTR, LTD          CLINIC   \n",
       "\n",
       "      specialty upin         npi  dob             address       city state  \\\n",
       "0           NaN  NaN           0  NaN  14 LAWRENCE AVENUE  SMITHTOWN    NY   \n",
       "1  DME - OXYGEN  NaN           0  NaN    701 NW 36 AVENUE      MIAMI    FL   \n",
       "2      PHARMACY  NaN  1922348218  NaN       69 E 184TH ST      BRONX    NY   \n",
       "3           NaN  NaN           0  NaN   1951 FLATBUSH AVE   BROOKLYN    NY   \n",
       "4           NaN  NaN           0  NaN  3138 W CERMAK ROAD    CHICAGO    IL   \n",
       "\n",
       "     zip excltype  excldate  reindate  waiverdate wvrstate  \n",
       "0  11787   1128a1  19880830         0           0      NaN  \n",
       "1  33125   1128b7  19970620         0           0      NaN  \n",
       "2  10468   1128a1  20180419         0           0      NaN  \n",
       "3  11234   1128b5  20090319         0           0      NaN  \n",
       "4  60623   1128a1  19940524         0           0      NaN  "
      ]
     },
     "execution_count": 25,
     "metadata": {},
     "output_type": "execute_result"
    }
   ],
   "source": [
    "LEIE.columns = LEIE.columns.str.lower()\n",
    "LEIE.head()"
   ]
  },
  {
   "cell_type": "code",
   "execution_count": 87,
   "metadata": {},
   "outputs": [
    {
     "data": {
      "text/html": [
       "<div>\n",
       "<style scoped>\n",
       "    .dataframe tbody tr th:only-of-type {\n",
       "        vertical-align: middle;\n",
       "    }\n",
       "\n",
       "    .dataframe tbody tr th {\n",
       "        vertical-align: top;\n",
       "    }\n",
       "\n",
       "    .dataframe thead th {\n",
       "        text-align: right;\n",
       "    }\n",
       "</style>\n",
       "<table border=\"1\" class=\"dataframe\">\n",
       "  <thead>\n",
       "    <tr style=\"text-align: right;\">\n",
       "      <th></th>\n",
       "      <th>npi</th>\n",
       "      <th>nppes_provider_last_org_name</th>\n",
       "      <th>nppes_provider_first_name</th>\n",
       "      <th>nppes_provider_mi</th>\n",
       "      <th>nppes_credentials</th>\n",
       "      <th>nppes_provider_gender</th>\n",
       "      <th>nppes_entity_code</th>\n",
       "      <th>nppes_provider_street1</th>\n",
       "      <th>nppes_provider_street2</th>\n",
       "      <th>nppes_provider_city</th>\n",
       "      <th>nppes_provider_zip</th>\n",
       "      <th>nppes_provider_state</th>\n",
       "      <th>provider_type</th>\n",
       "      <th>place_of_service</th>\n",
       "      <th>hcpcs_code</th>\n",
       "      <th>hcpcs_description</th>\n",
       "      <th>hcpcs_drug_indicator</th>\n",
       "      <th>line_srvc_cnt</th>\n",
       "      <th>bene_unique_cnt</th>\n",
       "      <th>bene_day_srvc_cnt</th>\n",
       "      <th>average_Medicare_allowed_amt</th>\n",
       "      <th>average_submitted_chrg_amt</th>\n",
       "      <th>average_Medicare_payment_amt</th>\n",
       "      <th>average_Medicare_standard_amt</th>\n",
       "      <th>Total_submitted_chrg_amt</th>\n",
       "      <th>Total_Medicare_payment_amt</th>\n",
       "      <th>Target</th>\n",
       "      <th>zip</th>\n",
       "    </tr>\n",
       "  </thead>\n",
       "  <tbody>\n",
       "    <tr>\n",
       "      <th>6</th>\n",
       "      <td>1003000126</td>\n",
       "      <td>ENKESHAFI</td>\n",
       "      <td>ARDALAN</td>\n",
       "      <td>NaN</td>\n",
       "      <td>M.D.</td>\n",
       "      <td>M</td>\n",
       "      <td>I</td>\n",
       "      <td>900 SETON DR</td>\n",
       "      <td>NaN</td>\n",
       "      <td>CUMBERLAND</td>\n",
       "      <td>215021854</td>\n",
       "      <td>MD</td>\n",
       "      <td>Internal Medicine</td>\n",
       "      <td>F</td>\n",
       "      <td>99223</td>\n",
       "      <td>Initial hospital inpatient care, typically 70 ...</td>\n",
       "      <td>N</td>\n",
       "      <td>114.0</td>\n",
       "      <td>110</td>\n",
       "      <td>114</td>\n",
       "      <td>206.061579</td>\n",
       "      <td>923.991228</td>\n",
       "      <td>160.377193</td>\n",
       "      <td>160.026316</td>\n",
       "      <td>105335.000000</td>\n",
       "      <td>18283.00</td>\n",
       "      <td>False</td>\n",
       "      <td>21502</td>\n",
       "    </tr>\n",
       "    <tr>\n",
       "      <th>7</th>\n",
       "      <td>1003000126</td>\n",
       "      <td>ENKESHAFI</td>\n",
       "      <td>ARDALAN</td>\n",
       "      <td>NaN</td>\n",
       "      <td>M.D.</td>\n",
       "      <td>M</td>\n",
       "      <td>I</td>\n",
       "      <td>900 SETON DR</td>\n",
       "      <td>NaN</td>\n",
       "      <td>CUMBERLAND</td>\n",
       "      <td>215021854</td>\n",
       "      <td>MD</td>\n",
       "      <td>Internal Medicine</td>\n",
       "      <td>F</td>\n",
       "      <td>99232</td>\n",
       "      <td>Subsequent hospital inpatient care, typically ...</td>\n",
       "      <td>N</td>\n",
       "      <td>627.0</td>\n",
       "      <td>233</td>\n",
       "      <td>627</td>\n",
       "      <td>72.622456</td>\n",
       "      <td>326.245614</td>\n",
       "      <td>56.366730</td>\n",
       "      <td>57.047895</td>\n",
       "      <td>204556.000003</td>\n",
       "      <td>35341.94</td>\n",
       "      <td>False</td>\n",
       "      <td>21502</td>\n",
       "    </tr>\n",
       "    <tr>\n",
       "      <th>8</th>\n",
       "      <td>1003000126</td>\n",
       "      <td>ENKESHAFI</td>\n",
       "      <td>ARDALAN</td>\n",
       "      <td>NaN</td>\n",
       "      <td>M.D.</td>\n",
       "      <td>M</td>\n",
       "      <td>I</td>\n",
       "      <td>900 SETON DR</td>\n",
       "      <td>NaN</td>\n",
       "      <td>CUMBERLAND</td>\n",
       "      <td>215021854</td>\n",
       "      <td>MD</td>\n",
       "      <td>Internal Medicine</td>\n",
       "      <td>F</td>\n",
       "      <td>99233</td>\n",
       "      <td>Subsequent hospital inpatient care, typically ...</td>\n",
       "      <td>N</td>\n",
       "      <td>207.0</td>\n",
       "      <td>127</td>\n",
       "      <td>207</td>\n",
       "      <td>106.653913</td>\n",
       "      <td>461.072464</td>\n",
       "      <td>82.820676</td>\n",
       "      <td>83.196039</td>\n",
       "      <td>95442.000000</td>\n",
       "      <td>17143.88</td>\n",
       "      <td>False</td>\n",
       "      <td>21502</td>\n",
       "    </tr>\n",
       "    <tr>\n",
       "      <th>10</th>\n",
       "      <td>1003000126</td>\n",
       "      <td>ENKESHAFI</td>\n",
       "      <td>ARDALAN</td>\n",
       "      <td>NaN</td>\n",
       "      <td>M.D.</td>\n",
       "      <td>M</td>\n",
       "      <td>I</td>\n",
       "      <td>900 SETON DR</td>\n",
       "      <td>NaN</td>\n",
       "      <td>CUMBERLAND</td>\n",
       "      <td>215021854</td>\n",
       "      <td>MD</td>\n",
       "      <td>Internal Medicine</td>\n",
       "      <td>F</td>\n",
       "      <td>99291</td>\n",
       "      <td>Critical care delivery critically ill or injur...</td>\n",
       "      <td>N</td>\n",
       "      <td>36.0</td>\n",
       "      <td>23</td>\n",
       "      <td>36</td>\n",
       "      <td>224.170000</td>\n",
       "      <td>1400.000000</td>\n",
       "      <td>175.750000</td>\n",
       "      <td>177.656667</td>\n",
       "      <td>50400.000000</td>\n",
       "      <td>6327.00</td>\n",
       "      <td>False</td>\n",
       "      <td>21502</td>\n",
       "    </tr>\n",
       "    <tr>\n",
       "      <th>39</th>\n",
       "      <td>1003000142</td>\n",
       "      <td>KHALIL</td>\n",
       "      <td>RASHID</td>\n",
       "      <td>NaN</td>\n",
       "      <td>M.D.</td>\n",
       "      <td>M</td>\n",
       "      <td>I</td>\n",
       "      <td>4126 N HOLLAND SYLVANIA RD</td>\n",
       "      <td>SUITE 220</td>\n",
       "      <td>TOLEDO</td>\n",
       "      <td>436233536</td>\n",
       "      <td>OH</td>\n",
       "      <td>Anesthesiology</td>\n",
       "      <td>O</td>\n",
       "      <td>99213</td>\n",
       "      <td>Established patient office or other outpatient...</td>\n",
       "      <td>N</td>\n",
       "      <td>129.0</td>\n",
       "      <td>89</td>\n",
       "      <td>129</td>\n",
       "      <td>70.930000</td>\n",
       "      <td>109.000000</td>\n",
       "      <td>50.868062</td>\n",
       "      <td>53.268372</td>\n",
       "      <td>14061.000000</td>\n",
       "      <td>6561.98</td>\n",
       "      <td>False</td>\n",
       "      <td>43623</td>\n",
       "    </tr>\n",
       "  </tbody>\n",
       "</table>\n",
       "</div>"
      ],
      "text/plain": [
       "           npi nppes_provider_last_org_name nppes_provider_first_name  \\\n",
       "6   1003000126                    ENKESHAFI                   ARDALAN   \n",
       "7   1003000126                    ENKESHAFI                   ARDALAN   \n",
       "8   1003000126                    ENKESHAFI                   ARDALAN   \n",
       "10  1003000126                    ENKESHAFI                   ARDALAN   \n",
       "39  1003000142                       KHALIL                    RASHID   \n",
       "\n",
       "   nppes_provider_mi nppes_credentials nppes_provider_gender  \\\n",
       "6                NaN              M.D.                     M   \n",
       "7                NaN              M.D.                     M   \n",
       "8                NaN              M.D.                     M   \n",
       "10               NaN              M.D.                     M   \n",
       "39               NaN              M.D.                     M   \n",
       "\n",
       "   nppes_entity_code      nppes_provider_street1 nppes_provider_street2  \\\n",
       "6                  I                900 SETON DR                    NaN   \n",
       "7                  I                900 SETON DR                    NaN   \n",
       "8                  I                900 SETON DR                    NaN   \n",
       "10                 I                900 SETON DR                    NaN   \n",
       "39                 I  4126 N HOLLAND SYLVANIA RD              SUITE 220   \n",
       "\n",
       "   nppes_provider_city nppes_provider_zip nppes_provider_state  \\\n",
       "6           CUMBERLAND          215021854                   MD   \n",
       "7           CUMBERLAND          215021854                   MD   \n",
       "8           CUMBERLAND          215021854                   MD   \n",
       "10          CUMBERLAND          215021854                   MD   \n",
       "39              TOLEDO          436233536                   OH   \n",
       "\n",
       "        provider_type place_of_service hcpcs_code  \\\n",
       "6   Internal Medicine                F      99223   \n",
       "7   Internal Medicine                F      99232   \n",
       "8   Internal Medicine                F      99233   \n",
       "10  Internal Medicine                F      99291   \n",
       "39     Anesthesiology                O      99213   \n",
       "\n",
       "                                    hcpcs_description hcpcs_drug_indicator  \\\n",
       "6   Initial hospital inpatient care, typically 70 ...                    N   \n",
       "7   Subsequent hospital inpatient care, typically ...                    N   \n",
       "8   Subsequent hospital inpatient care, typically ...                    N   \n",
       "10  Critical care delivery critically ill or injur...                    N   \n",
       "39  Established patient office or other outpatient...                    N   \n",
       "\n",
       "    line_srvc_cnt  bene_unique_cnt  bene_day_srvc_cnt  \\\n",
       "6           114.0              110                114   \n",
       "7           627.0              233                627   \n",
       "8           207.0              127                207   \n",
       "10           36.0               23                 36   \n",
       "39          129.0               89                129   \n",
       "\n",
       "    average_Medicare_allowed_amt  average_submitted_chrg_amt  \\\n",
       "6                     206.061579                  923.991228   \n",
       "7                      72.622456                  326.245614   \n",
       "8                     106.653913                  461.072464   \n",
       "10                    224.170000                 1400.000000   \n",
       "39                     70.930000                  109.000000   \n",
       "\n",
       "    average_Medicare_payment_amt  average_Medicare_standard_amt  \\\n",
       "6                     160.377193                     160.026316   \n",
       "7                      56.366730                      57.047895   \n",
       "8                      82.820676                      83.196039   \n",
       "10                    175.750000                     177.656667   \n",
       "39                     50.868062                      53.268372   \n",
       "\n",
       "    Total_submitted_chrg_amt  Total_Medicare_payment_amt  Target    zip  \n",
       "6              105335.000000                    18283.00   False  21502  \n",
       "7              204556.000003                    35341.94   False  21502  \n",
       "8               95442.000000                    17143.88   False  21502  \n",
       "10              50400.000000                     6327.00   False  21502  \n",
       "39              14061.000000                     6561.98   False  43623  "
      ]
     },
     "execution_count": 87,
     "metadata": {},
     "output_type": "execute_result"
    }
   ],
   "source": [
    "df.head()"
   ]
  },
  {
   "cell_type": "code",
   "execution_count": 86,
   "metadata": {},
   "outputs": [],
   "source": [
    "df_indiv = df[df.nppes_entity_code=='I']\n",
    "df_org = df[df.nppes_entity_code=='O']"
   ]
  },
  {
   "cell_type": "code",
   "execution_count": 88,
   "metadata": {},
   "outputs": [
    {
     "data": {
      "text/html": [
       "<div>\n",
       "<style scoped>\n",
       "    .dataframe tbody tr th:only-of-type {\n",
       "        vertical-align: middle;\n",
       "    }\n",
       "\n",
       "    .dataframe tbody tr th {\n",
       "        vertical-align: top;\n",
       "    }\n",
       "\n",
       "    .dataframe thead th {\n",
       "        text-align: right;\n",
       "    }\n",
       "</style>\n",
       "<table border=\"1\" class=\"dataframe\">\n",
       "  <thead>\n",
       "    <tr style=\"text-align: right;\">\n",
       "      <th></th>\n",
       "      <th>dtype</th>\n",
       "      <th>count</th>\n",
       "      <th>nunique</th>\n",
       "      <th>missing</th>\n",
       "    </tr>\n",
       "  </thead>\n",
       "  <tbody>\n",
       "    <tr>\n",
       "      <th>nppes_provider_street2</th>\n",
       "      <td>object</td>\n",
       "      <td>630950</td>\n",
       "      <td>50820</td>\n",
       "      <td>880577</td>\n",
       "    </tr>\n",
       "    <tr>\n",
       "      <th>nppes_provider_mi</th>\n",
       "      <td>object</td>\n",
       "      <td>1074841</td>\n",
       "      <td>32</td>\n",
       "      <td>436686</td>\n",
       "    </tr>\n",
       "    <tr>\n",
       "      <th>nppes_credentials</th>\n",
       "      <td>object</td>\n",
       "      <td>1454916</td>\n",
       "      <td>8427</td>\n",
       "      <td>56611</td>\n",
       "    </tr>\n",
       "    <tr>\n",
       "      <th>nppes_provider_last_org_name</th>\n",
       "      <td>object</td>\n",
       "      <td>1511501</td>\n",
       "      <td>178903</td>\n",
       "      <td>26</td>\n",
       "    </tr>\n",
       "    <tr>\n",
       "      <th>nppes_provider_first_name</th>\n",
       "      <td>object</td>\n",
       "      <td>1511503</td>\n",
       "      <td>53565</td>\n",
       "      <td>24</td>\n",
       "    </tr>\n",
       "    <tr>\n",
       "      <th>npi</th>\n",
       "      <td>int64</td>\n",
       "      <td>1511527</td>\n",
       "      <td>652280</td>\n",
       "      <td>0</td>\n",
       "    </tr>\n",
       "    <tr>\n",
       "      <th>line_srvc_cnt</th>\n",
       "      <td>float64</td>\n",
       "      <td>1511527</td>\n",
       "      <td>4520</td>\n",
       "      <td>0</td>\n",
       "    </tr>\n",
       "    <tr>\n",
       "      <th>Target</th>\n",
       "      <td>bool</td>\n",
       "      <td>1511527</td>\n",
       "      <td>2</td>\n",
       "      <td>0</td>\n",
       "    </tr>\n",
       "    <tr>\n",
       "      <th>Total_Medicare_payment_amt</th>\n",
       "      <td>float64</td>\n",
       "      <td>1511527</td>\n",
       "      <td>1320040</td>\n",
       "      <td>0</td>\n",
       "    </tr>\n",
       "    <tr>\n",
       "      <th>Total_submitted_chrg_amt</th>\n",
       "      <td>float64</td>\n",
       "      <td>1511527</td>\n",
       "      <td>643986</td>\n",
       "      <td>0</td>\n",
       "    </tr>\n",
       "    <tr>\n",
       "      <th>average_Medicare_standard_amt</th>\n",
       "      <td>float64</td>\n",
       "      <td>1511527</td>\n",
       "      <td>1160785</td>\n",
       "      <td>0</td>\n",
       "    </tr>\n",
       "    <tr>\n",
       "      <th>average_Medicare_payment_amt</th>\n",
       "      <td>float64</td>\n",
       "      <td>1511527</td>\n",
       "      <td>1200350</td>\n",
       "      <td>0</td>\n",
       "    </tr>\n",
       "    <tr>\n",
       "      <th>average_submitted_chrg_amt</th>\n",
       "      <td>float64</td>\n",
       "      <td>1511527</td>\n",
       "      <td>497453</td>\n",
       "      <td>0</td>\n",
       "    </tr>\n",
       "    <tr>\n",
       "      <th>average_Medicare_allowed_amt</th>\n",
       "      <td>float64</td>\n",
       "      <td>1511527</td>\n",
       "      <td>244362</td>\n",
       "      <td>0</td>\n",
       "    </tr>\n",
       "    <tr>\n",
       "      <th>bene_day_srvc_cnt</th>\n",
       "      <td>int64</td>\n",
       "      <td>1511527</td>\n",
       "      <td>4026</td>\n",
       "      <td>0</td>\n",
       "    </tr>\n",
       "    <tr>\n",
       "      <th>bene_unique_cnt</th>\n",
       "      <td>int64</td>\n",
       "      <td>1511527</td>\n",
       "      <td>1774</td>\n",
       "      <td>0</td>\n",
       "    </tr>\n",
       "    <tr>\n",
       "      <th>hcpcs_code</th>\n",
       "      <td>object</td>\n",
       "      <td>1511527</td>\n",
       "      <td>10</td>\n",
       "      <td>0</td>\n",
       "    </tr>\n",
       "    <tr>\n",
       "      <th>hcpcs_drug_indicator</th>\n",
       "      <td>object</td>\n",
       "      <td>1511527</td>\n",
       "      <td>1</td>\n",
       "      <td>0</td>\n",
       "    </tr>\n",
       "    <tr>\n",
       "      <th>hcpcs_description</th>\n",
       "      <td>object</td>\n",
       "      <td>1511527</td>\n",
       "      <td>10</td>\n",
       "      <td>0</td>\n",
       "    </tr>\n",
       "    <tr>\n",
       "      <th>place_of_service</th>\n",
       "      <td>object</td>\n",
       "      <td>1511527</td>\n",
       "      <td>2</td>\n",
       "      <td>0</td>\n",
       "    </tr>\n",
       "    <tr>\n",
       "      <th>provider_type</th>\n",
       "      <td>object</td>\n",
       "      <td>1511527</td>\n",
       "      <td>79</td>\n",
       "      <td>0</td>\n",
       "    </tr>\n",
       "    <tr>\n",
       "      <th>nppes_provider_state</th>\n",
       "      <td>object</td>\n",
       "      <td>1511527</td>\n",
       "      <td>60</td>\n",
       "      <td>0</td>\n",
       "    </tr>\n",
       "    <tr>\n",
       "      <th>nppes_provider_zip</th>\n",
       "      <td>object</td>\n",
       "      <td>1511527</td>\n",
       "      <td>173001</td>\n",
       "      <td>0</td>\n",
       "    </tr>\n",
       "    <tr>\n",
       "      <th>nppes_provider_city</th>\n",
       "      <td>object</td>\n",
       "      <td>1511527</td>\n",
       "      <td>9999</td>\n",
       "      <td>0</td>\n",
       "    </tr>\n",
       "    <tr>\n",
       "      <th>nppes_provider_street1</th>\n",
       "      <td>object</td>\n",
       "      <td>1511527</td>\n",
       "      <td>205864</td>\n",
       "      <td>0</td>\n",
       "    </tr>\n",
       "    <tr>\n",
       "      <th>nppes_entity_code</th>\n",
       "      <td>object</td>\n",
       "      <td>1511527</td>\n",
       "      <td>1</td>\n",
       "      <td>0</td>\n",
       "    </tr>\n",
       "    <tr>\n",
       "      <th>nppes_provider_gender</th>\n",
       "      <td>object</td>\n",
       "      <td>1511527</td>\n",
       "      <td>2</td>\n",
       "      <td>0</td>\n",
       "    </tr>\n",
       "    <tr>\n",
       "      <th>zip</th>\n",
       "      <td>object</td>\n",
       "      <td>1511527</td>\n",
       "      <td>19933</td>\n",
       "      <td>0</td>\n",
       "    </tr>\n",
       "  </tbody>\n",
       "</table>\n",
       "</div>"
      ],
      "text/plain": [
       "                                 dtype    count  nunique missing\n",
       "nppes_provider_street2          object   630950    50820  880577\n",
       "nppes_provider_mi               object  1074841       32  436686\n",
       "nppes_credentials               object  1454916     8427   56611\n",
       "nppes_provider_last_org_name    object  1511501   178903      26\n",
       "nppes_provider_first_name       object  1511503    53565      24\n",
       "npi                              int64  1511527   652280       0\n",
       "line_srvc_cnt                  float64  1511527     4520       0\n",
       "Target                            bool  1511527        2       0\n",
       "Total_Medicare_payment_amt     float64  1511527  1320040       0\n",
       "Total_submitted_chrg_amt       float64  1511527   643986       0\n",
       "average_Medicare_standard_amt  float64  1511527  1160785       0\n",
       "average_Medicare_payment_amt   float64  1511527  1200350       0\n",
       "average_submitted_chrg_amt     float64  1511527   497453       0\n",
       "average_Medicare_allowed_amt   float64  1511527   244362       0\n",
       "bene_day_srvc_cnt                int64  1511527     4026       0\n",
       "bene_unique_cnt                  int64  1511527     1774       0\n",
       "hcpcs_code                      object  1511527       10       0\n",
       "hcpcs_drug_indicator            object  1511527        1       0\n",
       "hcpcs_description               object  1511527       10       0\n",
       "place_of_service                object  1511527        2       0\n",
       "provider_type                   object  1511527       79       0\n",
       "nppes_provider_state            object  1511527       60       0\n",
       "nppes_provider_zip              object  1511527   173001       0\n",
       "nppes_provider_city             object  1511527     9999       0\n",
       "nppes_provider_street1          object  1511527   205864       0\n",
       "nppes_entity_code               object  1511527        1       0\n",
       "nppes_provider_gender           object  1511527        2       0\n",
       "zip                             object  1511527    19933       0"
      ]
     },
     "execution_count": 88,
     "metadata": {},
     "output_type": "execute_result"
    }
   ],
   "source": [
    "summary = df_indiv.agg(['dtype', 'count', 'nunique', lambda x: x.isna().sum()]).rename(index={'<lambda>':'missing'}).T\n",
    "summary.sort_values(by='missing', ascending=False)"
   ]
  },
  {
   "cell_type": "code",
   "execution_count": 81,
   "metadata": {
    "scrolled": true
   },
   "outputs": [
    {
     "data": {
      "text/html": [
       "<div>\n",
       "<style scoped>\n",
       "    .dataframe tbody tr th:only-of-type {\n",
       "        vertical-align: middle;\n",
       "    }\n",
       "\n",
       "    .dataframe tbody tr th {\n",
       "        vertical-align: top;\n",
       "    }\n",
       "\n",
       "    .dataframe thead th {\n",
       "        text-align: right;\n",
       "    }\n",
       "</style>\n",
       "<table border=\"1\" class=\"dataframe\">\n",
       "  <thead>\n",
       "    <tr style=\"text-align: right;\">\n",
       "      <th></th>\n",
       "      <th>dtype</th>\n",
       "      <th>count</th>\n",
       "      <th>nunique</th>\n",
       "      <th>missing</th>\n",
       "    </tr>\n",
       "  </thead>\n",
       "  <tbody>\n",
       "    <tr>\n",
       "      <th>wvrstate</th>\n",
       "      <td>object</td>\n",
       "      <td>5</td>\n",
       "      <td>5</td>\n",
       "      <td>67182</td>\n",
       "    </tr>\n",
       "    <tr>\n",
       "      <th>busname</th>\n",
       "      <td>object</td>\n",
       "      <td>2773</td>\n",
       "      <td>2726</td>\n",
       "      <td>64414</td>\n",
       "    </tr>\n",
       "    <tr>\n",
       "      <th>upin</th>\n",
       "      <td>object</td>\n",
       "      <td>4855</td>\n",
       "      <td>4720</td>\n",
       "      <td>62332</td>\n",
       "    </tr>\n",
       "    <tr>\n",
       "      <th>specialty</th>\n",
       "      <td>object</td>\n",
       "      <td>63110</td>\n",
       "      <td>188</td>\n",
       "      <td>4077</td>\n",
       "    </tr>\n",
       "    <tr>\n",
       "      <th>dob</th>\n",
       "      <td>float64</td>\n",
       "      <td>63545</td>\n",
       "      <td>20255</td>\n",
       "      <td>3642</td>\n",
       "    </tr>\n",
       "    <tr>\n",
       "      <th>lastname</th>\n",
       "      <td>object</td>\n",
       "      <td>64412</td>\n",
       "      <td>26216</td>\n",
       "      <td>2775</td>\n",
       "    </tr>\n",
       "    <tr>\n",
       "      <th>firstname</th>\n",
       "      <td>object</td>\n",
       "      <td>64413</td>\n",
       "      <td>10418</td>\n",
       "      <td>2774</td>\n",
       "    </tr>\n",
       "    <tr>\n",
       "      <th>address</th>\n",
       "      <td>object</td>\n",
       "      <td>67178</td>\n",
       "      <td>63552</td>\n",
       "      <td>9</td>\n",
       "    </tr>\n",
       "    <tr>\n",
       "      <th>state</th>\n",
       "      <td>object</td>\n",
       "      <td>67183</td>\n",
       "      <td>60</td>\n",
       "      <td>4</td>\n",
       "    </tr>\n",
       "    <tr>\n",
       "      <th>city</th>\n",
       "      <td>object</td>\n",
       "      <td>67186</td>\n",
       "      <td>9538</td>\n",
       "      <td>1</td>\n",
       "    </tr>\n",
       "    <tr>\n",
       "      <th>npi</th>\n",
       "      <td>int64</td>\n",
       "      <td>67187</td>\n",
       "      <td>1</td>\n",
       "      <td>0</td>\n",
       "    </tr>\n",
       "    <tr>\n",
       "      <th>general</th>\n",
       "      <td>object</td>\n",
       "      <td>67187</td>\n",
       "      <td>87</td>\n",
       "      <td>0</td>\n",
       "    </tr>\n",
       "    <tr>\n",
       "      <th>zip</th>\n",
       "      <td>object</td>\n",
       "      <td>67187</td>\n",
       "      <td>16736</td>\n",
       "      <td>0</td>\n",
       "    </tr>\n",
       "    <tr>\n",
       "      <th>excltype</th>\n",
       "      <td>object</td>\n",
       "      <td>67187</td>\n",
       "      <td>22</td>\n",
       "      <td>0</td>\n",
       "    </tr>\n",
       "    <tr>\n",
       "      <th>excldate</th>\n",
       "      <td>int64</td>\n",
       "      <td>67187</td>\n",
       "      <td>2156</td>\n",
       "      <td>0</td>\n",
       "    </tr>\n",
       "    <tr>\n",
       "      <th>reindate</th>\n",
       "      <td>int64</td>\n",
       "      <td>67187</td>\n",
       "      <td>1</td>\n",
       "      <td>0</td>\n",
       "    </tr>\n",
       "    <tr>\n",
       "      <th>waiverdate</th>\n",
       "      <td>int64</td>\n",
       "      <td>67187</td>\n",
       "      <td>7</td>\n",
       "      <td>0</td>\n",
       "    </tr>\n",
       "    <tr>\n",
       "      <th>midname</th>\n",
       "      <td>object</td>\n",
       "      <td>67187</td>\n",
       "      <td>7613</td>\n",
       "      <td>0</td>\n",
       "    </tr>\n",
       "    <tr>\n",
       "      <th>exyear</th>\n",
       "      <td>int64</td>\n",
       "      <td>67187</td>\n",
       "      <td>43</td>\n",
       "      <td>0</td>\n",
       "    </tr>\n",
       "    <tr>\n",
       "      <th>exmonth</th>\n",
       "      <td>int64</td>\n",
       "      <td>67187</td>\n",
       "      <td>12</td>\n",
       "      <td>0</td>\n",
       "    </tr>\n",
       "  </tbody>\n",
       "</table>\n",
       "</div>"
      ],
      "text/plain": [
       "              dtype  count nunique missing\n",
       "wvrstate     object      5       5   67182\n",
       "busname      object   2773    2726   64414\n",
       "upin         object   4855    4720   62332\n",
       "specialty    object  63110     188    4077\n",
       "dob         float64  63545   20255    3642\n",
       "lastname     object  64412   26216    2775\n",
       "firstname    object  64413   10418    2774\n",
       "address      object  67178   63552       9\n",
       "state        object  67183      60       4\n",
       "city         object  67186    9538       1\n",
       "npi           int64  67187       1       0\n",
       "general      object  67187      87       0\n",
       "zip          object  67187   16736       0\n",
       "excltype     object  67187      22       0\n",
       "excldate      int64  67187    2156       0\n",
       "reindate      int64  67187       1       0\n",
       "waiverdate    int64  67187       7       0\n",
       "midname      object  67187    7613       0\n",
       "exyear        int64  67187      43       0\n",
       "exmonth       int64  67187      12       0"
      ]
     },
     "execution_count": 81,
     "metadata": {},
     "output_type": "execute_result"
    }
   ],
   "source": [
    "summary = LEIE_0.agg(['dtype', 'count', 'nunique', lambda x: x.isna().sum()]).rename(index={'<lambda>':'missing'}).T\n",
    "summary.sort_values(by='missing', ascending=False)"
   ]
  },
  {
   "cell_type": "code",
   "execution_count": 83,
   "metadata": {},
   "outputs": [],
   "source": [
    "LEIE_indiv = LEIE_0[LEIE_0.busname.isnull()]\n",
    "LEIE_org = LEIE_0[LEIE_0.busname.notnull()]"
   ]
  },
  {
   "cell_type": "code",
   "execution_count": 84,
   "metadata": {},
   "outputs": [
    {
     "data": {
      "text/html": [
       "<div>\n",
       "<style scoped>\n",
       "    .dataframe tbody tr th:only-of-type {\n",
       "        vertical-align: middle;\n",
       "    }\n",
       "\n",
       "    .dataframe tbody tr th {\n",
       "        vertical-align: top;\n",
       "    }\n",
       "\n",
       "    .dataframe thead th {\n",
       "        text-align: right;\n",
       "    }\n",
       "</style>\n",
       "<table border=\"1\" class=\"dataframe\">\n",
       "  <thead>\n",
       "    <tr style=\"text-align: right;\">\n",
       "      <th></th>\n",
       "      <th>lastname</th>\n",
       "      <th>firstname</th>\n",
       "      <th>midname</th>\n",
       "      <th>busname</th>\n",
       "      <th>general</th>\n",
       "      <th>specialty</th>\n",
       "      <th>upin</th>\n",
       "      <th>npi</th>\n",
       "      <th>dob</th>\n",
       "      <th>address</th>\n",
       "      <th>city</th>\n",
       "      <th>state</th>\n",
       "      <th>zip</th>\n",
       "      <th>excltype</th>\n",
       "      <th>excldate</th>\n",
       "      <th>reindate</th>\n",
       "      <th>waiverdate</th>\n",
       "      <th>wvrstate</th>\n",
       "      <th>exyear</th>\n",
       "      <th>exmonth</th>\n",
       "    </tr>\n",
       "  </thead>\n",
       "  <tbody>\n",
       "    <tr>\n",
       "      <th>3108</th>\n",
       "      <td>AALDERS</td>\n",
       "      <td>NANCY</td>\n",
       "      <td>BLOCK</td>\n",
       "      <td>NaN</td>\n",
       "      <td>HOSPITAL</td>\n",
       "      <td>NURSE/NURSES AIDE</td>\n",
       "      <td>NaN</td>\n",
       "      <td>0</td>\n",
       "      <td>19640305.0</td>\n",
       "      <td>9527 SOUTH KENTON</td>\n",
       "      <td>OAK LAWN</td>\n",
       "      <td>IL</td>\n",
       "      <td>60453</td>\n",
       "      <td>1128b4</td>\n",
       "      <td>20030820</td>\n",
       "      <td>0</td>\n",
       "      <td>0</td>\n",
       "      <td>NaN</td>\n",
       "      <td>2003</td>\n",
       "      <td>8</td>\n",
       "    </tr>\n",
       "    <tr>\n",
       "      <th>3109</th>\n",
       "      <td>AALTONEN</td>\n",
       "      <td>NICKOLAS</td>\n",
       "      <td>A</td>\n",
       "      <td>NaN</td>\n",
       "      <td>IND- LIC HC SERV PRO</td>\n",
       "      <td>PHARMACY TECHNICIAN</td>\n",
       "      <td>NaN</td>\n",
       "      <td>0</td>\n",
       "      <td>19880123.0</td>\n",
       "      <td>32 W PACIFIC AVE</td>\n",
       "      <td>SPOKANE</td>\n",
       "      <td>WA</td>\n",
       "      <td>99201</td>\n",
       "      <td>1128a4</td>\n",
       "      <td>20120419</td>\n",
       "      <td>0</td>\n",
       "      <td>0</td>\n",
       "      <td>NaN</td>\n",
       "      <td>2012</td>\n",
       "      <td>4</td>\n",
       "    </tr>\n",
       "    <tr>\n",
       "      <th>3110</th>\n",
       "      <td>AAMIR</td>\n",
       "      <td>MUHAMMAD</td>\n",
       "      <td>SOHAIL</td>\n",
       "      <td>NaN</td>\n",
       "      <td>BUS OWNER/EXEC</td>\n",
       "      <td>HOME HEALTH AGENCY</td>\n",
       "      <td>NaN</td>\n",
       "      <td>0</td>\n",
       "      <td>19700910.0</td>\n",
       "      <td>3956 COLUMBIA COURT</td>\n",
       "      <td>BLOOMFIELD HILLS</td>\n",
       "      <td>MI</td>\n",
       "      <td>48302</td>\n",
       "      <td>1128a1</td>\n",
       "      <td>20170220</td>\n",
       "      <td>0</td>\n",
       "      <td>0</td>\n",
       "      <td>NaN</td>\n",
       "      <td>2017</td>\n",
       "      <td>2</td>\n",
       "    </tr>\n",
       "    <tr>\n",
       "      <th>3111</th>\n",
       "      <td>AARON</td>\n",
       "      <td>ALINA</td>\n",
       "      <td>A</td>\n",
       "      <td>NaN</td>\n",
       "      <td>IND- LIC HC SERV PRO</td>\n",
       "      <td>NURSE/NURSES AIDE</td>\n",
       "      <td>NaN</td>\n",
       "      <td>0</td>\n",
       "      <td>19870209.0</td>\n",
       "      <td>3325 N ROSE CIRCLE DRIVE</td>\n",
       "      <td>PHOENIX</td>\n",
       "      <td>AZ</td>\n",
       "      <td>85018</td>\n",
       "      <td>1128b4</td>\n",
       "      <td>20171019</td>\n",
       "      <td>0</td>\n",
       "      <td>0</td>\n",
       "      <td>NaN</td>\n",
       "      <td>2017</td>\n",
       "      <td>10</td>\n",
       "    </tr>\n",
       "    <tr>\n",
       "      <th>3112</th>\n",
       "      <td>AARON</td>\n",
       "      <td>BARBARA</td>\n",
       "      <td>KAY</td>\n",
       "      <td>NaN</td>\n",
       "      <td>NURSING PROFESSION</td>\n",
       "      <td>NURSE/NURSES AIDE</td>\n",
       "      <td>NaN</td>\n",
       "      <td>0</td>\n",
       "      <td>19650914.0</td>\n",
       "      <td>5911 OLD PINEYWOODS RD</td>\n",
       "      <td>JASPER</td>\n",
       "      <td>AL</td>\n",
       "      <td>35504</td>\n",
       "      <td>1128b4</td>\n",
       "      <td>20061120</td>\n",
       "      <td>0</td>\n",
       "      <td>0</td>\n",
       "      <td>NaN</td>\n",
       "      <td>2006</td>\n",
       "      <td>11</td>\n",
       "    </tr>\n",
       "  </tbody>\n",
       "</table>\n",
       "</div>"
      ],
      "text/plain": [
       "      lastname firstname  midname busname               general  \\\n",
       "3108   AALDERS     NANCY   BLOCK      NaN              HOSPITAL   \n",
       "3109  AALTONEN  NICKOLAS       A      NaN  IND- LIC HC SERV PRO   \n",
       "3110     AAMIR  MUHAMMAD  SOHAIL      NaN        BUS OWNER/EXEC   \n",
       "3111     AARON     ALINA       A      NaN  IND- LIC HC SERV PRO   \n",
       "3112     AARON   BARBARA     KAY      NaN    NURSING PROFESSION   \n",
       "\n",
       "                specialty upin  npi         dob                   address  \\\n",
       "3108    NURSE/NURSES AIDE  NaN    0  19640305.0         9527 SOUTH KENTON   \n",
       "3109  PHARMACY TECHNICIAN  NaN    0  19880123.0          32 W PACIFIC AVE   \n",
       "3110   HOME HEALTH AGENCY  NaN    0  19700910.0       3956 COLUMBIA COURT   \n",
       "3111    NURSE/NURSES AIDE  NaN    0  19870209.0  3325 N ROSE CIRCLE DRIVE   \n",
       "3112    NURSE/NURSES AIDE  NaN    0  19650914.0    5911 OLD PINEYWOODS RD   \n",
       "\n",
       "                  city state    zip excltype  excldate  reindate  waiverdate  \\\n",
       "3108          OAK LAWN    IL  60453   1128b4  20030820         0           0   \n",
       "3109           SPOKANE    WA  99201   1128a4  20120419         0           0   \n",
       "3110  BLOOMFIELD HILLS    MI  48302   1128a1  20170220         0           0   \n",
       "3111           PHOENIX    AZ  85018   1128b4  20171019         0           0   \n",
       "3112            JASPER    AL  35504   1128b4  20061120         0           0   \n",
       "\n",
       "     wvrstate  exyear  exmonth  \n",
       "3108      NaN    2003        8  \n",
       "3109      NaN    2012        4  \n",
       "3110      NaN    2017        2  \n",
       "3111      NaN    2017       10  \n",
       "3112      NaN    2006       11  "
      ]
     },
     "execution_count": 84,
     "metadata": {},
     "output_type": "execute_result"
    }
   ],
   "source": [
    "LEIE_indiv.head()"
   ]
  },
  {
   "cell_type": "code",
   "execution_count": 85,
   "metadata": {},
   "outputs": [
    {
     "data": {
      "text/html": [
       "<div>\n",
       "<style scoped>\n",
       "    .dataframe tbody tr th:only-of-type {\n",
       "        vertical-align: middle;\n",
       "    }\n",
       "\n",
       "    .dataframe tbody tr th {\n",
       "        vertical-align: top;\n",
       "    }\n",
       "\n",
       "    .dataframe thead th {\n",
       "        text-align: right;\n",
       "    }\n",
       "</style>\n",
       "<table border=\"1\" class=\"dataframe\">\n",
       "  <thead>\n",
       "    <tr style=\"text-align: right;\">\n",
       "      <th></th>\n",
       "      <th>dtype</th>\n",
       "      <th>count</th>\n",
       "      <th>nunique</th>\n",
       "      <th>missing</th>\n",
       "    </tr>\n",
       "  </thead>\n",
       "  <tbody>\n",
       "    <tr>\n",
       "      <th>busname</th>\n",
       "      <td>object</td>\n",
       "      <td>0</td>\n",
       "      <td>0</td>\n",
       "      <td>64414</td>\n",
       "    </tr>\n",
       "    <tr>\n",
       "      <th>wvrstate</th>\n",
       "      <td>object</td>\n",
       "      <td>5</td>\n",
       "      <td>5</td>\n",
       "      <td>64409</td>\n",
       "    </tr>\n",
       "    <tr>\n",
       "      <th>upin</th>\n",
       "      <td>object</td>\n",
       "      <td>4847</td>\n",
       "      <td>4714</td>\n",
       "      <td>59567</td>\n",
       "    </tr>\n",
       "    <tr>\n",
       "      <th>specialty</th>\n",
       "      <td>object</td>\n",
       "      <td>62552</td>\n",
       "      <td>185</td>\n",
       "      <td>1862</td>\n",
       "    </tr>\n",
       "    <tr>\n",
       "      <th>dob</th>\n",
       "      <td>float64</td>\n",
       "      <td>63545</td>\n",
       "      <td>20255</td>\n",
       "      <td>869</td>\n",
       "    </tr>\n",
       "    <tr>\n",
       "      <th>state</th>\n",
       "      <td>object</td>\n",
       "      <td>64410</td>\n",
       "      <td>60</td>\n",
       "      <td>4</td>\n",
       "    </tr>\n",
       "    <tr>\n",
       "      <th>address</th>\n",
       "      <td>object</td>\n",
       "      <td>64411</td>\n",
       "      <td>61541</td>\n",
       "      <td>3</td>\n",
       "    </tr>\n",
       "    <tr>\n",
       "      <th>lastname</th>\n",
       "      <td>object</td>\n",
       "      <td>64412</td>\n",
       "      <td>26216</td>\n",
       "      <td>2</td>\n",
       "    </tr>\n",
       "    <tr>\n",
       "      <th>firstname</th>\n",
       "      <td>object</td>\n",
       "      <td>64413</td>\n",
       "      <td>10418</td>\n",
       "      <td>1</td>\n",
       "    </tr>\n",
       "    <tr>\n",
       "      <th>city</th>\n",
       "      <td>object</td>\n",
       "      <td>64413</td>\n",
       "      <td>9455</td>\n",
       "      <td>1</td>\n",
       "    </tr>\n",
       "    <tr>\n",
       "      <th>npi</th>\n",
       "      <td>int64</td>\n",
       "      <td>64414</td>\n",
       "      <td>1</td>\n",
       "      <td>0</td>\n",
       "    </tr>\n",
       "    <tr>\n",
       "      <th>general</th>\n",
       "      <td>object</td>\n",
       "      <td>64414</td>\n",
       "      <td>85</td>\n",
       "      <td>0</td>\n",
       "    </tr>\n",
       "    <tr>\n",
       "      <th>zip</th>\n",
       "      <td>object</td>\n",
       "      <td>64414</td>\n",
       "      <td>16589</td>\n",
       "      <td>0</td>\n",
       "    </tr>\n",
       "    <tr>\n",
       "      <th>excltype</th>\n",
       "      <td>object</td>\n",
       "      <td>64414</td>\n",
       "      <td>22</td>\n",
       "      <td>0</td>\n",
       "    </tr>\n",
       "    <tr>\n",
       "      <th>excldate</th>\n",
       "      <td>int64</td>\n",
       "      <td>64414</td>\n",
       "      <td>2033</td>\n",
       "      <td>0</td>\n",
       "    </tr>\n",
       "    <tr>\n",
       "      <th>reindate</th>\n",
       "      <td>int64</td>\n",
       "      <td>64414</td>\n",
       "      <td>1</td>\n",
       "      <td>0</td>\n",
       "    </tr>\n",
       "    <tr>\n",
       "      <th>waiverdate</th>\n",
       "      <td>int64</td>\n",
       "      <td>64414</td>\n",
       "      <td>7</td>\n",
       "      <td>0</td>\n",
       "    </tr>\n",
       "    <tr>\n",
       "      <th>midname</th>\n",
       "      <td>object</td>\n",
       "      <td>64414</td>\n",
       "      <td>7613</td>\n",
       "      <td>0</td>\n",
       "    </tr>\n",
       "    <tr>\n",
       "      <th>exyear</th>\n",
       "      <td>int64</td>\n",
       "      <td>64414</td>\n",
       "      <td>43</td>\n",
       "      <td>0</td>\n",
       "    </tr>\n",
       "    <tr>\n",
       "      <th>exmonth</th>\n",
       "      <td>int64</td>\n",
       "      <td>64414</td>\n",
       "      <td>12</td>\n",
       "      <td>0</td>\n",
       "    </tr>\n",
       "  </tbody>\n",
       "</table>\n",
       "</div>"
      ],
      "text/plain": [
       "              dtype  count nunique missing\n",
       "busname      object      0       0   64414\n",
       "wvrstate     object      5       5   64409\n",
       "upin         object   4847    4714   59567\n",
       "specialty    object  62552     185    1862\n",
       "dob         float64  63545   20255     869\n",
       "state        object  64410      60       4\n",
       "address      object  64411   61541       3\n",
       "lastname     object  64412   26216       2\n",
       "firstname    object  64413   10418       1\n",
       "city         object  64413    9455       1\n",
       "npi           int64  64414       1       0\n",
       "general      object  64414      85       0\n",
       "zip          object  64414   16589       0\n",
       "excltype     object  64414      22       0\n",
       "excldate      int64  64414    2033       0\n",
       "reindate      int64  64414       1       0\n",
       "waiverdate    int64  64414       7       0\n",
       "midname      object  64414    7613       0\n",
       "exyear        int64  64414      43       0\n",
       "exmonth       int64  64414      12       0"
      ]
     },
     "execution_count": 85,
     "metadata": {},
     "output_type": "execute_result"
    }
   ],
   "source": [
    "summary = LEIE_indiv.agg(['dtype', 'count', 'nunique', lambda x: x.isna().sum()]).rename(index={'<lambda>':'missing'}).T\n",
    "summary.sort_values(by='missing', ascending=False)"
   ]
  },
  {
   "cell_type": "code",
   "execution_count": 27,
   "metadata": {
    "scrolled": false
   },
   "outputs": [],
   "source": [
    "x = LEIE['npi'].value_counts()"
   ]
  },
  {
   "cell_type": "code",
   "execution_count": 28,
   "metadata": {
    "scrolled": true
   },
   "outputs": [
    {
     "data": {
      "text/plain": [
       "1        5069\n",
       "2          97\n",
       "3           2\n",
       "67207       1\n",
       "Name: npi, dtype: int64"
      ]
     },
     "execution_count": 28,
     "metadata": {},
     "output_type": "execute_result"
    }
   ],
   "source": [
    "x.value_counts()"
   ]
  },
  {
   "cell_type": "code",
   "execution_count": 29,
   "metadata": {},
   "outputs": [
    {
     "data": {
      "text/plain": [
       "(5269, 18)"
      ]
     },
     "execution_count": 29,
     "metadata": {},
     "output_type": "execute_result"
    }
   ],
   "source": [
    "LEIE[LEIE['npi']!=0].shape"
   ]
  },
  {
   "cell_type": "code",
   "execution_count": 30,
   "metadata": {},
   "outputs": [
    {
     "data": {
      "text/plain": [
       "(67207, 18)"
      ]
     },
     "execution_count": 30,
     "metadata": {},
     "output_type": "execute_result"
    }
   ],
   "source": [
    "LEIE[LEIE['npi']==0].shape"
   ]
  },
  {
   "cell_type": "code",
   "execution_count": 31,
   "metadata": {},
   "outputs": [
    {
     "data": {
      "text/plain": [
       "(72476, 18)"
      ]
     },
     "execution_count": 31,
     "metadata": {},
     "output_type": "execute_result"
    }
   ],
   "source": [
    "LEIE.shape"
   ]
  },
  {
   "cell_type": "code",
   "execution_count": 32,
   "metadata": {},
   "outputs": [
    {
     "data": {
      "text/plain": [
       "Index(['lastname', 'firstname', 'midname', 'busname', 'general', 'specialty',\n",
       "       'upin', 'npi', 'dob', 'address', 'city', 'state', 'zip', 'excltype',\n",
       "       'excldate', 'reindate', 'waiverdate', 'wvrstate'],\n",
       "      dtype='object')"
      ]
     },
     "execution_count": 32,
     "metadata": {},
     "output_type": "execute_result"
    }
   ],
   "source": [
    "LEIE.columns"
   ]
  },
  {
   "cell_type": "code",
   "execution_count": 33,
   "metadata": {},
   "outputs": [],
   "source": [
    "LEIE['excltype'] = LEIE['excltype'].str.strip()"
   ]
  },
  {
   "cell_type": "markdown",
   "metadata": {},
   "source": [
    "## Matching npi"
   ]
  },
  {
   "cell_type": "code",
   "execution_count": 34,
   "metadata": {},
   "outputs": [
    {
     "data": {
      "text/plain": [
       "(101, 18)"
      ]
     },
     "execution_count": 34,
     "metadata": {},
     "output_type": "execute_result"
    }
   ],
   "source": [
    "x = LEIE[LEIE['npi']!=0]\n",
    "x[x.npi.duplicated()].shape #101 duplicated npis"
   ]
  },
  {
   "cell_type": "code",
   "execution_count": 35,
   "metadata": {},
   "outputs": [
    {
     "data": {
      "text/plain": [
       "5269"
      ]
     },
     "execution_count": 35,
     "metadata": {},
     "output_type": "execute_result"
    }
   ],
   "source": [
    "LEIE[LEIE.npi!=0].shape[0] #5269 npis not zero"
   ]
  },
  {
   "cell_type": "code",
   "execution_count": 36,
   "metadata": {},
   "outputs": [
    {
     "data": {
      "text/plain": [
       "5169"
      ]
     },
     "execution_count": 36,
     "metadata": {},
     "output_type": "execute_result"
    }
   ],
   "source": [
    "LEIE.npi.nunique() #5169 unique npi"
   ]
  },
  {
   "cell_type": "code",
   "execution_count": 37,
   "metadata": {},
   "outputs": [
    {
     "data": {
      "text/plain": [
       "(5169, 18)"
      ]
     },
     "execution_count": 37,
     "metadata": {},
     "output_type": "execute_result"
    }
   ],
   "source": [
    "#drop all duplicated npi\n",
    "LEIE_uniquenpi = LEIE.drop_duplicates(subset='npi')\n",
    "LEIE_uniquenpi.shape"
   ]
  },
  {
   "cell_type": "code",
   "execution_count": 38,
   "metadata": {
    "scrolled": true
   },
   "outputs": [],
   "source": [
    "npi_same = pd.merge(df, LEIE_uniquenpi, how='inner',on='npi').npi.values"
   ]
  },
  {
   "cell_type": "code",
   "execution_count": 39,
   "metadata": {},
   "outputs": [],
   "source": [
    "df['Target'] = df.npi.isin(npi_same) #add label column"
   ]
  },
  {
   "cell_type": "code",
   "execution_count": 40,
   "metadata": {},
   "outputs": [
    {
     "data": {
      "text/plain": [
       "(278, 29)"
      ]
     },
     "execution_count": 40,
     "metadata": {},
     "output_type": "execute_result"
    }
   ],
   "source": [
    "#only 278 npi's matched!\n",
    "df[df.npi.isin(npi_same)].shape"
   ]
  },
  {
   "cell_type": "code",
   "execution_count": 41,
   "metadata": {
    "scrolled": true
   },
   "outputs": [
    {
     "data": {
      "text/html": [
       "<div>\n",
       "<style scoped>\n",
       "    .dataframe tbody tr th:only-of-type {\n",
       "        vertical-align: middle;\n",
       "    }\n",
       "\n",
       "    .dataframe tbody tr th {\n",
       "        vertical-align: top;\n",
       "    }\n",
       "\n",
       "    .dataframe thead th {\n",
       "        text-align: right;\n",
       "    }\n",
       "</style>\n",
       "<table border=\"1\" class=\"dataframe\">\n",
       "  <thead>\n",
       "    <tr style=\"text-align: right;\">\n",
       "      <th></th>\n",
       "      <th>npi</th>\n",
       "      <th>nppes_provider_last_org_name</th>\n",
       "      <th>nppes_provider_first_name</th>\n",
       "      <th>nppes_provider_mi</th>\n",
       "      <th>nppes_credentials</th>\n",
       "      <th>nppes_provider_gender</th>\n",
       "      <th>nppes_entity_code</th>\n",
       "      <th>nppes_provider_street1</th>\n",
       "      <th>nppes_provider_street2</th>\n",
       "      <th>nppes_provider_city</th>\n",
       "      <th>nppes_provider_zip</th>\n",
       "      <th>nppes_provider_state</th>\n",
       "      <th>nppes_provider_country</th>\n",
       "      <th>provider_type</th>\n",
       "      <th>medicare_participation_indicator</th>\n",
       "      <th>place_of_service</th>\n",
       "      <th>hcpcs_code</th>\n",
       "      <th>hcpcs_description</th>\n",
       "      <th>hcpcs_drug_indicator</th>\n",
       "      <th>line_srvc_cnt</th>\n",
       "      <th>bene_unique_cnt</th>\n",
       "      <th>bene_day_srvc_cnt</th>\n",
       "      <th>average_Medicare_allowed_amt</th>\n",
       "      <th>average_submitted_chrg_amt</th>\n",
       "      <th>average_Medicare_payment_amt</th>\n",
       "      <th>average_Medicare_standard_amt</th>\n",
       "      <th>Total_submitted_chrg_amt</th>\n",
       "      <th>Total_Medicare_payment_amt</th>\n",
       "      <th>Target</th>\n",
       "    </tr>\n",
       "  </thead>\n",
       "  <tbody>\n",
       "    <tr>\n",
       "      <th>384073</th>\n",
       "      <td>1033519392</td>\n",
       "      <td>KIDDER</td>\n",
       "      <td>JOELLE</td>\n",
       "      <td>M</td>\n",
       "      <td>PA-C</td>\n",
       "      <td>F</td>\n",
       "      <td>I</td>\n",
       "      <td>1150 N INDIAN CANYON DR</td>\n",
       "      <td>NaN</td>\n",
       "      <td>PALM SPRINGS</td>\n",
       "      <td>92262</td>\n",
       "      <td>CA</td>\n",
       "      <td>US</td>\n",
       "      <td>Physician Assistant</td>\n",
       "      <td>Y</td>\n",
       "      <td>F</td>\n",
       "      <td>99284</td>\n",
       "      <td>Emergency department visit, problem of high se...</td>\n",
       "      <td>N</td>\n",
       "      <td>23.0</td>\n",
       "      <td>23</td>\n",
       "      <td>23</td>\n",
       "      <td>101.153043</td>\n",
       "      <td>450.869565</td>\n",
       "      <td>74.415217</td>\n",
       "      <td>74.530435</td>\n",
       "      <td>10370.000000</td>\n",
       "      <td>1711.55</td>\n",
       "      <td>False</td>\n",
       "    </tr>\n",
       "    <tr>\n",
       "      <th>5304049</th>\n",
       "      <td>1538381074</td>\n",
       "      <td>LIVERMORE</td>\n",
       "      <td>RYAN</td>\n",
       "      <td>W</td>\n",
       "      <td>MD</td>\n",
       "      <td>M</td>\n",
       "      <td>I</td>\n",
       "      <td>1923 N WEBB RD</td>\n",
       "      <td>NaN</td>\n",
       "      <td>WICHITA</td>\n",
       "      <td>67206</td>\n",
       "      <td>KS</td>\n",
       "      <td>US</td>\n",
       "      <td>Orthopedic Surgery</td>\n",
       "      <td>Y</td>\n",
       "      <td>O</td>\n",
       "      <td>99214</td>\n",
       "      <td>Established patient office or other outpatient...</td>\n",
       "      <td>N</td>\n",
       "      <td>84.0</td>\n",
       "      <td>75</td>\n",
       "      <td>84</td>\n",
       "      <td>102.670000</td>\n",
       "      <td>192.726190</td>\n",
       "      <td>72.056190</td>\n",
       "      <td>80.325357</td>\n",
       "      <td>16189.000000</td>\n",
       "      <td>6052.72</td>\n",
       "      <td>False</td>\n",
       "    </tr>\n",
       "    <tr>\n",
       "      <th>5552155</th>\n",
       "      <td>1568460442</td>\n",
       "      <td>BIEHL</td>\n",
       "      <td>AMY</td>\n",
       "      <td>W</td>\n",
       "      <td>P.A.C.</td>\n",
       "      <td>F</td>\n",
       "      <td>I</td>\n",
       "      <td>410 2ND ST</td>\n",
       "      <td>NaN</td>\n",
       "      <td>MARIETTA</td>\n",
       "      <td>457502115</td>\n",
       "      <td>OH</td>\n",
       "      <td>US</td>\n",
       "      <td>Physician Assistant</td>\n",
       "      <td>Y</td>\n",
       "      <td>O</td>\n",
       "      <td>99213</td>\n",
       "      <td>Established patient office or other outpatient...</td>\n",
       "      <td>N</td>\n",
       "      <td>18.0</td>\n",
       "      <td>16</td>\n",
       "      <td>18</td>\n",
       "      <td>42.930000</td>\n",
       "      <td>148.148889</td>\n",
       "      <td>29.911111</td>\n",
       "      <td>30.722222</td>\n",
       "      <td>2666.680000</td>\n",
       "      <td>538.40</td>\n",
       "      <td>False</td>\n",
       "    </tr>\n",
       "    <tr>\n",
       "      <th>1004222</th>\n",
       "      <td>1104166339</td>\n",
       "      <td>VEKARIYA</td>\n",
       "      <td>BHAVESH</td>\n",
       "      <td>NaN</td>\n",
       "      <td>M.D.</td>\n",
       "      <td>M</td>\n",
       "      <td>I</td>\n",
       "      <td>1350 HICKORY ST</td>\n",
       "      <td>NaN</td>\n",
       "      <td>MELBOURNE</td>\n",
       "      <td>329013224</td>\n",
       "      <td>FL</td>\n",
       "      <td>US</td>\n",
       "      <td>Internal Medicine</td>\n",
       "      <td>Y</td>\n",
       "      <td>F</td>\n",
       "      <td>99233</td>\n",
       "      <td>Subsequent hospital inpatient care, typically ...</td>\n",
       "      <td>N</td>\n",
       "      <td>230.0</td>\n",
       "      <td>143</td>\n",
       "      <td>230</td>\n",
       "      <td>106.290000</td>\n",
       "      <td>214.591304</td>\n",
       "      <td>82.844565</td>\n",
       "      <td>82.517435</td>\n",
       "      <td>49356.000000</td>\n",
       "      <td>19054.25</td>\n",
       "      <td>False</td>\n",
       "    </tr>\n",
       "    <tr>\n",
       "      <th>4065171</th>\n",
       "      <td>1417148081</td>\n",
       "      <td>YONGKUMA</td>\n",
       "      <td>YONGKUMA</td>\n",
       "      <td>C</td>\n",
       "      <td>M.D</td>\n",
       "      <td>M</td>\n",
       "      <td>I</td>\n",
       "      <td>1212 E THREE NOTCH ST</td>\n",
       "      <td>NaN</td>\n",
       "      <td>ANDALUSIA</td>\n",
       "      <td>364203402</td>\n",
       "      <td>AL</td>\n",
       "      <td>US</td>\n",
       "      <td>Internal Medicine</td>\n",
       "      <td>Y</td>\n",
       "      <td>F</td>\n",
       "      <td>99233</td>\n",
       "      <td>Subsequent hospital inpatient care, typically ...</td>\n",
       "      <td>N</td>\n",
       "      <td>501.0</td>\n",
       "      <td>264</td>\n",
       "      <td>501</td>\n",
       "      <td>98.350000</td>\n",
       "      <td>150.443114</td>\n",
       "      <td>74.687305</td>\n",
       "      <td>82.268862</td>\n",
       "      <td>75371.999999</td>\n",
       "      <td>37418.34</td>\n",
       "      <td>False</td>\n",
       "    </tr>\n",
       "  </tbody>\n",
       "</table>\n",
       "</div>"
      ],
      "text/plain": [
       "                npi nppes_provider_last_org_name nppes_provider_first_name  \\\n",
       "384073   1033519392                       KIDDER                    JOELLE   \n",
       "5304049  1538381074                    LIVERMORE                      RYAN   \n",
       "5552155  1568460442                        BIEHL                       AMY   \n",
       "1004222  1104166339                     VEKARIYA                   BHAVESH   \n",
       "4065171  1417148081                     YONGKUMA                  YONGKUMA   \n",
       "\n",
       "        nppes_provider_mi nppes_credentials nppes_provider_gender  \\\n",
       "384073                  M              PA-C                     F   \n",
       "5304049                 W                MD                     M   \n",
       "5552155                 W            P.A.C.                     F   \n",
       "1004222               NaN              M.D.                     M   \n",
       "4065171                 C               M.D                     M   \n",
       "\n",
       "        nppes_entity_code   nppes_provider_street1 nppes_provider_street2  \\\n",
       "384073                  I  1150 N INDIAN CANYON DR                    NaN   \n",
       "5304049                 I           1923 N WEBB RD                    NaN   \n",
       "5552155                 I               410 2ND ST                    NaN   \n",
       "1004222                 I          1350 HICKORY ST                    NaN   \n",
       "4065171                 I    1212 E THREE NOTCH ST                    NaN   \n",
       "\n",
       "        nppes_provider_city nppes_provider_zip nppes_provider_state  \\\n",
       "384073         PALM SPRINGS              92262                   CA   \n",
       "5304049             WICHITA              67206                   KS   \n",
       "5552155            MARIETTA          457502115                   OH   \n",
       "1004222           MELBOURNE          329013224                   FL   \n",
       "4065171           ANDALUSIA          364203402                   AL   \n",
       "\n",
       "        nppes_provider_country        provider_type  \\\n",
       "384073                      US  Physician Assistant   \n",
       "5304049                     US   Orthopedic Surgery   \n",
       "5552155                     US  Physician Assistant   \n",
       "1004222                     US    Internal Medicine   \n",
       "4065171                     US    Internal Medicine   \n",
       "\n",
       "        medicare_participation_indicator place_of_service hcpcs_code  \\\n",
       "384073                                 Y                F      99284   \n",
       "5304049                                Y                O      99214   \n",
       "5552155                                Y                O      99213   \n",
       "1004222                                Y                F      99233   \n",
       "4065171                                Y                F      99233   \n",
       "\n",
       "                                         hcpcs_description  \\\n",
       "384073   Emergency department visit, problem of high se...   \n",
       "5304049  Established patient office or other outpatient...   \n",
       "5552155  Established patient office or other outpatient...   \n",
       "1004222  Subsequent hospital inpatient care, typically ...   \n",
       "4065171  Subsequent hospital inpatient care, typically ...   \n",
       "\n",
       "        hcpcs_drug_indicator  line_srvc_cnt  bene_unique_cnt  \\\n",
       "384073                     N           23.0               23   \n",
       "5304049                    N           84.0               75   \n",
       "5552155                    N           18.0               16   \n",
       "1004222                    N          230.0              143   \n",
       "4065171                    N          501.0              264   \n",
       "\n",
       "         bene_day_srvc_cnt  average_Medicare_allowed_amt  \\\n",
       "384073                  23                    101.153043   \n",
       "5304049                 84                    102.670000   \n",
       "5552155                 18                     42.930000   \n",
       "1004222                230                    106.290000   \n",
       "4065171                501                     98.350000   \n",
       "\n",
       "         average_submitted_chrg_amt  average_Medicare_payment_amt  \\\n",
       "384073                   450.869565                     74.415217   \n",
       "5304049                  192.726190                     72.056190   \n",
       "5552155                  148.148889                     29.911111   \n",
       "1004222                  214.591304                     82.844565   \n",
       "4065171                  150.443114                     74.687305   \n",
       "\n",
       "         average_Medicare_standard_amt  Total_submitted_chrg_amt  \\\n",
       "384073                       74.530435              10370.000000   \n",
       "5304049                      80.325357              16189.000000   \n",
       "5552155                      30.722222               2666.680000   \n",
       "1004222                      82.517435              49356.000000   \n",
       "4065171                      82.268862              75371.999999   \n",
       "\n",
       "         Total_Medicare_payment_amt  Target  \n",
       "384073                      1711.55   False  \n",
       "5304049                     6052.72   False  \n",
       "5552155                      538.40   False  \n",
       "1004222                    19054.25   False  \n",
       "4065171                    37418.34   False  "
      ]
     },
     "execution_count": 41,
     "metadata": {},
     "output_type": "execute_result"
    }
   ],
   "source": [
    "df.sample(5)"
   ]
  },
  {
   "cell_type": "code",
   "execution_count": 42,
   "metadata": {},
   "outputs": [
    {
     "data": {
      "text/plain": [
       "Index(['lastname', 'firstname', 'midname', 'busname', 'general', 'specialty',\n",
       "       'upin', 'npi', 'dob', 'address', 'city', 'state', 'zip', 'excltype',\n",
       "       'excldate', 'reindate', 'waiverdate', 'wvrstate'],\n",
       "      dtype='object')"
      ]
     },
     "execution_count": 42,
     "metadata": {},
     "output_type": "execute_result"
    }
   ],
   "source": [
    "LEIE.columns"
   ]
  },
  {
   "cell_type": "markdown",
   "metadata": {},
   "source": [
    "## Imputing NPI in LEIE from CMS"
   ]
  },
  {
   "cell_type": "code",
   "execution_count": 43,
   "metadata": {},
   "outputs": [
    {
     "data": {
      "text/plain": [
       "(67207, 18)"
      ]
     },
     "execution_count": 43,
     "metadata": {},
     "output_type": "execute_result"
    }
   ],
   "source": [
    "# filter where npi is 0\n",
    "LEIE_0 = LEIE[LEIE['npi']==0]\n",
    "LEIE_0.shape"
   ]
  },
  {
   "cell_type": "code",
   "execution_count": 44,
   "metadata": {},
   "outputs": [],
   "source": [
    "df['nppes_provider_zip'] = df.nppes_provider_zip.astype(str)\n",
    "df['zip'] = df['nppes_provider_zip'].str[0:5]"
   ]
  },
  {
   "cell_type": "code",
   "execution_count": 45,
   "metadata": {},
   "outputs": [
    {
     "data": {
      "text/plain": [
       "5    1499547\n",
       "4      19361\n",
       "3       2064\n",
       "1         11\n",
       "2          2\n",
       "Name: zip, dtype: int64"
      ]
     },
     "execution_count": 45,
     "metadata": {},
     "output_type": "execute_result"
    }
   ],
   "source": [
    "df['zip'].str.len().value_counts()"
   ]
  },
  {
   "cell_type": "code",
   "execution_count": 46,
   "metadata": {},
   "outputs": [],
   "source": [
    "df['zip'] = df['zip'].apply(lambda x: x.zfill(5))"
   ]
  },
  {
   "cell_type": "code",
   "execution_count": 47,
   "metadata": {},
   "outputs": [
    {
     "data": {
      "text/plain": [
       "5    1520985\n",
       "Name: zip, dtype: int64"
      ]
     },
     "execution_count": 47,
     "metadata": {},
     "output_type": "execute_result"
    }
   ],
   "source": [
    "df['zip'].str.len().value_counts()"
   ]
  },
  {
   "cell_type": "code",
   "execution_count": 52,
   "metadata": {},
   "outputs": [
    {
     "name": "stderr",
     "output_type": "stream",
     "text": [
      "/Users/rad/anaconda3/lib/python3.7/site-packages/ipykernel_launcher.py:1: SettingWithCopyWarning: \n",
      "A value is trying to be set on a copy of a slice from a DataFrame.\n",
      "Try using .loc[row_indexer,col_indexer] = value instead\n",
      "\n",
      "See the caveats in the documentation: http://pandas.pydata.org/pandas-docs/stable/indexing.html#indexing-view-versus-copy\n",
      "  \"\"\"Entry point for launching an IPython kernel.\n",
      "/Users/rad/anaconda3/lib/python3.7/site-packages/ipykernel_launcher.py:2: SettingWithCopyWarning: \n",
      "A value is trying to be set on a copy of a slice from a DataFrame.\n",
      "Try using .loc[row_indexer,col_indexer] = value instead\n",
      "\n",
      "See the caveats in the documentation: http://pandas.pydata.org/pandas-docs/stable/indexing.html#indexing-view-versus-copy\n",
      "  \n"
     ]
    }
   ],
   "source": [
    "LEIE_0['zip'] = LEIE_0.zip.astype(str)\n",
    "LEIE_0['zip'] = LEIE_0.zip.str.slice(0,5,1)"
   ]
  },
  {
   "cell_type": "code",
   "execution_count": 53,
   "metadata": {},
   "outputs": [
    {
     "data": {
      "text/plain": [
       "5    67207\n",
       "Name: zip, dtype: int64"
      ]
     },
     "execution_count": 53,
     "metadata": {},
     "output_type": "execute_result"
    }
   ],
   "source": [
    "LEIE_0['zip'].str.len().value_counts()"
   ]
  },
  {
   "cell_type": "code",
   "execution_count": 54,
   "metadata": {},
   "outputs": [
    {
     "name": "stderr",
     "output_type": "stream",
     "text": [
      "/Users/rad/anaconda3/lib/python3.7/site-packages/ipykernel_launcher.py:1: SettingWithCopyWarning: \n",
      "A value is trying to be set on a copy of a slice from a DataFrame.\n",
      "Try using .loc[row_indexer,col_indexer] = value instead\n",
      "\n",
      "See the caveats in the documentation: http://pandas.pydata.org/pandas-docs/stable/indexing.html#indexing-view-versus-copy\n",
      "  \"\"\"Entry point for launching an IPython kernel.\n"
     ]
    }
   ],
   "source": [
    "LEIE_0['zip'] = LEIE_0['zip'].apply(lambda x: x.zfill(5))"
   ]
  },
  {
   "cell_type": "code",
   "execution_count": 55,
   "metadata": {},
   "outputs": [
    {
     "data": {
      "text/plain": [
       "5    67207\n",
       "Name: zip, dtype: int64"
      ]
     },
     "execution_count": 55,
     "metadata": {},
     "output_type": "execute_result"
    }
   ],
   "source": [
    "LEIE_0['zip'].str.len().value_counts()"
   ]
  },
  {
   "cell_type": "code",
   "execution_count": 56,
   "metadata": {},
   "outputs": [
    {
     "data": {
      "text/plain": [
       "Index(['npi', 'nppes_provider_last_org_name', 'nppes_provider_first_name',\n",
       "       'nppes_provider_mi', 'nppes_credentials', 'nppes_provider_gender',\n",
       "       'nppes_entity_code', 'nppes_provider_street1', 'nppes_provider_street2',\n",
       "       'nppes_provider_city', 'nppes_provider_zip', 'nppes_provider_state',\n",
       "       'nppes_provider_country', 'provider_type',\n",
       "       'medicare_participation_indicator', 'place_of_service', 'hcpcs_code',\n",
       "       'hcpcs_description', 'hcpcs_drug_indicator', 'line_srvc_cnt',\n",
       "       'bene_unique_cnt', 'bene_day_srvc_cnt', 'average_Medicare_allowed_amt',\n",
       "       'average_submitted_chrg_amt', 'average_Medicare_payment_amt',\n",
       "       'average_Medicare_standard_amt', 'Total_submitted_chrg_amt',\n",
       "       'Total_Medicare_payment_amt', 'Target', 'zip'],\n",
       "      dtype='object')"
      ]
     },
     "execution_count": 56,
     "metadata": {},
     "output_type": "execute_result"
    }
   ],
   "source": [
    "df.columns"
   ]
  },
  {
   "cell_type": "code",
   "execution_count": null,
   "metadata": {},
   "outputs": [],
   "source": [
    "cols = ['nppes_provider_last_org_name', 'nppes_provider_first_name']\n",
    "[for col in cols]"
   ]
  },
  {
   "cell_type": "code",
   "execution_count": null,
   "metadata": {},
   "outputs": [],
   "source": []
  },
  {
   "cell_type": "code",
   "execution_count": null,
   "metadata": {
    "scrolled": true
   },
   "outputs": [],
   "source": [
    "LEIE.columns"
   ]
  },
  {
   "cell_type": "code",
   "execution_count": null,
   "metadata": {},
   "outputs": [],
   "source": [
    "df_indiv = df[df.nppes_entity_code=='I']\n",
    "df_org = df[df.nppes_entity_code=='O']"
   ]
  },
  {
   "cell_type": "code",
   "execution_count": null,
   "metadata": {},
   "outputs": [],
   "source": [
    "LEIE_indiv = LEIE_0[LEIE_0.busname.isnull()]\n",
    "LEIE_org = LEIE_0[LEIE_0.busname.notnull()]"
   ]
  },
  {
   "cell_type": "code",
   "execution_count": null,
   "metadata": {},
   "outputs": [],
   "source": [
    "LEIE_0.drop_duplicates()"
   ]
  },
  {
   "cell_type": "markdown",
   "metadata": {},
   "source": [
    "#### Match entity code==I to Names"
   ]
  },
  {
   "cell_type": "code",
   "execution_count": null,
   "metadata": {},
   "outputs": [],
   "source": [
    "df_indiv.shape"
   ]
  },
  {
   "cell_type": "code",
   "execution_count": null,
   "metadata": {},
   "outputs": [],
   "source": [
    "df_org.shape"
   ]
  },
  {
   "cell_type": "code",
   "execution_count": null,
   "metadata": {},
   "outputs": [],
   "source": [
    "LEIE_indiv.shape"
   ]
  },
  {
   "cell_type": "code",
   "execution_count": null,
   "metadata": {},
   "outputs": [],
   "source": [
    "LEIE_org.shape"
   ]
  },
  {
   "cell_type": "code",
   "execution_count": null,
   "metadata": {},
   "outputs": [],
   "source": [
    "df_indiv.columns"
   ]
  },
  {
   "cell_type": "code",
   "execution_count": null,
   "metadata": {},
   "outputs": [],
   "source": [
    "df"
   ]
  },
  {
   "cell_type": "code",
   "execution_count": null,
   "metadata": {},
   "outputs": [],
   "source": [
    "df_cols = ['nppes_provider_last_org_name', 'nppes_provider_first_name', 'nppes_provider_zip']"
   ]
  }
 ],
 "metadata": {
  "kernelspec": {
   "display_name": "Python 3",
   "language": "python",
   "name": "python3"
  },
  "language_info": {
   "codemirror_mode": {
    "name": "ipython",
    "version": 3
   },
   "file_extension": ".py",
   "mimetype": "text/x-python",
   "name": "python",
   "nbconvert_exporter": "python",
   "pygments_lexer": "ipython3",
   "version": "3.7.1"
  }
 },
 "nbformat": 4,
 "nbformat_minor": 2
}
