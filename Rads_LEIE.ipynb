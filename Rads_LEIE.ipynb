{
 "cells": [
  {
   "cell_type": "code",
   "execution_count": 1,
   "metadata": {},
   "outputs": [],
   "source": [
    "import pandas as pd\n",
    "import numpy as np\n",
    "import seaborn as sns\n",
    "import matplotlib.pyplot as plt\n",
    "import re\n",
    "from pathlib import Path\n",
    "\n",
    "pd.set_option(\"display.max_columns\", 500)"
   ]
  },
  {
   "cell_type": "markdown",
   "metadata": {},
   "source": [
    "## Creating Top10 HCPCS CMS PUF file"
   ]
  },
  {
   "cell_type": "code",
   "execution_count": 2,
   "metadata": {
    "scrolled": true
   },
   "outputs": [
    {
     "name": "stderr",
     "output_type": "stream",
     "text": [
      "/Users/rad/anaconda3/lib/python3.7/site-packages/IPython/core/interactiveshell.py:3020: DtypeWarning: Columns (10) have mixed types. Specify dtype option on import or set low_memory=False.\n",
      "  interactivity=interactivity, compiler=compiler, result=result)\n"
     ]
    }
   ],
   "source": [
    "CY2017 = pd.read_csv(\"./data/Medicare_Provider_Util_Payment_PUF_CY2017.txt\", sep=\"\\t\",header=0,skiprows=[1])"
   ]
  },
  {
   "cell_type": "code",
   "execution_count": 3,
   "metadata": {},
   "outputs": [],
   "source": [
    "df = CY2017.copy()"
   ]
  },
  {
   "cell_type": "code",
   "execution_count": 4,
   "metadata": {},
   "outputs": [
    {
     "data": {
      "text/plain": [
       "Index(['npi', 'nppes_provider_last_org_name', 'nppes_provider_first_name',\n",
       "       'nppes_provider_mi', 'nppes_credentials', 'nppes_provider_gender',\n",
       "       'nppes_entity_code', 'nppes_provider_street1', 'nppes_provider_street2',\n",
       "       'nppes_provider_city', 'nppes_provider_zip', 'nppes_provider_state',\n",
       "       'nppes_provider_country', 'provider_type',\n",
       "       'medicare_participation_indicator', 'place_of_service', 'hcpcs_code',\n",
       "       'hcpcs_description', 'hcpcs_drug_indicator', 'line_srvc_cnt',\n",
       "       'bene_unique_cnt', 'bene_day_srvc_cnt', 'average_Medicare_allowed_amt',\n",
       "       'average_submitted_chrg_amt', 'average_Medicare_payment_amt',\n",
       "       'average_Medicare_standard_amt'],\n",
       "      dtype='object')"
      ]
     },
     "execution_count": 4,
     "metadata": {},
     "output_type": "execute_result"
    }
   ],
   "source": [
    "df.columns"
   ]
  },
  {
   "cell_type": "code",
   "execution_count": 5,
   "metadata": {},
   "outputs": [],
   "source": [
    "df['Total_submitted_chrg_amt'] = df['line_srvc_cnt'] * df['average_submitted_chrg_amt']\n",
    "df['Total_Medicare_payment_amt'] = df['line_srvc_cnt'] * df['average_Medicare_payment_amt']"
   ]
  },
  {
   "cell_type": "code",
   "execution_count": 6,
   "metadata": {},
   "outputs": [
    {
     "data": {
      "text/html": [
       "<div>\n",
       "<style scoped>\n",
       "    .dataframe tbody tr th:only-of-type {\n",
       "        vertical-align: middle;\n",
       "    }\n",
       "\n",
       "    .dataframe tbody tr th {\n",
       "        vertical-align: top;\n",
       "    }\n",
       "\n",
       "    .dataframe thead th {\n",
       "        text-align: right;\n",
       "    }\n",
       "</style>\n",
       "<table border=\"1\" class=\"dataframe\">\n",
       "  <thead>\n",
       "    <tr style=\"text-align: right;\">\n",
       "      <th></th>\n",
       "      <th>npi</th>\n",
       "      <th>nppes_provider_last_org_name</th>\n",
       "      <th>nppes_provider_first_name</th>\n",
       "      <th>nppes_provider_mi</th>\n",
       "      <th>nppes_credentials</th>\n",
       "      <th>nppes_provider_gender</th>\n",
       "      <th>nppes_entity_code</th>\n",
       "      <th>nppes_provider_street1</th>\n",
       "      <th>nppes_provider_street2</th>\n",
       "      <th>nppes_provider_city</th>\n",
       "      <th>nppes_provider_zip</th>\n",
       "      <th>nppes_provider_state</th>\n",
       "      <th>nppes_provider_country</th>\n",
       "      <th>provider_type</th>\n",
       "      <th>medicare_participation_indicator</th>\n",
       "      <th>place_of_service</th>\n",
       "      <th>hcpcs_code</th>\n",
       "      <th>hcpcs_description</th>\n",
       "      <th>hcpcs_drug_indicator</th>\n",
       "      <th>line_srvc_cnt</th>\n",
       "      <th>bene_unique_cnt</th>\n",
       "      <th>bene_day_srvc_cnt</th>\n",
       "      <th>average_Medicare_allowed_amt</th>\n",
       "      <th>average_submitted_chrg_amt</th>\n",
       "      <th>average_Medicare_payment_amt</th>\n",
       "      <th>average_Medicare_standard_amt</th>\n",
       "      <th>Total_submitted_chrg_amt</th>\n",
       "      <th>Total_Medicare_payment_amt</th>\n",
       "    </tr>\n",
       "  </thead>\n",
       "  <tbody>\n",
       "    <tr>\n",
       "      <th>0</th>\n",
       "      <td>1003000126</td>\n",
       "      <td>ENKESHAFI</td>\n",
       "      <td>ARDALAN</td>\n",
       "      <td>NaN</td>\n",
       "      <td>M.D.</td>\n",
       "      <td>M</td>\n",
       "      <td>I</td>\n",
       "      <td>900 SETON DR</td>\n",
       "      <td>NaN</td>\n",
       "      <td>CUMBERLAND</td>\n",
       "      <td>215021854</td>\n",
       "      <td>MD</td>\n",
       "      <td>US</td>\n",
       "      <td>Internal Medicine</td>\n",
       "      <td>Y</td>\n",
       "      <td>F</td>\n",
       "      <td>99217</td>\n",
       "      <td>Hospital observation care discharge</td>\n",
       "      <td>N</td>\n",
       "      <td>100.0</td>\n",
       "      <td>96</td>\n",
       "      <td>100</td>\n",
       "      <td>73.398800</td>\n",
       "      <td>325.780000</td>\n",
       "      <td>56.827200</td>\n",
       "      <td>57.492400</td>\n",
       "      <td>32578.0</td>\n",
       "      <td>5682.72</td>\n",
       "    </tr>\n",
       "    <tr>\n",
       "      <th>1</th>\n",
       "      <td>1003000126</td>\n",
       "      <td>ENKESHAFI</td>\n",
       "      <td>ARDALAN</td>\n",
       "      <td>NaN</td>\n",
       "      <td>M.D.</td>\n",
       "      <td>M</td>\n",
       "      <td>I</td>\n",
       "      <td>900 SETON DR</td>\n",
       "      <td>NaN</td>\n",
       "      <td>CUMBERLAND</td>\n",
       "      <td>215021854</td>\n",
       "      <td>MD</td>\n",
       "      <td>US</td>\n",
       "      <td>Internal Medicine</td>\n",
       "      <td>Y</td>\n",
       "      <td>F</td>\n",
       "      <td>99218</td>\n",
       "      <td>Hospital observation care typically 30 minutes</td>\n",
       "      <td>N</td>\n",
       "      <td>26.0</td>\n",
       "      <td>25</td>\n",
       "      <td>26</td>\n",
       "      <td>100.080000</td>\n",
       "      <td>449.000000</td>\n",
       "      <td>78.460000</td>\n",
       "      <td>79.306154</td>\n",
       "      <td>11674.0</td>\n",
       "      <td>2039.96</td>\n",
       "    </tr>\n",
       "    <tr>\n",
       "      <th>2</th>\n",
       "      <td>1003000126</td>\n",
       "      <td>ENKESHAFI</td>\n",
       "      <td>ARDALAN</td>\n",
       "      <td>NaN</td>\n",
       "      <td>M.D.</td>\n",
       "      <td>M</td>\n",
       "      <td>I</td>\n",
       "      <td>900 SETON DR</td>\n",
       "      <td>NaN</td>\n",
       "      <td>CUMBERLAND</td>\n",
       "      <td>215021854</td>\n",
       "      <td>MD</td>\n",
       "      <td>US</td>\n",
       "      <td>Internal Medicine</td>\n",
       "      <td>Y</td>\n",
       "      <td>F</td>\n",
       "      <td>99219</td>\n",
       "      <td>Hospital observation care typically 50 minutes</td>\n",
       "      <td>N</td>\n",
       "      <td>52.0</td>\n",
       "      <td>51</td>\n",
       "      <td>52</td>\n",
       "      <td>136.380000</td>\n",
       "      <td>614.000000</td>\n",
       "      <td>102.807692</td>\n",
       "      <td>103.895385</td>\n",
       "      <td>31928.0</td>\n",
       "      <td>5346.00</td>\n",
       "    </tr>\n",
       "    <tr>\n",
       "      <th>3</th>\n",
       "      <td>1003000126</td>\n",
       "      <td>ENKESHAFI</td>\n",
       "      <td>ARDALAN</td>\n",
       "      <td>NaN</td>\n",
       "      <td>M.D.</td>\n",
       "      <td>M</td>\n",
       "      <td>I</td>\n",
       "      <td>900 SETON DR</td>\n",
       "      <td>NaN</td>\n",
       "      <td>CUMBERLAND</td>\n",
       "      <td>215021854</td>\n",
       "      <td>MD</td>\n",
       "      <td>US</td>\n",
       "      <td>Internal Medicine</td>\n",
       "      <td>Y</td>\n",
       "      <td>F</td>\n",
       "      <td>99220</td>\n",
       "      <td>Hospital observation care typically 70 minutes...</td>\n",
       "      <td>N</td>\n",
       "      <td>59.0</td>\n",
       "      <td>59</td>\n",
       "      <td>59</td>\n",
       "      <td>190.363729</td>\n",
       "      <td>755.932203</td>\n",
       "      <td>141.293559</td>\n",
       "      <td>142.865763</td>\n",
       "      <td>44600.0</td>\n",
       "      <td>8336.32</td>\n",
       "    </tr>\n",
       "    <tr>\n",
       "      <th>4</th>\n",
       "      <td>1003000126</td>\n",
       "      <td>ENKESHAFI</td>\n",
       "      <td>ARDALAN</td>\n",
       "      <td>NaN</td>\n",
       "      <td>M.D.</td>\n",
       "      <td>M</td>\n",
       "      <td>I</td>\n",
       "      <td>900 SETON DR</td>\n",
       "      <td>NaN</td>\n",
       "      <td>CUMBERLAND</td>\n",
       "      <td>215021854</td>\n",
       "      <td>MD</td>\n",
       "      <td>US</td>\n",
       "      <td>Internal Medicine</td>\n",
       "      <td>Y</td>\n",
       "      <td>F</td>\n",
       "      <td>99221</td>\n",
       "      <td>Initial hospital inpatient care, typically 30 ...</td>\n",
       "      <td>N</td>\n",
       "      <td>16.0</td>\n",
       "      <td>16</td>\n",
       "      <td>16</td>\n",
       "      <td>101.680000</td>\n",
       "      <td>462.812500</td>\n",
       "      <td>79.710000</td>\n",
       "      <td>80.750000</td>\n",
       "      <td>7405.0</td>\n",
       "      <td>1275.36</td>\n",
       "    </tr>\n",
       "  </tbody>\n",
       "</table>\n",
       "</div>"
      ],
      "text/plain": [
       "          npi nppes_provider_last_org_name nppes_provider_first_name  \\\n",
       "0  1003000126                    ENKESHAFI                   ARDALAN   \n",
       "1  1003000126                    ENKESHAFI                   ARDALAN   \n",
       "2  1003000126                    ENKESHAFI                   ARDALAN   \n",
       "3  1003000126                    ENKESHAFI                   ARDALAN   \n",
       "4  1003000126                    ENKESHAFI                   ARDALAN   \n",
       "\n",
       "  nppes_provider_mi nppes_credentials nppes_provider_gender nppes_entity_code  \\\n",
       "0               NaN              M.D.                     M                 I   \n",
       "1               NaN              M.D.                     M                 I   \n",
       "2               NaN              M.D.                     M                 I   \n",
       "3               NaN              M.D.                     M                 I   \n",
       "4               NaN              M.D.                     M                 I   \n",
       "\n",
       "  nppes_provider_street1 nppes_provider_street2 nppes_provider_city  \\\n",
       "0           900 SETON DR                    NaN          CUMBERLAND   \n",
       "1           900 SETON DR                    NaN          CUMBERLAND   \n",
       "2           900 SETON DR                    NaN          CUMBERLAND   \n",
       "3           900 SETON DR                    NaN          CUMBERLAND   \n",
       "4           900 SETON DR                    NaN          CUMBERLAND   \n",
       "\n",
       "  nppes_provider_zip nppes_provider_state nppes_provider_country  \\\n",
       "0          215021854                   MD                     US   \n",
       "1          215021854                   MD                     US   \n",
       "2          215021854                   MD                     US   \n",
       "3          215021854                   MD                     US   \n",
       "4          215021854                   MD                     US   \n",
       "\n",
       "       provider_type medicare_participation_indicator place_of_service  \\\n",
       "0  Internal Medicine                                Y                F   \n",
       "1  Internal Medicine                                Y                F   \n",
       "2  Internal Medicine                                Y                F   \n",
       "3  Internal Medicine                                Y                F   \n",
       "4  Internal Medicine                                Y                F   \n",
       "\n",
       "  hcpcs_code                                  hcpcs_description  \\\n",
       "0      99217                Hospital observation care discharge   \n",
       "1      99218     Hospital observation care typically 30 minutes   \n",
       "2      99219     Hospital observation care typically 50 minutes   \n",
       "3      99220  Hospital observation care typically 70 minutes...   \n",
       "4      99221  Initial hospital inpatient care, typically 30 ...   \n",
       "\n",
       "  hcpcs_drug_indicator  line_srvc_cnt  bene_unique_cnt  bene_day_srvc_cnt  \\\n",
       "0                    N          100.0               96                100   \n",
       "1                    N           26.0               25                 26   \n",
       "2                    N           52.0               51                 52   \n",
       "3                    N           59.0               59                 59   \n",
       "4                    N           16.0               16                 16   \n",
       "\n",
       "   average_Medicare_allowed_amt  average_submitted_chrg_amt  \\\n",
       "0                     73.398800                  325.780000   \n",
       "1                    100.080000                  449.000000   \n",
       "2                    136.380000                  614.000000   \n",
       "3                    190.363729                  755.932203   \n",
       "4                    101.680000                  462.812500   \n",
       "\n",
       "   average_Medicare_payment_amt  average_Medicare_standard_amt  \\\n",
       "0                     56.827200                      57.492400   \n",
       "1                     78.460000                      79.306154   \n",
       "2                    102.807692                     103.895385   \n",
       "3                    141.293559                     142.865763   \n",
       "4                     79.710000                      80.750000   \n",
       "\n",
       "   Total_submitted_chrg_amt  Total_Medicare_payment_amt  \n",
       "0                   32578.0                     5682.72  \n",
       "1                   11674.0                     2039.96  \n",
       "2                   31928.0                     5346.00  \n",
       "3                   44600.0                     8336.32  \n",
       "4                    7405.0                     1275.36  "
      ]
     },
     "execution_count": 6,
     "metadata": {},
     "output_type": "execute_result"
    }
   ],
   "source": [
    "df.head()"
   ]
  },
  {
   "cell_type": "code",
   "execution_count": 7,
   "metadata": {},
   "outputs": [],
   "source": [
    "Total_submitted = df.Total_submitted_chrg_amt.sum()"
   ]
  },
  {
   "cell_type": "code",
   "execution_count": 8,
   "metadata": {},
   "outputs": [
    {
     "data": {
      "text/plain": [
       "(29976, 28)"
      ]
     },
     "execution_count": 8,
     "metadata": {},
     "output_type": "execute_result"
    }
   ],
   "source": [
    "#per-row (per HCPS not grouped) --(wrong code)\n",
    "top = df.sort_values(by='Total_submitted_chrg_amt', ascending=False).hcpcs_code.unique() \n",
    "x = df[df.hcpcs_code.isin(top[0:10])]\n",
    "x.shape"
   ]
  },
  {
   "cell_type": "code",
   "execution_count": 9,
   "metadata": {},
   "outputs": [
    {
     "data": {
      "text/plain": [
       "88305    18547\n",
       "A0427     7188\n",
       "G0482     1277\n",
       "G0483     1225\n",
       "93229      693\n",
       "R0070      342\n",
       "A0436      303\n",
       "A0431      303\n",
       "G0249       94\n",
       "81528        4\n",
       "Name: hcpcs_code, dtype: int64"
      ]
     },
     "execution_count": 9,
     "metadata": {},
     "output_type": "execute_result"
    }
   ],
   "source": [
    "x.hcpcs_code.value_counts()"
   ]
  },
  {
   "cell_type": "code",
   "execution_count": 10,
   "metadata": {},
   "outputs": [
    {
     "data": {
      "text/plain": [
       "Index(['99214', '99213', '99285', '66984', '99232', '99233', 'A0427', '99223',\n",
       "       '99291', '99284'],\n",
       "      dtype='object', name='hcpcs_code')"
      ]
     },
     "execution_count": 10,
     "metadata": {},
     "output_type": "execute_result"
    }
   ],
   "source": [
    "# sort by top 10 hcpcs:\n",
    "top_hcpcs = df.groupby(['hcpcs_code'])['Total_submitted_chrg_amt'].sum().sort_values(ascending=False)\n",
    "top10_hcpcs = top_hcpcs[0:10].index\n",
    "top10_hcpcs"
   ]
  },
  {
   "cell_type": "code",
   "execution_count": 11,
   "metadata": {
    "scrolled": true
   },
   "outputs": [
    {
     "data": {
      "text/plain": [
       "(1520985, 28)"
      ]
     },
     "execution_count": 11,
     "metadata": {},
     "output_type": "execute_result"
    }
   ],
   "source": [
    "df_top10 = df[df.hcpcs_code.isin(top10_hcpcs)]\n",
    "df_top10.shape"
   ]
  },
  {
   "cell_type": "code",
   "execution_count": null,
   "metadata": {},
   "outputs": [],
   "source": [
    "df_top10."
   ]
  },
  {
   "cell_type": "code",
   "execution_count": 12,
   "metadata": {},
   "outputs": [
    {
     "data": {
      "text/plain": [
       "99213    457843\n",
       "99214    428268\n",
       "99232    175336\n",
       "99223    133368\n",
       "99233    120664\n",
       "99291     62680\n",
       "99284     60805\n",
       "99285     57220\n",
       "66984     17613\n",
       "A0427      7188\n",
       "Name: hcpcs_code, dtype: int64"
      ]
     },
     "execution_count": 12,
     "metadata": {},
     "output_type": "execute_result"
    }
   ],
   "source": [
    "df_top10.hcpcs_code.value_counts() #number of submitted charges\n",
    "# bene_unique_cnt / total_bene_unique_cnt\n",
    "# unique_npi / total_unique_npi"
   ]
  },
  {
   "cell_type": "code",
   "execution_count": 17,
   "metadata": {},
   "outputs": [
    {
     "ename": "SyntaxError",
     "evalue": "invalid syntax (<ipython-input-17-69359378ef22>, line 1)",
     "output_type": "error",
     "traceback": [
      "\u001b[0;36m  File \u001b[0;32m\"<ipython-input-17-69359378ef22>\"\u001b[0;36m, line \u001b[0;32m1\u001b[0m\n\u001b[0;31m    pd.DataFrame({'Total submitted charge sum' : })\u001b[0m\n\u001b[0m                                                 ^\u001b[0m\n\u001b[0;31mSyntaxError\u001b[0m\u001b[0;31m:\u001b[0m invalid syntax\n"
     ]
    }
   ],
   "source": [
    "pd.DataFrame({'Total_submitted_sum': top_hcpcs[1:10],\\\n",
    "              'Total_submitted_percent': ((top_hcpcs[0:10] / Total_submitted) * 100)\\\n",
    "              ''})"
   ]
  },
  {
   "cell_type": "code",
   "execution_count": 15,
   "metadata": {},
   "outputs": [
    {
     "data": {
      "text/plain": [
       "hcpcs_code\n",
       "99213    1.287074e+10\n",
       "99285    1.244005e+10\n",
       "66984    8.510616e+09\n",
       "99232    7.573940e+09\n",
       "99233    5.667375e+09\n",
       "A0427    5.432417e+09\n",
       "99223    4.681324e+09\n",
       "99291    4.499186e+09\n",
       "99284    3.748309e+09\n",
       "Name: Total_submitted_chrg_amt, dtype: float64"
      ]
     },
     "execution_count": 15,
     "metadata": {},
     "output_type": "execute_result"
    }
   ],
   "source": [
    "top_hcpcs[1:10]"
   ]
  },
  {
   "cell_type": "code",
   "execution_count": 16,
   "metadata": {},
   "outputs": [
    {
     "data": {
      "text/plain": [
       "hcpcs_code\n",
       "99214    6.438335\n",
       "99213    4.076711\n",
       "99285    3.940294\n",
       "66984    2.695674\n",
       "99232    2.398989\n",
       "99233    1.795099\n",
       "A0427    1.720677\n",
       "99223    1.482774\n",
       "99291    1.425083\n",
       "99284    1.187249\n",
       "Name: Total_submitted_chrg_amt, dtype: float64"
      ]
     },
     "execution_count": 16,
     "metadata": {},
     "output_type": "execute_result"
    }
   ],
   "source": [
    "top_hcpcs[0:10] / Total_submitted * 100"
   ]
  },
  {
   "cell_type": "code",
   "execution_count": 18,
   "metadata": {},
   "outputs": [
    {
     "data": {
      "text/plain": [
       "hcpcs_code\n",
       "66984     17613\n",
       "99213    457843\n",
       "99214    428268\n",
       "99223    133368\n",
       "99232    175336\n",
       "99233    120664\n",
       "99284     60805\n",
       "99285     57220\n",
       "99291     62680\n",
       "A0427      7188\n",
       "Name: npi, dtype: int64"
      ]
     },
     "execution_count": 18,
     "metadata": {},
     "output_type": "execute_result"
    }
   ],
   "source": [
    "df_top10.groupby('hcpcs_code')['npi'].count()"
   ]
  },
  {
   "cell_type": "code",
   "execution_count": null,
   "metadata": {},
   "outputs": [],
   "source": [
    "#df_top10.to_csv(Path(\"data\",\"top10_hcpcs.csv\")) #create a new csv file"
   ]
  },
  {
   "cell_type": "code",
   "execution_count": null,
   "metadata": {},
   "outputs": [],
   "source": [
    "#sort via highest avg Total_average_submitted_charge_amount\n",
    "#pick top 10 \n",
    "#find proportion for the top 10\n",
    "# drop all columns not in top 10"
   ]
  },
  {
   "cell_type": "markdown",
   "metadata": {},
   "source": [
    "# LEIE"
   ]
  },
  {
   "cell_type": "code",
   "execution_count": 19,
   "metadata": {},
   "outputs": [
    {
     "name": "stderr",
     "output_type": "stream",
     "text": [
      "/Users/rad/anaconda3/lib/python3.7/site-packages/IPython/core/interactiveshell.py:3020: DtypeWarning: Columns (3) have mixed types. Specify dtype option on import or set low_memory=False.\n",
      "  interactivity=interactivity, compiler=compiler, result=result)\n"
     ]
    }
   ],
   "source": [
    "#LEIE\n",
    "LEIE = pd.read_csv('data/LEIE_08_2019.csv')"
   ]
  },
  {
   "cell_type": "code",
   "execution_count": 20,
   "metadata": {
    "scrolled": true
   },
   "outputs": [
    {
     "name": "stderr",
     "output_type": "stream",
     "text": [
      "/Users/rad/anaconda3/lib/python3.7/site-packages/IPython/core/interactiveshell.py:3020: DtypeWarning: Columns (11) have mixed types. Specify dtype option on import or set low_memory=False.\n",
      "  interactivity=interactivity, compiler=compiler, result=result)\n",
      "/Users/rad/anaconda3/lib/python3.7/site-packages/numpy/lib/arraysetops.py:522: FutureWarning: elementwise comparison failed; returning scalar instead, but in the future will perform elementwise comparison\n",
      "  mask |= (ar1 == a)\n"
     ]
    }
   ],
   "source": [
    "#Top10-HCPCS\n",
    "df = pd.read_csv('data/top10_hcpcs.csv', index_col=0)"
   ]
  },
  {
   "cell_type": "code",
   "execution_count": 22,
   "metadata": {},
   "outputs": [
    {
     "data": {
      "text/plain": [
       "(72476, 18)"
      ]
     },
     "execution_count": 22,
     "metadata": {},
     "output_type": "execute_result"
    }
   ],
   "source": [
    "LEIE.shape"
   ]
  },
  {
   "cell_type": "code",
   "execution_count": 23,
   "metadata": {},
   "outputs": [],
   "source": [
    "LEIE['exyear'] = pd.to_datetime(LEIE[\"EXCLDATE\"], format=\"%Y%m%d\").dt.year\n",
    "LEIE['exmonth'] = pd.to_datetime(LEIE[\"EXCLDATE\"], format=\"%Y%m%d\").dt.month"
   ]
  },
  {
   "cell_type": "code",
   "execution_count": 109,
   "metadata": {},
   "outputs": [
    {
     "data": {
      "text/html": [
       "<div>\n",
       "<style scoped>\n",
       "    .dataframe tbody tr th:only-of-type {\n",
       "        vertical-align: middle;\n",
       "    }\n",
       "\n",
       "    .dataframe tbody tr th {\n",
       "        vertical-align: top;\n",
       "    }\n",
       "\n",
       "    .dataframe thead th {\n",
       "        text-align: right;\n",
       "    }\n",
       "</style>\n",
       "<table border=\"1\" class=\"dataframe\">\n",
       "  <thead>\n",
       "    <tr style=\"text-align: right;\">\n",
       "      <th></th>\n",
       "      <th>lastname</th>\n",
       "      <th>firstname</th>\n",
       "      <th>midname</th>\n",
       "      <th>busname</th>\n",
       "      <th>general</th>\n",
       "      <th>specialty</th>\n",
       "      <th>upin</th>\n",
       "      <th>npi</th>\n",
       "      <th>dob</th>\n",
       "      <th>address</th>\n",
       "      <th>city</th>\n",
       "      <th>state</th>\n",
       "      <th>zip</th>\n",
       "      <th>excltype</th>\n",
       "      <th>excldate</th>\n",
       "      <th>reindate</th>\n",
       "      <th>waiverdate</th>\n",
       "      <th>wvrstate</th>\n",
       "      <th>exyear</th>\n",
       "      <th>exmonth</th>\n",
       "    </tr>\n",
       "  </thead>\n",
       "  <tbody>\n",
       "    <tr>\n",
       "      <th>0</th>\n",
       "      <td>NaN</td>\n",
       "      <td>NaN</td>\n",
       "      <td></td>\n",
       "      <td>14 LAWRENCE AVE PHARMACY</td>\n",
       "      <td>PHARMACY</td>\n",
       "      <td>NaN</td>\n",
       "      <td>NaN</td>\n",
       "      <td>0</td>\n",
       "      <td>NaN</td>\n",
       "      <td>14 LAWRENCE AVENUE</td>\n",
       "      <td>SMITHTOWN</td>\n",
       "      <td>NY</td>\n",
       "      <td>11787</td>\n",
       "      <td>1128a1</td>\n",
       "      <td>19880830</td>\n",
       "      <td>0</td>\n",
       "      <td>0</td>\n",
       "      <td>NaN</td>\n",
       "      <td>1988</td>\n",
       "      <td>8</td>\n",
       "    </tr>\n",
       "    <tr>\n",
       "      <th>1</th>\n",
       "      <td>NaN</td>\n",
       "      <td>NaN</td>\n",
       "      <td></td>\n",
       "      <td>143 MEDICAL EQUIPMENT CO</td>\n",
       "      <td>DME COMPANY</td>\n",
       "      <td>DME - OXYGEN</td>\n",
       "      <td>NaN</td>\n",
       "      <td>0</td>\n",
       "      <td>NaN</td>\n",
       "      <td>701 NW 36 AVENUE</td>\n",
       "      <td>MIAMI</td>\n",
       "      <td>FL</td>\n",
       "      <td>33125</td>\n",
       "      <td>1128b7</td>\n",
       "      <td>19970620</td>\n",
       "      <td>0</td>\n",
       "      <td>0</td>\n",
       "      <td>NaN</td>\n",
       "      <td>1997</td>\n",
       "      <td>6</td>\n",
       "    </tr>\n",
       "    <tr>\n",
       "      <th>2</th>\n",
       "      <td>NaN</td>\n",
       "      <td>NaN</td>\n",
       "      <td></td>\n",
       "      <td>184TH STREET PHARMACY CORP</td>\n",
       "      <td>OTHER BUSINESS</td>\n",
       "      <td>PHARMACY</td>\n",
       "      <td>NaN</td>\n",
       "      <td>1922348218</td>\n",
       "      <td>NaN</td>\n",
       "      <td>69 E 184TH ST</td>\n",
       "      <td>BRONX</td>\n",
       "      <td>NY</td>\n",
       "      <td>10468</td>\n",
       "      <td>1128a1</td>\n",
       "      <td>20180419</td>\n",
       "      <td>0</td>\n",
       "      <td>0</td>\n",
       "      <td>NaN</td>\n",
       "      <td>2018</td>\n",
       "      <td>4</td>\n",
       "    </tr>\n",
       "    <tr>\n",
       "      <th>3</th>\n",
       "      <td>NaN</td>\n",
       "      <td>NaN</td>\n",
       "      <td></td>\n",
       "      <td>1951 FLATBUSH AVENUE PHARMACY</td>\n",
       "      <td>PHARMACY</td>\n",
       "      <td>NaN</td>\n",
       "      <td>NaN</td>\n",
       "      <td>0</td>\n",
       "      <td>NaN</td>\n",
       "      <td>1951 FLATBUSH AVE</td>\n",
       "      <td>BROOKLYN</td>\n",
       "      <td>NY</td>\n",
       "      <td>11234</td>\n",
       "      <td>1128b5</td>\n",
       "      <td>20090319</td>\n",
       "      <td>0</td>\n",
       "      <td>0</td>\n",
       "      <td>NaN</td>\n",
       "      <td>2009</td>\n",
       "      <td>3</td>\n",
       "    </tr>\n",
       "    <tr>\n",
       "      <th>4</th>\n",
       "      <td>NaN</td>\n",
       "      <td>NaN</td>\n",
       "      <td></td>\n",
       "      <td>1ST COMMUNITY HEALTH CTR, LTD</td>\n",
       "      <td>CLINIC</td>\n",
       "      <td>NaN</td>\n",
       "      <td>NaN</td>\n",
       "      <td>0</td>\n",
       "      <td>NaN</td>\n",
       "      <td>3138 W CERMAK ROAD</td>\n",
       "      <td>CHICAGO</td>\n",
       "      <td>IL</td>\n",
       "      <td>60623</td>\n",
       "      <td>1128a1</td>\n",
       "      <td>19940524</td>\n",
       "      <td>0</td>\n",
       "      <td>0</td>\n",
       "      <td>NaN</td>\n",
       "      <td>1994</td>\n",
       "      <td>5</td>\n",
       "    </tr>\n",
       "  </tbody>\n",
       "</table>\n",
       "</div>"
      ],
      "text/plain": [
       "  lastname firstname midname                        busname         general  \\\n",
       "0      NaN       NaN               14 LAWRENCE AVE PHARMACY        PHARMACY   \n",
       "1      NaN       NaN               143 MEDICAL EQUIPMENT CO     DME COMPANY   \n",
       "2      NaN       NaN             184TH STREET PHARMACY CORP  OTHER BUSINESS   \n",
       "3      NaN       NaN          1951 FLATBUSH AVENUE PHARMACY        PHARMACY   \n",
       "4      NaN       NaN          1ST COMMUNITY HEALTH CTR, LTD          CLINIC   \n",
       "\n",
       "      specialty upin         npi  dob             address       city state  \\\n",
       "0           NaN  NaN           0  NaN  14 LAWRENCE AVENUE  SMITHTOWN    NY   \n",
       "1  DME - OXYGEN  NaN           0  NaN    701 NW 36 AVENUE      MIAMI    FL   \n",
       "2      PHARMACY  NaN  1922348218  NaN       69 E 184TH ST      BRONX    NY   \n",
       "3           NaN  NaN           0  NaN   1951 FLATBUSH AVE   BROOKLYN    NY   \n",
       "4           NaN  NaN           0  NaN  3138 W CERMAK ROAD    CHICAGO    IL   \n",
       "\n",
       "     zip excltype  excldate  reindate  waiverdate wvrstate  exyear  exmonth  \n",
       "0  11787   1128a1  19880830         0           0      NaN    1988        8  \n",
       "1  33125   1128b7  19970620         0           0      NaN    1997        6  \n",
       "2  10468   1128a1  20180419         0           0      NaN    2018        4  \n",
       "3  11234   1128b5  20090319         0           0      NaN    2009        3  \n",
       "4  60623   1128a1  19940524         0           0      NaN    1994        5  "
      ]
     },
     "execution_count": 109,
     "metadata": {},
     "output_type": "execute_result"
    }
   ],
   "source": [
    "LEIE.columns = LEIE.columns.str.lower()\n",
    "LEIE.head()"
   ]
  },
  {
   "cell_type": "code",
   "execution_count": 110,
   "metadata": {},
   "outputs": [
    {
     "data": {
      "text/html": [
       "<div>\n",
       "<style scoped>\n",
       "    .dataframe tbody tr th:only-of-type {\n",
       "        vertical-align: middle;\n",
       "    }\n",
       "\n",
       "    .dataframe tbody tr th {\n",
       "        vertical-align: top;\n",
       "    }\n",
       "\n",
       "    .dataframe thead th {\n",
       "        text-align: right;\n",
       "    }\n",
       "</style>\n",
       "<table border=\"1\" class=\"dataframe\">\n",
       "  <thead>\n",
       "    <tr style=\"text-align: right;\">\n",
       "      <th></th>\n",
       "      <th>dtype</th>\n",
       "      <th>count</th>\n",
       "      <th>nunique</th>\n",
       "      <th>missing</th>\n",
       "    </tr>\n",
       "  </thead>\n",
       "  <tbody>\n",
       "    <tr>\n",
       "      <th>wvrstate</th>\n",
       "      <td>object</td>\n",
       "      <td>13</td>\n",
       "      <td>10</td>\n",
       "      <td>72463</td>\n",
       "    </tr>\n",
       "    <tr>\n",
       "      <th>busname</th>\n",
       "      <td>object</td>\n",
       "      <td>3108</td>\n",
       "      <td>3052</td>\n",
       "      <td>69368</td>\n",
       "    </tr>\n",
       "    <tr>\n",
       "      <th>upin</th>\n",
       "      <td>object</td>\n",
       "      <td>6333</td>\n",
       "      <td>6156</td>\n",
       "      <td>66143</td>\n",
       "    </tr>\n",
       "    <tr>\n",
       "      <th>specialty</th>\n",
       "      <td>object</td>\n",
       "      <td>68276</td>\n",
       "      <td>192</td>\n",
       "      <td>4200</td>\n",
       "    </tr>\n",
       "    <tr>\n",
       "      <th>dob</th>\n",
       "      <td>float64</td>\n",
       "      <td>68499</td>\n",
       "      <td>20555</td>\n",
       "      <td>3977</td>\n",
       "    </tr>\n",
       "    <tr>\n",
       "      <th>lastname</th>\n",
       "      <td>object</td>\n",
       "      <td>69365</td>\n",
       "      <td>28194</td>\n",
       "      <td>3111</td>\n",
       "    </tr>\n",
       "    <tr>\n",
       "      <th>firstname</th>\n",
       "      <td>object</td>\n",
       "      <td>69366</td>\n",
       "      <td>11128</td>\n",
       "      <td>3110</td>\n",
       "    </tr>\n",
       "    <tr>\n",
       "      <th>address</th>\n",
       "      <td>object</td>\n",
       "      <td>72467</td>\n",
       "      <td>68551</td>\n",
       "      <td>9</td>\n",
       "    </tr>\n",
       "    <tr>\n",
       "      <th>state</th>\n",
       "      <td>object</td>\n",
       "      <td>72471</td>\n",
       "      <td>60</td>\n",
       "      <td>5</td>\n",
       "    </tr>\n",
       "    <tr>\n",
       "      <th>city</th>\n",
       "      <td>object</td>\n",
       "      <td>72475</td>\n",
       "      <td>9786</td>\n",
       "      <td>1</td>\n",
       "    </tr>\n",
       "    <tr>\n",
       "      <th>npi</th>\n",
       "      <td>int64</td>\n",
       "      <td>72476</td>\n",
       "      <td>5169</td>\n",
       "      <td>0</td>\n",
       "    </tr>\n",
       "    <tr>\n",
       "      <th>general</th>\n",
       "      <td>object</td>\n",
       "      <td>72476</td>\n",
       "      <td>87</td>\n",
       "      <td>0</td>\n",
       "    </tr>\n",
       "    <tr>\n",
       "      <th>zip</th>\n",
       "      <td>int64</td>\n",
       "      <td>72476</td>\n",
       "      <td>17164</td>\n",
       "      <td>0</td>\n",
       "    </tr>\n",
       "    <tr>\n",
       "      <th>excltype</th>\n",
       "      <td>object</td>\n",
       "      <td>72476</td>\n",
       "      <td>22</td>\n",
       "      <td>0</td>\n",
       "    </tr>\n",
       "    <tr>\n",
       "      <th>excldate</th>\n",
       "      <td>int64</td>\n",
       "      <td>72476</td>\n",
       "      <td>2259</td>\n",
       "      <td>0</td>\n",
       "    </tr>\n",
       "    <tr>\n",
       "      <th>reindate</th>\n",
       "      <td>int64</td>\n",
       "      <td>72476</td>\n",
       "      <td>1</td>\n",
       "      <td>0</td>\n",
       "    </tr>\n",
       "    <tr>\n",
       "      <th>waiverdate</th>\n",
       "      <td>int64</td>\n",
       "      <td>72476</td>\n",
       "      <td>16</td>\n",
       "      <td>0</td>\n",
       "    </tr>\n",
       "    <tr>\n",
       "      <th>midname</th>\n",
       "      <td>object</td>\n",
       "      <td>72476</td>\n",
       "      <td>8184</td>\n",
       "      <td>0</td>\n",
       "    </tr>\n",
       "    <tr>\n",
       "      <th>exyear</th>\n",
       "      <td>int64</td>\n",
       "      <td>72476</td>\n",
       "      <td>43</td>\n",
       "      <td>0</td>\n",
       "    </tr>\n",
       "    <tr>\n",
       "      <th>exmonth</th>\n",
       "      <td>int64</td>\n",
       "      <td>72476</td>\n",
       "      <td>12</td>\n",
       "      <td>0</td>\n",
       "    </tr>\n",
       "  </tbody>\n",
       "</table>\n",
       "</div>"
      ],
      "text/plain": [
       "              dtype  count nunique missing\n",
       "wvrstate     object     13      10   72463\n",
       "busname      object   3108    3052   69368\n",
       "upin         object   6333    6156   66143\n",
       "specialty    object  68276     192    4200\n",
       "dob         float64  68499   20555    3977\n",
       "lastname     object  69365   28194    3111\n",
       "firstname    object  69366   11128    3110\n",
       "address      object  72467   68551       9\n",
       "state        object  72471      60       5\n",
       "city         object  72475    9786       1\n",
       "npi           int64  72476    5169       0\n",
       "general      object  72476      87       0\n",
       "zip           int64  72476   17164       0\n",
       "excltype     object  72476      22       0\n",
       "excldate      int64  72476    2259       0\n",
       "reindate      int64  72476       1       0\n",
       "waiverdate    int64  72476      16       0\n",
       "midname      object  72476    8184       0\n",
       "exyear        int64  72476      43       0\n",
       "exmonth       int64  72476      12       0"
      ]
     },
     "execution_count": 110,
     "metadata": {},
     "output_type": "execute_result"
    }
   ],
   "source": [
    "summary = LEIE.agg(['dtype', 'count', 'nunique', lambda x: x.isna().sum()]).rename(index={'<lambda>':'missing'}).T\n",
    "summary.sort_values(by='missing', ascending=False)"
   ]
  },
  {
   "cell_type": "code",
   "execution_count": 27,
   "metadata": {
    "scrolled": false
   },
   "outputs": [],
   "source": [
    "x = LEIE['npi'].value_counts()"
   ]
  },
  {
   "cell_type": "code",
   "execution_count": 29,
   "metadata": {
    "scrolled": true
   },
   "outputs": [
    {
     "data": {
      "text/plain": [
       "1        5069\n",
       "2          97\n",
       "3           2\n",
       "67207       1\n",
       "Name: npi, dtype: int64"
      ]
     },
     "execution_count": 29,
     "metadata": {},
     "output_type": "execute_result"
    }
   ],
   "source": [
    "x.value_counts()"
   ]
  },
  {
   "cell_type": "code",
   "execution_count": 32,
   "metadata": {},
   "outputs": [
    {
     "data": {
      "text/plain": [
       "(5269, 20)"
      ]
     },
     "execution_count": 32,
     "metadata": {},
     "output_type": "execute_result"
    }
   ],
   "source": [
    "LEIE[LEIE['npi']!=0].shape"
   ]
  },
  {
   "cell_type": "code",
   "execution_count": 34,
   "metadata": {},
   "outputs": [
    {
     "data": {
      "text/plain": [
       "(67207, 20)"
      ]
     },
     "execution_count": 34,
     "metadata": {},
     "output_type": "execute_result"
    }
   ],
   "source": [
    "LEIE[LEIE['npi']==0].shape"
   ]
  },
  {
   "cell_type": "code",
   "execution_count": 35,
   "metadata": {},
   "outputs": [
    {
     "data": {
      "text/plain": [
       "(72476, 20)"
      ]
     },
     "execution_count": 35,
     "metadata": {},
     "output_type": "execute_result"
    }
   ],
   "source": [
    "LEIE.shape"
   ]
  },
  {
   "cell_type": "code",
   "execution_count": 36,
   "metadata": {},
   "outputs": [
    {
     "data": {
      "text/plain": [
       "Index(['lastname', 'firstname', 'midname', 'busname', 'general', 'specialty',\n",
       "       'upin', 'npi', 'dob', 'address', 'city', 'state', 'zip', 'excltype',\n",
       "       'excldate', 'reindate', 'waiverdate', 'wvrstate', 'exyear', 'exmonth'],\n",
       "      dtype='object')"
      ]
     },
     "execution_count": 36,
     "metadata": {},
     "output_type": "execute_result"
    }
   ],
   "source": [
    "LEIE.columns"
   ]
  },
  {
   "cell_type": "code",
   "execution_count": 38,
   "metadata": {},
   "outputs": [],
   "source": [
    "LEIE['excltype'] = LEIE['excltype'].str.strip()"
   ]
  },
  {
   "cell_type": "markdown",
   "metadata": {},
   "source": [
    "## Matching npi"
   ]
  },
  {
   "cell_type": "code",
   "execution_count": 66,
   "metadata": {},
   "outputs": [
    {
     "data": {
      "text/plain": [
       "(101, 20)"
      ]
     },
     "execution_count": 66,
     "metadata": {},
     "output_type": "execute_result"
    }
   ],
   "source": [
    "x = LEIE[LEIE['npi']!=0]\n",
    "x[x.npi.duplicated()].shape #101 duplicated npis "
   ]
  },
  {
   "cell_type": "code",
   "execution_count": 53,
   "metadata": {},
   "outputs": [
    {
     "data": {
      "text/plain": [
       "5269"
      ]
     },
     "execution_count": 53,
     "metadata": {},
     "output_type": "execute_result"
    }
   ],
   "source": [
    "LEIE[LEIE.npi!=0].shape[0] #5269 npis not zero"
   ]
  },
  {
   "cell_type": "code",
   "execution_count": 46,
   "metadata": {},
   "outputs": [
    {
     "data": {
      "text/plain": [
       "5169"
      ]
     },
     "execution_count": 46,
     "metadata": {},
     "output_type": "execute_result"
    }
   ],
   "source": [
    "LEIE.npi.nunique() #5169 unique npi"
   ]
  },
  {
   "cell_type": "code",
   "execution_count": 37,
   "metadata": {},
   "outputs": [
    {
     "data": {
      "text/plain": [
       "(5169, 20)"
      ]
     },
     "execution_count": 37,
     "metadata": {},
     "output_type": "execute_result"
    }
   ],
   "source": [
    "#drop all duplicated npi\n",
    "LEIE_uniquenpi = LEIE.drop_duplicates(subset='npi')\n",
    "LEIE_uniquenpi.shape"
   ]
  },
  {
   "cell_type": "code",
   "execution_count": 39,
   "metadata": {
    "scrolled": true
   },
   "outputs": [],
   "source": [
    "npi_same = pd.merge(df, LEIE_uniquenpi, how='inner',on='npi').npi.values"
   ]
  },
  {
   "cell_type": "code",
   "execution_count": 40,
   "metadata": {},
   "outputs": [],
   "source": [
    "df['Target'] = df.npi.isin(npi_same) #add label column"
   ]
  },
  {
   "cell_type": "code",
   "execution_count": 41,
   "metadata": {},
   "outputs": [
    {
     "data": {
      "text/plain": [
       "(278, 29)"
      ]
     },
     "execution_count": 41,
     "metadata": {},
     "output_type": "execute_result"
    }
   ],
   "source": [
    "#only 278 npi's matched!\n",
    "df[df.npi.isin(npi_same)].shape"
   ]
  },
  {
   "cell_type": "code",
   "execution_count": 42,
   "metadata": {
    "scrolled": true
   },
   "outputs": [
    {
     "data": {
      "text/html": [
       "<div>\n",
       "<style scoped>\n",
       "    .dataframe tbody tr th:only-of-type {\n",
       "        vertical-align: middle;\n",
       "    }\n",
       "\n",
       "    .dataframe tbody tr th {\n",
       "        vertical-align: top;\n",
       "    }\n",
       "\n",
       "    .dataframe thead th {\n",
       "        text-align: right;\n",
       "    }\n",
       "</style>\n",
       "<table border=\"1\" class=\"dataframe\">\n",
       "  <thead>\n",
       "    <tr style=\"text-align: right;\">\n",
       "      <th></th>\n",
       "      <th>npi</th>\n",
       "      <th>nppes_provider_last_org_name</th>\n",
       "      <th>nppes_provider_first_name</th>\n",
       "      <th>nppes_provider_mi</th>\n",
       "      <th>nppes_credentials</th>\n",
       "      <th>nppes_provider_gender</th>\n",
       "      <th>nppes_entity_code</th>\n",
       "      <th>nppes_provider_street1</th>\n",
       "      <th>nppes_provider_street2</th>\n",
       "      <th>nppes_provider_city</th>\n",
       "      <th>nppes_provider_zip</th>\n",
       "      <th>nppes_provider_state</th>\n",
       "      <th>nppes_provider_country</th>\n",
       "      <th>provider_type</th>\n",
       "      <th>medicare_participation_indicator</th>\n",
       "      <th>place_of_service</th>\n",
       "      <th>hcpcs_code</th>\n",
       "      <th>hcpcs_description</th>\n",
       "      <th>hcpcs_drug_indicator</th>\n",
       "      <th>line_srvc_cnt</th>\n",
       "      <th>bene_unique_cnt</th>\n",
       "      <th>bene_day_srvc_cnt</th>\n",
       "      <th>average_Medicare_allowed_amt</th>\n",
       "      <th>average_submitted_chrg_amt</th>\n",
       "      <th>average_Medicare_payment_amt</th>\n",
       "      <th>average_Medicare_standard_amt</th>\n",
       "      <th>Total_submitted_chrg_amt</th>\n",
       "      <th>Total_Medicare_payment_amt</th>\n",
       "      <th>Target</th>\n",
       "    </tr>\n",
       "  </thead>\n",
       "  <tbody>\n",
       "    <tr>\n",
       "      <th>1022579</th>\n",
       "      <td>1104816115</td>\n",
       "      <td>NYBOER</td>\n",
       "      <td>JOHN</td>\n",
       "      <td>E</td>\n",
       "      <td>MD</td>\n",
       "      <td>M</td>\n",
       "      <td>I</td>\n",
       "      <td>10101 PARK ROWE AVE</td>\n",
       "      <td>SUITE 200</td>\n",
       "      <td>BATON ROUGE</td>\n",
       "      <td>708101686</td>\n",
       "      <td>LA</td>\n",
       "      <td>US</td>\n",
       "      <td>Physical Medicine and Rehabilitation</td>\n",
       "      <td>Y</td>\n",
       "      <td>F</td>\n",
       "      <td>99223</td>\n",
       "      <td>Initial hospital inpatient care, typically 70 ...</td>\n",
       "      <td>N</td>\n",
       "      <td>74.0</td>\n",
       "      <td>65</td>\n",
       "      <td>73</td>\n",
       "      <td>197.310000</td>\n",
       "      <td>447.000000</td>\n",
       "      <td>140.595811</td>\n",
       "      <td>152.976622</td>\n",
       "      <td>33078.000000</td>\n",
       "      <td>10404.09</td>\n",
       "      <td>False</td>\n",
       "    </tr>\n",
       "    <tr>\n",
       "      <th>6821357</th>\n",
       "      <td>1699704916</td>\n",
       "      <td>MILLER</td>\n",
       "      <td>WILLIAM</td>\n",
       "      <td>D</td>\n",
       "      <td>MD</td>\n",
       "      <td>M</td>\n",
       "      <td>I</td>\n",
       "      <td>305 KEENE ST</td>\n",
       "      <td>STE. 203</td>\n",
       "      <td>COLUMBIA</td>\n",
       "      <td>652016897</td>\n",
       "      <td>MO</td>\n",
       "      <td>US</td>\n",
       "      <td>Family Practice</td>\n",
       "      <td>Y</td>\n",
       "      <td>O</td>\n",
       "      <td>99213</td>\n",
       "      <td>Established patient office or other outpatient...</td>\n",
       "      <td>N</td>\n",
       "      <td>33.0</td>\n",
       "      <td>33</td>\n",
       "      <td>33</td>\n",
       "      <td>68.938182</td>\n",
       "      <td>160.000000</td>\n",
       "      <td>27.670909</td>\n",
       "      <td>32.113333</td>\n",
       "      <td>5280.000000</td>\n",
       "      <td>913.14</td>\n",
       "      <td>False</td>\n",
       "    </tr>\n",
       "    <tr>\n",
       "      <th>6195965</th>\n",
       "      <td>1629318217</td>\n",
       "      <td>FLORES</td>\n",
       "      <td>ALICIA</td>\n",
       "      <td>L</td>\n",
       "      <td>PA-C</td>\n",
       "      <td>F</td>\n",
       "      <td>I</td>\n",
       "      <td>100 E ALTON GLOOR BLVD</td>\n",
       "      <td>NaN</td>\n",
       "      <td>BROWNSVILLE</td>\n",
       "      <td>785263328</td>\n",
       "      <td>TX</td>\n",
       "      <td>US</td>\n",
       "      <td>Physician Assistant</td>\n",
       "      <td>Y</td>\n",
       "      <td>F</td>\n",
       "      <td>99285</td>\n",
       "      <td>Emergency department visit, problem with signi...</td>\n",
       "      <td>N</td>\n",
       "      <td>31.0</td>\n",
       "      <td>31</td>\n",
       "      <td>31</td>\n",
       "      <td>145.810000</td>\n",
       "      <td>2017.903226</td>\n",
       "      <td>95.632258</td>\n",
       "      <td>98.618710</td>\n",
       "      <td>62555.000000</td>\n",
       "      <td>2964.60</td>\n",
       "      <td>False</td>\n",
       "    </tr>\n",
       "    <tr>\n",
       "      <th>4218936</th>\n",
       "      <td>1427288943</td>\n",
       "      <td>MANGLA</td>\n",
       "      <td>JIMMI</td>\n",
       "      <td>NaN</td>\n",
       "      <td>NaN</td>\n",
       "      <td>M</td>\n",
       "      <td>I</td>\n",
       "      <td>200 1ST ST SW</td>\n",
       "      <td>NaN</td>\n",
       "      <td>ROCHESTER</td>\n",
       "      <td>559056712</td>\n",
       "      <td>MN</td>\n",
       "      <td>US</td>\n",
       "      <td>General Surgery</td>\n",
       "      <td>Y</td>\n",
       "      <td>F</td>\n",
       "      <td>99223</td>\n",
       "      <td>Initial hospital inpatient care, typically 70 ...</td>\n",
       "      <td>N</td>\n",
       "      <td>54.0</td>\n",
       "      <td>54</td>\n",
       "      <td>54</td>\n",
       "      <td>210.500000</td>\n",
       "      <td>254.574074</td>\n",
       "      <td>165.030000</td>\n",
       "      <td>161.220000</td>\n",
       "      <td>13747.000000</td>\n",
       "      <td>8911.62</td>\n",
       "      <td>False</td>\n",
       "    </tr>\n",
       "    <tr>\n",
       "      <th>1027681</th>\n",
       "      <td>1104824366</td>\n",
       "      <td>ROBINSON</td>\n",
       "      <td>TRACEY</td>\n",
       "      <td>NaN</td>\n",
       "      <td>MD</td>\n",
       "      <td>F</td>\n",
       "      <td>I</td>\n",
       "      <td>2006 HEALTH CAMPUS DR</td>\n",
       "      <td>NaN</td>\n",
       "      <td>HARRISONBURG</td>\n",
       "      <td>228018679</td>\n",
       "      <td>VA</td>\n",
       "      <td>US</td>\n",
       "      <td>Rheumatology</td>\n",
       "      <td>Y</td>\n",
       "      <td>O</td>\n",
       "      <td>99214</td>\n",
       "      <td>Established patient office or other outpatient...</td>\n",
       "      <td>N</td>\n",
       "      <td>607.0</td>\n",
       "      <td>372</td>\n",
       "      <td>607</td>\n",
       "      <td>111.158731</td>\n",
       "      <td>281.169687</td>\n",
       "      <td>82.558600</td>\n",
       "      <td>82.378122</td>\n",
       "      <td>170670.000003</td>\n",
       "      <td>50113.07</td>\n",
       "      <td>False</td>\n",
       "    </tr>\n",
       "  </tbody>\n",
       "</table>\n",
       "</div>"
      ],
      "text/plain": [
       "                npi nppes_provider_last_org_name nppes_provider_first_name  \\\n",
       "1022579  1104816115                       NYBOER                      JOHN   \n",
       "6821357  1699704916                       MILLER                   WILLIAM   \n",
       "6195965  1629318217                       FLORES                    ALICIA   \n",
       "4218936  1427288943                       MANGLA                     JIMMI   \n",
       "1027681  1104824366                     ROBINSON                    TRACEY   \n",
       "\n",
       "        nppes_provider_mi nppes_credentials nppes_provider_gender  \\\n",
       "1022579                 E                MD                     M   \n",
       "6821357                 D                MD                     M   \n",
       "6195965                 L              PA-C                     F   \n",
       "4218936               NaN               NaN                     M   \n",
       "1027681               NaN                MD                     F   \n",
       "\n",
       "        nppes_entity_code  nppes_provider_street1 nppes_provider_street2  \\\n",
       "1022579                 I     10101 PARK ROWE AVE              SUITE 200   \n",
       "6821357                 I            305 KEENE ST               STE. 203   \n",
       "6195965                 I  100 E ALTON GLOOR BLVD                    NaN   \n",
       "4218936                 I           200 1ST ST SW                    NaN   \n",
       "1027681                 I   2006 HEALTH CAMPUS DR                    NaN   \n",
       "\n",
       "        nppes_provider_city nppes_provider_zip nppes_provider_state  \\\n",
       "1022579         BATON ROUGE          708101686                   LA   \n",
       "6821357            COLUMBIA          652016897                   MO   \n",
       "6195965         BROWNSVILLE          785263328                   TX   \n",
       "4218936           ROCHESTER          559056712                   MN   \n",
       "1027681        HARRISONBURG          228018679                   VA   \n",
       "\n",
       "        nppes_provider_country                         provider_type  \\\n",
       "1022579                     US  Physical Medicine and Rehabilitation   \n",
       "6821357                     US                       Family Practice   \n",
       "6195965                     US                   Physician Assistant   \n",
       "4218936                     US                       General Surgery   \n",
       "1027681                     US                          Rheumatology   \n",
       "\n",
       "        medicare_participation_indicator place_of_service hcpcs_code  \\\n",
       "1022579                                Y                F      99223   \n",
       "6821357                                Y                O      99213   \n",
       "6195965                                Y                F      99285   \n",
       "4218936                                Y                F      99223   \n",
       "1027681                                Y                O      99214   \n",
       "\n",
       "                                         hcpcs_description  \\\n",
       "1022579  Initial hospital inpatient care, typically 70 ...   \n",
       "6821357  Established patient office or other outpatient...   \n",
       "6195965  Emergency department visit, problem with signi...   \n",
       "4218936  Initial hospital inpatient care, typically 70 ...   \n",
       "1027681  Established patient office or other outpatient...   \n",
       "\n",
       "        hcpcs_drug_indicator  line_srvc_cnt  bene_unique_cnt  \\\n",
       "1022579                    N           74.0               65   \n",
       "6821357                    N           33.0               33   \n",
       "6195965                    N           31.0               31   \n",
       "4218936                    N           54.0               54   \n",
       "1027681                    N          607.0              372   \n",
       "\n",
       "         bene_day_srvc_cnt  average_Medicare_allowed_amt  \\\n",
       "1022579                 73                    197.310000   \n",
       "6821357                 33                     68.938182   \n",
       "6195965                 31                    145.810000   \n",
       "4218936                 54                    210.500000   \n",
       "1027681                607                    111.158731   \n",
       "\n",
       "         average_submitted_chrg_amt  average_Medicare_payment_amt  \\\n",
       "1022579                  447.000000                    140.595811   \n",
       "6821357                  160.000000                     27.670909   \n",
       "6195965                 2017.903226                     95.632258   \n",
       "4218936                  254.574074                    165.030000   \n",
       "1027681                  281.169687                     82.558600   \n",
       "\n",
       "         average_Medicare_standard_amt  Total_submitted_chrg_amt  \\\n",
       "1022579                     152.976622              33078.000000   \n",
       "6821357                      32.113333               5280.000000   \n",
       "6195965                      98.618710              62555.000000   \n",
       "4218936                     161.220000              13747.000000   \n",
       "1027681                      82.378122             170670.000003   \n",
       "\n",
       "         Total_Medicare_payment_amt  Target  \n",
       "1022579                    10404.09   False  \n",
       "6821357                      913.14   False  \n",
       "6195965                     2964.60   False  \n",
       "4218936                     8911.62   False  \n",
       "1027681                    50113.07   False  "
      ]
     },
     "execution_count": 42,
     "metadata": {},
     "output_type": "execute_result"
    }
   ],
   "source": [
    "df.sample(5)"
   ]
  },
  {
   "cell_type": "code",
   "execution_count": 108,
   "metadata": {},
   "outputs": [
    {
     "data": {
      "text/plain": [
       "Index(['LASTNAME', 'FIRSTNAME', 'MIDNAME', 'BUSNAME', 'GENERAL', 'SPECIALTY',\n",
       "       'UPIN', 'NPI', 'DOB', 'ADDRESS', 'CITY', 'STATE', 'ZIP', 'EXCLTYPE',\n",
       "       'EXCLDATE', 'REINDATE', 'WAIVERDATE', 'WVRSTATE', 'EXYEAR', 'EXMONTH'],\n",
       "      dtype='object')"
      ]
     },
     "execution_count": 108,
     "metadata": {},
     "output_type": "execute_result"
    }
   ],
   "source": [
    "LEIE.columns"
   ]
  },
  {
   "cell_type": "code",
   "execution_count": 77,
   "metadata": {
    "scrolled": true
   },
   "outputs": [
    {
     "data": {
      "text/plain": [
       "69368"
      ]
     },
     "execution_count": 77,
     "metadata": {},
     "output_type": "execute_result"
    }
   ],
   "source": [
    "LEIE.busname.isnull().sum()"
   ]
  },
  {
   "cell_type": "markdown",
   "metadata": {},
   "source": [
    "## Imputing NPI in LEIE from CMS"
   ]
  },
  {
   "cell_type": "code",
   "execution_count": null,
   "metadata": {},
   "outputs": [],
   "source": [
    "# filter where npi is 0\n",
    "LEIE_0 = LEIE[LEIE['npi']==0]\n",
    "LEIE_0.shape"
   ]
  },
  {
   "cell_type": "code",
   "execution_count": 73,
   "metadata": {},
   "outputs": [],
   "source": [
    "df_indiv = df[df.nppes_entity_code=='I']\n",
    "df_org = df[df.nppes_entity_code=='O']"
   ]
  },
  {
   "cell_type": "code",
   "execution_count": 116,
   "metadata": {},
   "outputs": [],
   "source": [
    "LEIE_indiv = LEIE[LEIE.busname.isnull()]\n",
    "LEIE_org = LEIE[LEIE.busname.notnull()]"
   ]
  },
  {
   "cell_type": "markdown",
   "metadata": {},
   "source": [
    "#### Match entity code==O to Busnames"
   ]
  },
  {
   "cell_type": "code",
   "execution_count": null,
   "metadata": {},
   "outputs": [],
   "source": []
  }
 ],
 "metadata": {
  "kernelspec": {
   "display_name": "Python 3",
   "language": "python",
   "name": "python3"
  },
  "language_info": {
   "codemirror_mode": {
    "name": "ipython",
    "version": 3
   },
   "file_extension": ".py",
   "mimetype": "text/x-python",
   "name": "python",
   "nbconvert_exporter": "python",
   "pygments_lexer": "ipython3",
   "version": "3.7.1"
  }
 },
 "nbformat": 4,
 "nbformat_minor": 2
}
