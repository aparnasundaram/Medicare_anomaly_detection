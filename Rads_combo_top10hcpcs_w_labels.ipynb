{
 "cells": [
  {
   "cell_type": "code",
   "execution_count": 1,
   "metadata": {},
   "outputs": [],
   "source": [
    "import pandas as pd\n",
    "import numpy as np\n",
    "import seaborn as sns\n",
    "import matplotlib.pyplot as plt\n",
    "import re\n",
    "from pathlib import Path\n",
    "\n",
    "pd.set_option(\"display.max_columns\", 500)"
   ]
  },
  {
   "cell_type": "markdown",
   "metadata": {},
   "source": [
    "## Creating Top10 HCPCS CMS PUF file"
   ]
  },
  {
   "cell_type": "code",
   "execution_count": 2,
   "metadata": {
    "scrolled": true
   },
   "outputs": [
    {
     "name": "stderr",
     "output_type": "stream",
     "text": [
      "/Users/rad/anaconda3/lib/python3.7/site-packages/IPython/core/interactiveshell.py:3020: DtypeWarning: Columns (10) have mixed types. Specify dtype option on import or set low_memory=False.\n",
      "  interactivity=interactivity, compiler=compiler, result=result)\n"
     ]
    }
   ],
   "source": [
    "CY2017 = pd.read_csv(\"./data/Medicare_Provider_Util_Payment_PUF_CY2017.txt\", sep=\"\\t\",header=0,skiprows=[1])"
   ]
  },
  {
   "cell_type": "code",
   "execution_count": 3,
   "metadata": {},
   "outputs": [],
   "source": [
    "df = CY2017.copy()"
   ]
  },
  {
   "cell_type": "code",
   "execution_count": 4,
   "metadata": {},
   "outputs": [
    {
     "data": {
      "text/plain": [
       "Index(['npi', 'nppes_provider_last_org_name', 'nppes_provider_first_name',\n",
       "       'nppes_provider_mi', 'nppes_credentials', 'nppes_provider_gender',\n",
       "       'nppes_entity_code', 'nppes_provider_street1', 'nppes_provider_street2',\n",
       "       'nppes_provider_city', 'nppes_provider_zip', 'nppes_provider_state',\n",
       "       'nppes_provider_country', 'provider_type',\n",
       "       'medicare_participation_indicator', 'place_of_service', 'hcpcs_code',\n",
       "       'hcpcs_description', 'hcpcs_drug_indicator', 'line_srvc_cnt',\n",
       "       'bene_unique_cnt', 'bene_day_srvc_cnt', 'average_Medicare_allowed_amt',\n",
       "       'average_submitted_chrg_amt', 'average_Medicare_payment_amt',\n",
       "       'average_Medicare_standard_amt'],\n",
       "      dtype='object')"
      ]
     },
     "execution_count": 4,
     "metadata": {},
     "output_type": "execute_result"
    }
   ],
   "source": [
    "df.columns"
   ]
  },
  {
   "cell_type": "code",
   "execution_count": 5,
   "metadata": {},
   "outputs": [],
   "source": [
    "df['Total_submitted_chrg_amt'] = df['line_srvc_cnt'] * df['average_submitted_chrg_amt']\n",
    "df['Total_Medicare_payment_amt'] = df['line_srvc_cnt'] * df['average_Medicare_payment_amt']"
   ]
  },
  {
   "cell_type": "code",
   "execution_count": 6,
   "metadata": {},
   "outputs": [
    {
     "data": {
      "text/html": [
       "<div>\n",
       "<style scoped>\n",
       "    .dataframe tbody tr th:only-of-type {\n",
       "        vertical-align: middle;\n",
       "    }\n",
       "\n",
       "    .dataframe tbody tr th {\n",
       "        vertical-align: top;\n",
       "    }\n",
       "\n",
       "    .dataframe thead th {\n",
       "        text-align: right;\n",
       "    }\n",
       "</style>\n",
       "<table border=\"1\" class=\"dataframe\">\n",
       "  <thead>\n",
       "    <tr style=\"text-align: right;\">\n",
       "      <th></th>\n",
       "      <th>npi</th>\n",
       "      <th>nppes_provider_last_org_name</th>\n",
       "      <th>nppes_provider_first_name</th>\n",
       "      <th>nppes_provider_mi</th>\n",
       "      <th>nppes_credentials</th>\n",
       "      <th>nppes_provider_gender</th>\n",
       "      <th>nppes_entity_code</th>\n",
       "      <th>nppes_provider_street1</th>\n",
       "      <th>nppes_provider_street2</th>\n",
       "      <th>nppes_provider_city</th>\n",
       "      <th>nppes_provider_zip</th>\n",
       "      <th>nppes_provider_state</th>\n",
       "      <th>nppes_provider_country</th>\n",
       "      <th>provider_type</th>\n",
       "      <th>medicare_participation_indicator</th>\n",
       "      <th>place_of_service</th>\n",
       "      <th>hcpcs_code</th>\n",
       "      <th>hcpcs_description</th>\n",
       "      <th>hcpcs_drug_indicator</th>\n",
       "      <th>line_srvc_cnt</th>\n",
       "      <th>bene_unique_cnt</th>\n",
       "      <th>bene_day_srvc_cnt</th>\n",
       "      <th>average_Medicare_allowed_amt</th>\n",
       "      <th>average_submitted_chrg_amt</th>\n",
       "      <th>average_Medicare_payment_amt</th>\n",
       "      <th>average_Medicare_standard_amt</th>\n",
       "      <th>Total_submitted_chrg_amt</th>\n",
       "      <th>Total_Medicare_payment_amt</th>\n",
       "    </tr>\n",
       "  </thead>\n",
       "  <tbody>\n",
       "    <tr>\n",
       "      <th>0</th>\n",
       "      <td>1003000126</td>\n",
       "      <td>ENKESHAFI</td>\n",
       "      <td>ARDALAN</td>\n",
       "      <td>NaN</td>\n",
       "      <td>M.D.</td>\n",
       "      <td>M</td>\n",
       "      <td>I</td>\n",
       "      <td>900 SETON DR</td>\n",
       "      <td>NaN</td>\n",
       "      <td>CUMBERLAND</td>\n",
       "      <td>215021854</td>\n",
       "      <td>MD</td>\n",
       "      <td>US</td>\n",
       "      <td>Internal Medicine</td>\n",
       "      <td>Y</td>\n",
       "      <td>F</td>\n",
       "      <td>99217</td>\n",
       "      <td>Hospital observation care discharge</td>\n",
       "      <td>N</td>\n",
       "      <td>100.0</td>\n",
       "      <td>96</td>\n",
       "      <td>100</td>\n",
       "      <td>73.398800</td>\n",
       "      <td>325.780000</td>\n",
       "      <td>56.827200</td>\n",
       "      <td>57.492400</td>\n",
       "      <td>32578.0</td>\n",
       "      <td>5682.72</td>\n",
       "    </tr>\n",
       "    <tr>\n",
       "      <th>1</th>\n",
       "      <td>1003000126</td>\n",
       "      <td>ENKESHAFI</td>\n",
       "      <td>ARDALAN</td>\n",
       "      <td>NaN</td>\n",
       "      <td>M.D.</td>\n",
       "      <td>M</td>\n",
       "      <td>I</td>\n",
       "      <td>900 SETON DR</td>\n",
       "      <td>NaN</td>\n",
       "      <td>CUMBERLAND</td>\n",
       "      <td>215021854</td>\n",
       "      <td>MD</td>\n",
       "      <td>US</td>\n",
       "      <td>Internal Medicine</td>\n",
       "      <td>Y</td>\n",
       "      <td>F</td>\n",
       "      <td>99218</td>\n",
       "      <td>Hospital observation care typically 30 minutes</td>\n",
       "      <td>N</td>\n",
       "      <td>26.0</td>\n",
       "      <td>25</td>\n",
       "      <td>26</td>\n",
       "      <td>100.080000</td>\n",
       "      <td>449.000000</td>\n",
       "      <td>78.460000</td>\n",
       "      <td>79.306154</td>\n",
       "      <td>11674.0</td>\n",
       "      <td>2039.96</td>\n",
       "    </tr>\n",
       "    <tr>\n",
       "      <th>2</th>\n",
       "      <td>1003000126</td>\n",
       "      <td>ENKESHAFI</td>\n",
       "      <td>ARDALAN</td>\n",
       "      <td>NaN</td>\n",
       "      <td>M.D.</td>\n",
       "      <td>M</td>\n",
       "      <td>I</td>\n",
       "      <td>900 SETON DR</td>\n",
       "      <td>NaN</td>\n",
       "      <td>CUMBERLAND</td>\n",
       "      <td>215021854</td>\n",
       "      <td>MD</td>\n",
       "      <td>US</td>\n",
       "      <td>Internal Medicine</td>\n",
       "      <td>Y</td>\n",
       "      <td>F</td>\n",
       "      <td>99219</td>\n",
       "      <td>Hospital observation care typically 50 minutes</td>\n",
       "      <td>N</td>\n",
       "      <td>52.0</td>\n",
       "      <td>51</td>\n",
       "      <td>52</td>\n",
       "      <td>136.380000</td>\n",
       "      <td>614.000000</td>\n",
       "      <td>102.807692</td>\n",
       "      <td>103.895385</td>\n",
       "      <td>31928.0</td>\n",
       "      <td>5346.00</td>\n",
       "    </tr>\n",
       "    <tr>\n",
       "      <th>3</th>\n",
       "      <td>1003000126</td>\n",
       "      <td>ENKESHAFI</td>\n",
       "      <td>ARDALAN</td>\n",
       "      <td>NaN</td>\n",
       "      <td>M.D.</td>\n",
       "      <td>M</td>\n",
       "      <td>I</td>\n",
       "      <td>900 SETON DR</td>\n",
       "      <td>NaN</td>\n",
       "      <td>CUMBERLAND</td>\n",
       "      <td>215021854</td>\n",
       "      <td>MD</td>\n",
       "      <td>US</td>\n",
       "      <td>Internal Medicine</td>\n",
       "      <td>Y</td>\n",
       "      <td>F</td>\n",
       "      <td>99220</td>\n",
       "      <td>Hospital observation care typically 70 minutes...</td>\n",
       "      <td>N</td>\n",
       "      <td>59.0</td>\n",
       "      <td>59</td>\n",
       "      <td>59</td>\n",
       "      <td>190.363729</td>\n",
       "      <td>755.932203</td>\n",
       "      <td>141.293559</td>\n",
       "      <td>142.865763</td>\n",
       "      <td>44600.0</td>\n",
       "      <td>8336.32</td>\n",
       "    </tr>\n",
       "    <tr>\n",
       "      <th>4</th>\n",
       "      <td>1003000126</td>\n",
       "      <td>ENKESHAFI</td>\n",
       "      <td>ARDALAN</td>\n",
       "      <td>NaN</td>\n",
       "      <td>M.D.</td>\n",
       "      <td>M</td>\n",
       "      <td>I</td>\n",
       "      <td>900 SETON DR</td>\n",
       "      <td>NaN</td>\n",
       "      <td>CUMBERLAND</td>\n",
       "      <td>215021854</td>\n",
       "      <td>MD</td>\n",
       "      <td>US</td>\n",
       "      <td>Internal Medicine</td>\n",
       "      <td>Y</td>\n",
       "      <td>F</td>\n",
       "      <td>99221</td>\n",
       "      <td>Initial hospital inpatient care, typically 30 ...</td>\n",
       "      <td>N</td>\n",
       "      <td>16.0</td>\n",
       "      <td>16</td>\n",
       "      <td>16</td>\n",
       "      <td>101.680000</td>\n",
       "      <td>462.812500</td>\n",
       "      <td>79.710000</td>\n",
       "      <td>80.750000</td>\n",
       "      <td>7405.0</td>\n",
       "      <td>1275.36</td>\n",
       "    </tr>\n",
       "  </tbody>\n",
       "</table>\n",
       "</div>"
      ],
      "text/plain": [
       "          npi nppes_provider_last_org_name nppes_provider_first_name  \\\n",
       "0  1003000126                    ENKESHAFI                   ARDALAN   \n",
       "1  1003000126                    ENKESHAFI                   ARDALAN   \n",
       "2  1003000126                    ENKESHAFI                   ARDALAN   \n",
       "3  1003000126                    ENKESHAFI                   ARDALAN   \n",
       "4  1003000126                    ENKESHAFI                   ARDALAN   \n",
       "\n",
       "  nppes_provider_mi nppes_credentials nppes_provider_gender nppes_entity_code  \\\n",
       "0               NaN              M.D.                     M                 I   \n",
       "1               NaN              M.D.                     M                 I   \n",
       "2               NaN              M.D.                     M                 I   \n",
       "3               NaN              M.D.                     M                 I   \n",
       "4               NaN              M.D.                     M                 I   \n",
       "\n",
       "  nppes_provider_street1 nppes_provider_street2 nppes_provider_city  \\\n",
       "0           900 SETON DR                    NaN          CUMBERLAND   \n",
       "1           900 SETON DR                    NaN          CUMBERLAND   \n",
       "2           900 SETON DR                    NaN          CUMBERLAND   \n",
       "3           900 SETON DR                    NaN          CUMBERLAND   \n",
       "4           900 SETON DR                    NaN          CUMBERLAND   \n",
       "\n",
       "  nppes_provider_zip nppes_provider_state nppes_provider_country  \\\n",
       "0          215021854                   MD                     US   \n",
       "1          215021854                   MD                     US   \n",
       "2          215021854                   MD                     US   \n",
       "3          215021854                   MD                     US   \n",
       "4          215021854                   MD                     US   \n",
       "\n",
       "       provider_type medicare_participation_indicator place_of_service  \\\n",
       "0  Internal Medicine                                Y                F   \n",
       "1  Internal Medicine                                Y                F   \n",
       "2  Internal Medicine                                Y                F   \n",
       "3  Internal Medicine                                Y                F   \n",
       "4  Internal Medicine                                Y                F   \n",
       "\n",
       "  hcpcs_code                                  hcpcs_description  \\\n",
       "0      99217                Hospital observation care discharge   \n",
       "1      99218     Hospital observation care typically 30 minutes   \n",
       "2      99219     Hospital observation care typically 50 minutes   \n",
       "3      99220  Hospital observation care typically 70 minutes...   \n",
       "4      99221  Initial hospital inpatient care, typically 30 ...   \n",
       "\n",
       "  hcpcs_drug_indicator  line_srvc_cnt  bene_unique_cnt  bene_day_srvc_cnt  \\\n",
       "0                    N          100.0               96                100   \n",
       "1                    N           26.0               25                 26   \n",
       "2                    N           52.0               51                 52   \n",
       "3                    N           59.0               59                 59   \n",
       "4                    N           16.0               16                 16   \n",
       "\n",
       "   average_Medicare_allowed_amt  average_submitted_chrg_amt  \\\n",
       "0                     73.398800                  325.780000   \n",
       "1                    100.080000                  449.000000   \n",
       "2                    136.380000                  614.000000   \n",
       "3                    190.363729                  755.932203   \n",
       "4                    101.680000                  462.812500   \n",
       "\n",
       "   average_Medicare_payment_amt  average_Medicare_standard_amt  \\\n",
       "0                     56.827200                      57.492400   \n",
       "1                     78.460000                      79.306154   \n",
       "2                    102.807692                     103.895385   \n",
       "3                    141.293559                     142.865763   \n",
       "4                     79.710000                      80.750000   \n",
       "\n",
       "   Total_submitted_chrg_amt  Total_Medicare_payment_amt  \n",
       "0                   32578.0                     5682.72  \n",
       "1                   11674.0                     2039.96  \n",
       "2                   31928.0                     5346.00  \n",
       "3                   44600.0                     8336.32  \n",
       "4                    7405.0                     1275.36  "
      ]
     },
     "execution_count": 6,
     "metadata": {},
     "output_type": "execute_result"
    }
   ],
   "source": [
    "df.head()"
   ]
  },
  {
   "cell_type": "code",
   "execution_count": 7,
   "metadata": {},
   "outputs": [],
   "source": [
    "Total_submitted = df.Total_submitted_chrg_amt.sum()"
   ]
  },
  {
   "cell_type": "code",
   "execution_count": 8,
   "metadata": {},
   "outputs": [],
   "source": [
    "#per-row (per HCPS not grouped) --(wrong code)\n",
    "#top = df.sort_values(by='Total_submitted_chrg_amt', ascending=False).hcpcs_code.unique() \n",
    "#x = df[df.hcpcs_code.isin(top[0:10])]\n",
    "#x.shape"
   ]
  },
  {
   "cell_type": "code",
   "execution_count": 9,
   "metadata": {},
   "outputs": [],
   "source": [
    "#x.hcpcs_code.value_counts()"
   ]
  },
  {
   "cell_type": "code",
   "execution_count": 10,
   "metadata": {},
   "outputs": [
    {
     "data": {
      "text/plain": [
       "Index(['99214', '99213', '99285', '66984', '99232', '99233', 'A0427', '99223',\n",
       "       '99291', '99284'],\n",
       "      dtype='object', name='hcpcs_code')"
      ]
     },
     "execution_count": 10,
     "metadata": {},
     "output_type": "execute_result"
    }
   ],
   "source": [
    "# sort by top 10 hcpcs:\n",
    "top_hcpcs = df.groupby(['hcpcs_code'])['Total_submitted_chrg_amt'].sum().sort_values(ascending=False)\n",
    "top10_hcpcs = top_hcpcs[0:10].index\n",
    "top10_hcpcs"
   ]
  },
  {
   "cell_type": "code",
   "execution_count": 11,
   "metadata": {
    "scrolled": true
   },
   "outputs": [
    {
     "data": {
      "text/plain": [
       "(1520985, 28)"
      ]
     },
     "execution_count": 11,
     "metadata": {},
     "output_type": "execute_result"
    }
   ],
   "source": [
    "df_top10 = df[df.hcpcs_code.isin(top10_hcpcs)]\n",
    "df_top10.shape"
   ]
  },
  {
   "cell_type": "code",
   "execution_count": 12,
   "metadata": {},
   "outputs": [
    {
     "data": {
      "text/plain": [
       "99213    457843\n",
       "99214    428268\n",
       "99232    175336\n",
       "99223    133368\n",
       "99233    120664\n",
       "99291     62680\n",
       "99284     60805\n",
       "99285     57220\n",
       "66984     17613\n",
       "A0427      7188\n",
       "Name: hcpcs_code, dtype: int64"
      ]
     },
     "execution_count": 12,
     "metadata": {},
     "output_type": "execute_result"
    }
   ],
   "source": [
    "df_top10.hcpcs_code.value_counts() #number of submitted charges\n",
    "# bene_unique_cnt / total_bene_unique_cnt\n",
    "# unique_npi / total_unique_npi"
   ]
  },
  {
   "cell_type": "code",
   "execution_count": 13,
   "metadata": {},
   "outputs": [
    {
     "data": {
      "text/html": [
       "<div>\n",
       "<style scoped>\n",
       "    .dataframe tbody tr th:only-of-type {\n",
       "        vertical-align: middle;\n",
       "    }\n",
       "\n",
       "    .dataframe tbody tr th {\n",
       "        vertical-align: top;\n",
       "    }\n",
       "\n",
       "    .dataframe thead th {\n",
       "        text-align: right;\n",
       "    }\n",
       "</style>\n",
       "<table border=\"1\" class=\"dataframe\">\n",
       "  <thead>\n",
       "    <tr style=\"text-align: right;\">\n",
       "      <th></th>\n",
       "      <th>Total_submitted_sum</th>\n",
       "      <th>Total_submitted_percent</th>\n",
       "    </tr>\n",
       "  </thead>\n",
       "  <tbody>\n",
       "    <tr>\n",
       "      <th>66984</th>\n",
       "      <td>8.510616e+09</td>\n",
       "      <td>2.695674</td>\n",
       "    </tr>\n",
       "    <tr>\n",
       "      <th>99213</th>\n",
       "      <td>1.287074e+10</td>\n",
       "      <td>4.076711</td>\n",
       "    </tr>\n",
       "    <tr>\n",
       "      <th>99214</th>\n",
       "      <td>NaN</td>\n",
       "      <td>6.438335</td>\n",
       "    </tr>\n",
       "    <tr>\n",
       "      <th>99223</th>\n",
       "      <td>4.681324e+09</td>\n",
       "      <td>1.482774</td>\n",
       "    </tr>\n",
       "    <tr>\n",
       "      <th>99232</th>\n",
       "      <td>7.573940e+09</td>\n",
       "      <td>2.398989</td>\n",
       "    </tr>\n",
       "    <tr>\n",
       "      <th>99233</th>\n",
       "      <td>5.667375e+09</td>\n",
       "      <td>1.795099</td>\n",
       "    </tr>\n",
       "    <tr>\n",
       "      <th>99284</th>\n",
       "      <td>3.748309e+09</td>\n",
       "      <td>1.187249</td>\n",
       "    </tr>\n",
       "    <tr>\n",
       "      <th>99285</th>\n",
       "      <td>1.244005e+10</td>\n",
       "      <td>3.940294</td>\n",
       "    </tr>\n",
       "    <tr>\n",
       "      <th>99291</th>\n",
       "      <td>4.499186e+09</td>\n",
       "      <td>1.425083</td>\n",
       "    </tr>\n",
       "    <tr>\n",
       "      <th>A0427</th>\n",
       "      <td>5.432417e+09</td>\n",
       "      <td>1.720677</td>\n",
       "    </tr>\n",
       "  </tbody>\n",
       "</table>\n",
       "</div>"
      ],
      "text/plain": [
       "       Total_submitted_sum  Total_submitted_percent\n",
       "66984         8.510616e+09                 2.695674\n",
       "99213         1.287074e+10                 4.076711\n",
       "99214                  NaN                 6.438335\n",
       "99223         4.681324e+09                 1.482774\n",
       "99232         7.573940e+09                 2.398989\n",
       "99233         5.667375e+09                 1.795099\n",
       "99284         3.748309e+09                 1.187249\n",
       "99285         1.244005e+10                 3.940294\n",
       "99291         4.499186e+09                 1.425083\n",
       "A0427         5.432417e+09                 1.720677"
      ]
     },
     "execution_count": 13,
     "metadata": {},
     "output_type": "execute_result"
    }
   ],
   "source": [
    "pd.DataFrame({'Total_submitted_sum': top_hcpcs[1:10],\\\n",
    "              'Total_submitted_percent': ((top_hcpcs[0:10] / Total_submitted) * 100)})"
   ]
  },
  {
   "cell_type": "code",
   "execution_count": 14,
   "metadata": {},
   "outputs": [
    {
     "data": {
      "text/plain": [
       "hcpcs_code\n",
       "99213    1.287074e+10\n",
       "99285    1.244005e+10\n",
       "66984    8.510616e+09\n",
       "99232    7.573940e+09\n",
       "99233    5.667375e+09\n",
       "A0427    5.432417e+09\n",
       "99223    4.681324e+09\n",
       "99291    4.499186e+09\n",
       "99284    3.748309e+09\n",
       "Name: Total_submitted_chrg_amt, dtype: float64"
      ]
     },
     "execution_count": 14,
     "metadata": {},
     "output_type": "execute_result"
    }
   ],
   "source": [
    "top_hcpcs[1:10]"
   ]
  },
  {
   "cell_type": "code",
   "execution_count": 15,
   "metadata": {},
   "outputs": [
    {
     "data": {
      "text/plain": [
       "hcpcs_code\n",
       "99214    6.438335\n",
       "99213    4.076711\n",
       "99285    3.940294\n",
       "66984    2.695674\n",
       "99232    2.398989\n",
       "99233    1.795099\n",
       "A0427    1.720677\n",
       "99223    1.482774\n",
       "99291    1.425083\n",
       "99284    1.187249\n",
       "Name: Total_submitted_chrg_amt, dtype: float64"
      ]
     },
     "execution_count": 15,
     "metadata": {},
     "output_type": "execute_result"
    }
   ],
   "source": [
    "top_hcpcs[0:10] / Total_submitted * 100"
   ]
  },
  {
   "cell_type": "code",
   "execution_count": 16,
   "metadata": {},
   "outputs": [
    {
     "data": {
      "text/plain": [
       "hcpcs_code\n",
       "66984     17613\n",
       "99213    457843\n",
       "99214    428268\n",
       "99223    133368\n",
       "99232    175336\n",
       "99233    120664\n",
       "99284     60805\n",
       "99285     57220\n",
       "99291     62680\n",
       "A0427      7188\n",
       "Name: npi, dtype: int64"
      ]
     },
     "execution_count": 16,
     "metadata": {},
     "output_type": "execute_result"
    }
   ],
   "source": [
    "df_top10.groupby('hcpcs_code')['npi'].count()"
   ]
  },
  {
   "cell_type": "code",
   "execution_count": 17,
   "metadata": {},
   "outputs": [
    {
     "data": {
      "text/plain": [
       "(1520985, 28)"
      ]
     },
     "execution_count": 17,
     "metadata": {},
     "output_type": "execute_result"
    }
   ],
   "source": [
    "df_top10.shape"
   ]
  },
  {
   "cell_type": "code",
   "execution_count": 18,
   "metadata": {},
   "outputs": [
    {
     "data": {
      "text/plain": [
       "99213    457843\n",
       "99214    428268\n",
       "99232    175336\n",
       "99223    133368\n",
       "99233    120664\n",
       "99291     62680\n",
       "99284     60805\n",
       "99285     57220\n",
       "66984     17613\n",
       "A0427      7188\n",
       "Name: hcpcs_code, dtype: int64"
      ]
     },
     "execution_count": 18,
     "metadata": {},
     "output_type": "execute_result"
    }
   ],
   "source": [
    "df_top10.hcpcs_code.value_counts()"
   ]
  },
  {
   "cell_type": "code",
   "execution_count": 19,
   "metadata": {},
   "outputs": [],
   "source": [
    "#df_top10.to_csv(Path(\"data\",\"top10_hcpcs.csv\")) #create a new csv file"
   ]
  },
  {
   "cell_type": "code",
   "execution_count": 20,
   "metadata": {},
   "outputs": [],
   "source": [
    "#sort via highest avg Total_average_submitted_charge_amount\n",
    "#pick top 10 \n",
    "#find proportion for the top 10\n",
    "# drop all columns not in top 10"
   ]
  },
  {
   "cell_type": "markdown",
   "metadata": {},
   "source": [
    "# LEIE and TOP-10 HCPCS CleanUP"
   ]
  },
  {
   "cell_type": "code",
   "execution_count": 21,
   "metadata": {},
   "outputs": [
    {
     "name": "stderr",
     "output_type": "stream",
     "text": [
      "/Users/rad/anaconda3/lib/python3.7/site-packages/IPython/core/interactiveshell.py:3020: DtypeWarning: Columns (3) have mixed types. Specify dtype option on import or set low_memory=False.\n",
      "  interactivity=interactivity, compiler=compiler, result=result)\n"
     ]
    }
   ],
   "source": [
    "#LEIE\n",
    "LEIE = pd.read_csv('data/LEIE_08_2019.csv')"
   ]
  },
  {
   "cell_type": "code",
   "execution_count": 22,
   "metadata": {
    "scrolled": true
   },
   "outputs": [
    {
     "name": "stderr",
     "output_type": "stream",
     "text": [
      "/Users/rad/anaconda3/lib/python3.7/site-packages/IPython/core/interactiveshell.py:3020: DtypeWarning: Columns (11) have mixed types. Specify dtype option on import or set low_memory=False.\n",
      "  interactivity=interactivity, compiler=compiler, result=result)\n",
      "/Users/rad/anaconda3/lib/python3.7/site-packages/numpy/lib/arraysetops.py:522: FutureWarning: elementwise comparison failed; returning scalar instead, but in the future will perform elementwise comparison\n",
      "  mask |= (ar1 == a)\n"
     ]
    }
   ],
   "source": [
    "#Top10-HCPCS\n",
    "df = pd.read_csv('data/top10_hcpcs.csv', \n",
    "                 dtype={'hcpcs_code':object},\n",
    "                 index_col=0)"
   ]
  },
  {
   "cell_type": "code",
   "execution_count": 23,
   "metadata": {},
   "outputs": [
    {
     "data": {
      "text/plain": [
       "(1520985, 28)"
      ]
     },
     "execution_count": 23,
     "metadata": {},
     "output_type": "execute_result"
    }
   ],
   "source": [
    "df.shape"
   ]
  },
  {
   "cell_type": "code",
   "execution_count": 24,
   "metadata": {},
   "outputs": [
    {
     "data": {
      "text/html": [
       "<div>\n",
       "<style scoped>\n",
       "    .dataframe tbody tr th:only-of-type {\n",
       "        vertical-align: middle;\n",
       "    }\n",
       "\n",
       "    .dataframe tbody tr th {\n",
       "        vertical-align: top;\n",
       "    }\n",
       "\n",
       "    .dataframe thead th {\n",
       "        text-align: right;\n",
       "    }\n",
       "</style>\n",
       "<table border=\"1\" class=\"dataframe\">\n",
       "  <thead>\n",
       "    <tr style=\"text-align: right;\">\n",
       "      <th></th>\n",
       "      <th>npi</th>\n",
       "      <th>nppes_provider_last_org_name</th>\n",
       "      <th>nppes_provider_first_name</th>\n",
       "      <th>nppes_provider_mi</th>\n",
       "      <th>nppes_credentials</th>\n",
       "      <th>nppes_provider_gender</th>\n",
       "      <th>nppes_entity_code</th>\n",
       "      <th>nppes_provider_street1</th>\n",
       "      <th>nppes_provider_street2</th>\n",
       "      <th>nppes_provider_city</th>\n",
       "      <th>nppes_provider_zip</th>\n",
       "      <th>nppes_provider_state</th>\n",
       "      <th>nppes_provider_country</th>\n",
       "      <th>provider_type</th>\n",
       "      <th>medicare_participation_indicator</th>\n",
       "      <th>place_of_service</th>\n",
       "      <th>hcpcs_code</th>\n",
       "      <th>hcpcs_description</th>\n",
       "      <th>hcpcs_drug_indicator</th>\n",
       "      <th>line_srvc_cnt</th>\n",
       "      <th>bene_unique_cnt</th>\n",
       "      <th>bene_day_srvc_cnt</th>\n",
       "      <th>average_Medicare_allowed_amt</th>\n",
       "      <th>average_submitted_chrg_amt</th>\n",
       "      <th>average_Medicare_payment_amt</th>\n",
       "      <th>average_Medicare_standard_amt</th>\n",
       "      <th>Total_submitted_chrg_amt</th>\n",
       "      <th>Total_Medicare_payment_amt</th>\n",
       "    </tr>\n",
       "  </thead>\n",
       "  <tbody>\n",
       "    <tr>\n",
       "      <th>6</th>\n",
       "      <td>1003000126</td>\n",
       "      <td>ENKESHAFI</td>\n",
       "      <td>ARDALAN</td>\n",
       "      <td>NaN</td>\n",
       "      <td>M.D.</td>\n",
       "      <td>M</td>\n",
       "      <td>I</td>\n",
       "      <td>900 SETON DR</td>\n",
       "      <td>NaN</td>\n",
       "      <td>CUMBERLAND</td>\n",
       "      <td>215021854</td>\n",
       "      <td>MD</td>\n",
       "      <td>US</td>\n",
       "      <td>Internal Medicine</td>\n",
       "      <td>Y</td>\n",
       "      <td>F</td>\n",
       "      <td>99223</td>\n",
       "      <td>Initial hospital inpatient care, typically 70 ...</td>\n",
       "      <td>N</td>\n",
       "      <td>114.0</td>\n",
       "      <td>110</td>\n",
       "      <td>114</td>\n",
       "      <td>206.061579</td>\n",
       "      <td>923.991228</td>\n",
       "      <td>160.377193</td>\n",
       "      <td>160.026316</td>\n",
       "      <td>105335.000000</td>\n",
       "      <td>18283.00</td>\n",
       "    </tr>\n",
       "    <tr>\n",
       "      <th>7</th>\n",
       "      <td>1003000126</td>\n",
       "      <td>ENKESHAFI</td>\n",
       "      <td>ARDALAN</td>\n",
       "      <td>NaN</td>\n",
       "      <td>M.D.</td>\n",
       "      <td>M</td>\n",
       "      <td>I</td>\n",
       "      <td>900 SETON DR</td>\n",
       "      <td>NaN</td>\n",
       "      <td>CUMBERLAND</td>\n",
       "      <td>215021854</td>\n",
       "      <td>MD</td>\n",
       "      <td>US</td>\n",
       "      <td>Internal Medicine</td>\n",
       "      <td>Y</td>\n",
       "      <td>F</td>\n",
       "      <td>99232</td>\n",
       "      <td>Subsequent hospital inpatient care, typically ...</td>\n",
       "      <td>N</td>\n",
       "      <td>627.0</td>\n",
       "      <td>233</td>\n",
       "      <td>627</td>\n",
       "      <td>72.622456</td>\n",
       "      <td>326.245614</td>\n",
       "      <td>56.366730</td>\n",
       "      <td>57.047895</td>\n",
       "      <td>204556.000003</td>\n",
       "      <td>35341.94</td>\n",
       "    </tr>\n",
       "    <tr>\n",
       "      <th>8</th>\n",
       "      <td>1003000126</td>\n",
       "      <td>ENKESHAFI</td>\n",
       "      <td>ARDALAN</td>\n",
       "      <td>NaN</td>\n",
       "      <td>M.D.</td>\n",
       "      <td>M</td>\n",
       "      <td>I</td>\n",
       "      <td>900 SETON DR</td>\n",
       "      <td>NaN</td>\n",
       "      <td>CUMBERLAND</td>\n",
       "      <td>215021854</td>\n",
       "      <td>MD</td>\n",
       "      <td>US</td>\n",
       "      <td>Internal Medicine</td>\n",
       "      <td>Y</td>\n",
       "      <td>F</td>\n",
       "      <td>99233</td>\n",
       "      <td>Subsequent hospital inpatient care, typically ...</td>\n",
       "      <td>N</td>\n",
       "      <td>207.0</td>\n",
       "      <td>127</td>\n",
       "      <td>207</td>\n",
       "      <td>106.653913</td>\n",
       "      <td>461.072464</td>\n",
       "      <td>82.820676</td>\n",
       "      <td>83.196039</td>\n",
       "      <td>95442.000000</td>\n",
       "      <td>17143.88</td>\n",
       "    </tr>\n",
       "    <tr>\n",
       "      <th>10</th>\n",
       "      <td>1003000126</td>\n",
       "      <td>ENKESHAFI</td>\n",
       "      <td>ARDALAN</td>\n",
       "      <td>NaN</td>\n",
       "      <td>M.D.</td>\n",
       "      <td>M</td>\n",
       "      <td>I</td>\n",
       "      <td>900 SETON DR</td>\n",
       "      <td>NaN</td>\n",
       "      <td>CUMBERLAND</td>\n",
       "      <td>215021854</td>\n",
       "      <td>MD</td>\n",
       "      <td>US</td>\n",
       "      <td>Internal Medicine</td>\n",
       "      <td>Y</td>\n",
       "      <td>F</td>\n",
       "      <td>99291</td>\n",
       "      <td>Critical care delivery critically ill or injur...</td>\n",
       "      <td>N</td>\n",
       "      <td>36.0</td>\n",
       "      <td>23</td>\n",
       "      <td>36</td>\n",
       "      <td>224.170000</td>\n",
       "      <td>1400.000000</td>\n",
       "      <td>175.750000</td>\n",
       "      <td>177.656667</td>\n",
       "      <td>50400.000000</td>\n",
       "      <td>6327.00</td>\n",
       "    </tr>\n",
       "    <tr>\n",
       "      <th>39</th>\n",
       "      <td>1003000142</td>\n",
       "      <td>KHALIL</td>\n",
       "      <td>RASHID</td>\n",
       "      <td>NaN</td>\n",
       "      <td>M.D.</td>\n",
       "      <td>M</td>\n",
       "      <td>I</td>\n",
       "      <td>4126 N HOLLAND SYLVANIA RD</td>\n",
       "      <td>SUITE 220</td>\n",
       "      <td>TOLEDO</td>\n",
       "      <td>436233536</td>\n",
       "      <td>OH</td>\n",
       "      <td>US</td>\n",
       "      <td>Anesthesiology</td>\n",
       "      <td>Y</td>\n",
       "      <td>O</td>\n",
       "      <td>99213</td>\n",
       "      <td>Established patient office or other outpatient...</td>\n",
       "      <td>N</td>\n",
       "      <td>129.0</td>\n",
       "      <td>89</td>\n",
       "      <td>129</td>\n",
       "      <td>70.930000</td>\n",
       "      <td>109.000000</td>\n",
       "      <td>50.868062</td>\n",
       "      <td>53.268372</td>\n",
       "      <td>14061.000000</td>\n",
       "      <td>6561.98</td>\n",
       "    </tr>\n",
       "  </tbody>\n",
       "</table>\n",
       "</div>"
      ],
      "text/plain": [
       "           npi nppes_provider_last_org_name nppes_provider_first_name  \\\n",
       "6   1003000126                    ENKESHAFI                   ARDALAN   \n",
       "7   1003000126                    ENKESHAFI                   ARDALAN   \n",
       "8   1003000126                    ENKESHAFI                   ARDALAN   \n",
       "10  1003000126                    ENKESHAFI                   ARDALAN   \n",
       "39  1003000142                       KHALIL                    RASHID   \n",
       "\n",
       "   nppes_provider_mi nppes_credentials nppes_provider_gender  \\\n",
       "6                NaN              M.D.                     M   \n",
       "7                NaN              M.D.                     M   \n",
       "8                NaN              M.D.                     M   \n",
       "10               NaN              M.D.                     M   \n",
       "39               NaN              M.D.                     M   \n",
       "\n",
       "   nppes_entity_code      nppes_provider_street1 nppes_provider_street2  \\\n",
       "6                  I                900 SETON DR                    NaN   \n",
       "7                  I                900 SETON DR                    NaN   \n",
       "8                  I                900 SETON DR                    NaN   \n",
       "10                 I                900 SETON DR                    NaN   \n",
       "39                 I  4126 N HOLLAND SYLVANIA RD              SUITE 220   \n",
       "\n",
       "   nppes_provider_city nppes_provider_zip nppes_provider_state  \\\n",
       "6           CUMBERLAND          215021854                   MD   \n",
       "7           CUMBERLAND          215021854                   MD   \n",
       "8           CUMBERLAND          215021854                   MD   \n",
       "10          CUMBERLAND          215021854                   MD   \n",
       "39              TOLEDO          436233536                   OH   \n",
       "\n",
       "   nppes_provider_country      provider_type medicare_participation_indicator  \\\n",
       "6                      US  Internal Medicine                                Y   \n",
       "7                      US  Internal Medicine                                Y   \n",
       "8                      US  Internal Medicine                                Y   \n",
       "10                     US  Internal Medicine                                Y   \n",
       "39                     US     Anesthesiology                                Y   \n",
       "\n",
       "   place_of_service hcpcs_code  \\\n",
       "6                 F      99223   \n",
       "7                 F      99232   \n",
       "8                 F      99233   \n",
       "10                F      99291   \n",
       "39                O      99213   \n",
       "\n",
       "                                    hcpcs_description hcpcs_drug_indicator  \\\n",
       "6   Initial hospital inpatient care, typically 70 ...                    N   \n",
       "7   Subsequent hospital inpatient care, typically ...                    N   \n",
       "8   Subsequent hospital inpatient care, typically ...                    N   \n",
       "10  Critical care delivery critically ill or injur...                    N   \n",
       "39  Established patient office or other outpatient...                    N   \n",
       "\n",
       "    line_srvc_cnt  bene_unique_cnt  bene_day_srvc_cnt  \\\n",
       "6           114.0              110                114   \n",
       "7           627.0              233                627   \n",
       "8           207.0              127                207   \n",
       "10           36.0               23                 36   \n",
       "39          129.0               89                129   \n",
       "\n",
       "    average_Medicare_allowed_amt  average_submitted_chrg_amt  \\\n",
       "6                     206.061579                  923.991228   \n",
       "7                      72.622456                  326.245614   \n",
       "8                     106.653913                  461.072464   \n",
       "10                    224.170000                 1400.000000   \n",
       "39                     70.930000                  109.000000   \n",
       "\n",
       "    average_Medicare_payment_amt  average_Medicare_standard_amt  \\\n",
       "6                     160.377193                     160.026316   \n",
       "7                      56.366730                      57.047895   \n",
       "8                      82.820676                      83.196039   \n",
       "10                    175.750000                     177.656667   \n",
       "39                     50.868062                      53.268372   \n",
       "\n",
       "    Total_submitted_chrg_amt  Total_Medicare_payment_amt  \n",
       "6              105335.000000                    18283.00  \n",
       "7              204556.000003                    35341.94  \n",
       "8               95442.000000                    17143.88  \n",
       "10              50400.000000                     6327.00  \n",
       "39              14061.000000                     6561.98  "
      ]
     },
     "execution_count": 24,
     "metadata": {},
     "output_type": "execute_result"
    }
   ],
   "source": [
    "df.head()"
   ]
  },
  {
   "cell_type": "code",
   "execution_count": 25,
   "metadata": {},
   "outputs": [
    {
     "data": {
      "text/plain": [
       "10"
      ]
     },
     "execution_count": 25,
     "metadata": {},
     "output_type": "execute_result"
    }
   ],
   "source": [
    "df.hcpcs_code.nunique()"
   ]
  },
  {
   "cell_type": "code",
   "execution_count": 26,
   "metadata": {},
   "outputs": [
    {
     "data": {
      "text/plain": [
       "Index(['npi', 'nppes_provider_last_org_name', 'nppes_provider_first_name',\n",
       "       'nppes_provider_mi', 'nppes_credentials', 'nppes_provider_gender',\n",
       "       'nppes_entity_code', 'nppes_provider_street1', 'nppes_provider_street2',\n",
       "       'nppes_provider_city', 'nppes_provider_zip', 'nppes_provider_state',\n",
       "       'nppes_provider_country', 'provider_type',\n",
       "       'medicare_participation_indicator', 'place_of_service', 'hcpcs_code',\n",
       "       'hcpcs_description', 'hcpcs_drug_indicator', 'line_srvc_cnt',\n",
       "       'bene_unique_cnt', 'bene_day_srvc_cnt', 'average_Medicare_allowed_amt',\n",
       "       'average_submitted_chrg_amt', 'average_Medicare_payment_amt',\n",
       "       'average_Medicare_standard_amt', 'Total_submitted_chrg_amt',\n",
       "       'Total_Medicare_payment_amt'],\n",
       "      dtype='object')"
      ]
     },
     "execution_count": 26,
     "metadata": {},
     "output_type": "execute_result"
    }
   ],
   "source": [
    "df.columns"
   ]
  },
  {
   "cell_type": "code",
   "execution_count": 27,
   "metadata": {},
   "outputs": [
    {
     "data": {
      "text/plain": [
       "9458"
      ]
     },
     "execution_count": 27,
     "metadata": {},
     "output_type": "execute_result"
    }
   ],
   "source": [
    "# need to drop this!\n",
    "((df.nppes_provider_country != 'US') | (df.medicare_participation_indicator == 'N') |\n",
    " (df.nppes_entity_code=='O')).sum()"
   ]
  },
  {
   "cell_type": "code",
   "execution_count": 28,
   "metadata": {},
   "outputs": [],
   "source": [
    "df['nppes_provider_zip'] = df.nppes_provider_zip.astype(str)\n",
    "df['nppes_provider_zip'] = df['nppes_provider_zip'].str[0:5]"
   ]
  },
  {
   "cell_type": "code",
   "execution_count": 29,
   "metadata": {},
   "outputs": [],
   "source": [
    "df = df.loc[(df.nppes_provider_country == 'US') & (df.medicare_participation_indicator == 'Y')\\\n",
    "            & (df.nppes_entity_code=='I')]\n",
    "dropcols = [\"nppes_provider_country\", \"medicare_participation_indicator\", \\\n",
    "            \"nppes_entity_code\", \"nppes_provider_street2\", \\\n",
    "            \"nppes_provider_mi\", \"hcpcs_drug_indicator\"]"
   ]
  },
  {
   "cell_type": "code",
   "execution_count": 30,
   "metadata": {},
   "outputs": [],
   "source": [
    "df = df.drop(dropcols, axis=1)"
   ]
  },
  {
   "cell_type": "code",
   "execution_count": 31,
   "metadata": {},
   "outputs": [
    {
     "data": {
      "text/plain": [
       "Index(['npi', 'nppes_provider_last_org_name', 'nppes_provider_first_name',\n",
       "       'nppes_credentials', 'nppes_provider_gender', 'nppes_provider_street1',\n",
       "       'nppes_provider_city', 'nppes_provider_zip', 'nppes_provider_state',\n",
       "       'provider_type', 'place_of_service', 'hcpcs_code', 'hcpcs_description',\n",
       "       'line_srvc_cnt', 'bene_unique_cnt', 'bene_day_srvc_cnt',\n",
       "       'average_Medicare_allowed_amt', 'average_submitted_chrg_amt',\n",
       "       'average_Medicare_payment_amt', 'average_Medicare_standard_amt',\n",
       "       'Total_submitted_chrg_amt', 'Total_Medicare_payment_amt'],\n",
       "      dtype='object')"
      ]
     },
     "execution_count": 31,
     "metadata": {},
     "output_type": "execute_result"
    }
   ],
   "source": [
    "df.columns"
   ]
  },
  {
   "cell_type": "code",
   "execution_count": 32,
   "metadata": {},
   "outputs": [],
   "source": [
    "df.columns = [\"npi\", \"lastname\", \"firstname\", \"credentials\", \"gender\", \"address\", \"city\",\\\n",
    "              \"zip\", \"state\", \"provider_type\", \"place_of_service\", \"hcpcs_code\", \"hcpcs_description\", \\\n",
    "              \"line_srvc_cnt\", \"bene_unique_cnt\", \"bene_day_srvc_cnt\", \\\n",
    "              \"average_Medicare_allowed_amt\", \"average_submitted_chrg_amt\", \\\n",
    "              \"average_Medicare_payment_amt\", \"average_Medicare_standard_amt\",\\\n",
    "              \"Total_submitted_chrg_amt\", \"Total_Medicare_payment_amt\"]"
   ]
  },
  {
   "cell_type": "code",
   "execution_count": 33,
   "metadata": {},
   "outputs": [
    {
     "data": {
      "text/plain": [
       "99213    457650\n",
       "99214    428097\n",
       "99232    175317\n",
       "99223    133359\n",
       "99233    120656\n",
       "99291     62675\n",
       "99284     60796\n",
       "99285     57211\n",
       "66984     15761\n",
       "A0427         5\n",
       "Name: hcpcs_code, dtype: int64"
      ]
     },
     "execution_count": 33,
     "metadata": {},
     "output_type": "execute_result"
    }
   ],
   "source": [
    "df.hcpcs_code.value_counts()"
   ]
  },
  {
   "cell_type": "code",
   "execution_count": 34,
   "metadata": {},
   "outputs": [
    {
     "data": {
      "text/plain": [
       "(1511527, 22)"
      ]
     },
     "execution_count": 34,
     "metadata": {},
     "output_type": "execute_result"
    }
   ],
   "source": [
    "df.shape"
   ]
  },
  {
   "cell_type": "code",
   "execution_count": 35,
   "metadata": {},
   "outputs": [
    {
     "data": {
      "text/html": [
       "<div>\n",
       "<style scoped>\n",
       "    .dataframe tbody tr th:only-of-type {\n",
       "        vertical-align: middle;\n",
       "    }\n",
       "\n",
       "    .dataframe tbody tr th {\n",
       "        vertical-align: top;\n",
       "    }\n",
       "\n",
       "    .dataframe thead th {\n",
       "        text-align: right;\n",
       "    }\n",
       "</style>\n",
       "<table border=\"1\" class=\"dataframe\">\n",
       "  <thead>\n",
       "    <tr style=\"text-align: right;\">\n",
       "      <th></th>\n",
       "      <th>npi</th>\n",
       "      <th>lastname</th>\n",
       "      <th>firstname</th>\n",
       "      <th>credentials</th>\n",
       "      <th>gender</th>\n",
       "      <th>address</th>\n",
       "      <th>city</th>\n",
       "      <th>zip</th>\n",
       "      <th>state</th>\n",
       "      <th>provider_type</th>\n",
       "      <th>place_of_service</th>\n",
       "      <th>hcpcs_code</th>\n",
       "      <th>hcpcs_description</th>\n",
       "      <th>line_srvc_cnt</th>\n",
       "      <th>bene_unique_cnt</th>\n",
       "      <th>bene_day_srvc_cnt</th>\n",
       "      <th>average_Medicare_allowed_amt</th>\n",
       "      <th>average_submitted_chrg_amt</th>\n",
       "      <th>average_Medicare_payment_amt</th>\n",
       "      <th>average_Medicare_standard_amt</th>\n",
       "      <th>Total_submitted_chrg_amt</th>\n",
       "      <th>Total_Medicare_payment_amt</th>\n",
       "    </tr>\n",
       "  </thead>\n",
       "  <tbody>\n",
       "    <tr>\n",
       "      <th>6</th>\n",
       "      <td>1003000126</td>\n",
       "      <td>ENKESHAFI</td>\n",
       "      <td>ARDALAN</td>\n",
       "      <td>M.D.</td>\n",
       "      <td>M</td>\n",
       "      <td>900 SETON DR</td>\n",
       "      <td>CUMBERLAND</td>\n",
       "      <td>21502</td>\n",
       "      <td>MD</td>\n",
       "      <td>Internal Medicine</td>\n",
       "      <td>F</td>\n",
       "      <td>99223</td>\n",
       "      <td>Initial hospital inpatient care, typically 70 ...</td>\n",
       "      <td>114.0</td>\n",
       "      <td>110</td>\n",
       "      <td>114</td>\n",
       "      <td>206.061579</td>\n",
       "      <td>923.991228</td>\n",
       "      <td>160.377193</td>\n",
       "      <td>160.026316</td>\n",
       "      <td>105335.000000</td>\n",
       "      <td>18283.00</td>\n",
       "    </tr>\n",
       "    <tr>\n",
       "      <th>7</th>\n",
       "      <td>1003000126</td>\n",
       "      <td>ENKESHAFI</td>\n",
       "      <td>ARDALAN</td>\n",
       "      <td>M.D.</td>\n",
       "      <td>M</td>\n",
       "      <td>900 SETON DR</td>\n",
       "      <td>CUMBERLAND</td>\n",
       "      <td>21502</td>\n",
       "      <td>MD</td>\n",
       "      <td>Internal Medicine</td>\n",
       "      <td>F</td>\n",
       "      <td>99232</td>\n",
       "      <td>Subsequent hospital inpatient care, typically ...</td>\n",
       "      <td>627.0</td>\n",
       "      <td>233</td>\n",
       "      <td>627</td>\n",
       "      <td>72.622456</td>\n",
       "      <td>326.245614</td>\n",
       "      <td>56.366730</td>\n",
       "      <td>57.047895</td>\n",
       "      <td>204556.000003</td>\n",
       "      <td>35341.94</td>\n",
       "    </tr>\n",
       "    <tr>\n",
       "      <th>8</th>\n",
       "      <td>1003000126</td>\n",
       "      <td>ENKESHAFI</td>\n",
       "      <td>ARDALAN</td>\n",
       "      <td>M.D.</td>\n",
       "      <td>M</td>\n",
       "      <td>900 SETON DR</td>\n",
       "      <td>CUMBERLAND</td>\n",
       "      <td>21502</td>\n",
       "      <td>MD</td>\n",
       "      <td>Internal Medicine</td>\n",
       "      <td>F</td>\n",
       "      <td>99233</td>\n",
       "      <td>Subsequent hospital inpatient care, typically ...</td>\n",
       "      <td>207.0</td>\n",
       "      <td>127</td>\n",
       "      <td>207</td>\n",
       "      <td>106.653913</td>\n",
       "      <td>461.072464</td>\n",
       "      <td>82.820676</td>\n",
       "      <td>83.196039</td>\n",
       "      <td>95442.000000</td>\n",
       "      <td>17143.88</td>\n",
       "    </tr>\n",
       "    <tr>\n",
       "      <th>10</th>\n",
       "      <td>1003000126</td>\n",
       "      <td>ENKESHAFI</td>\n",
       "      <td>ARDALAN</td>\n",
       "      <td>M.D.</td>\n",
       "      <td>M</td>\n",
       "      <td>900 SETON DR</td>\n",
       "      <td>CUMBERLAND</td>\n",
       "      <td>21502</td>\n",
       "      <td>MD</td>\n",
       "      <td>Internal Medicine</td>\n",
       "      <td>F</td>\n",
       "      <td>99291</td>\n",
       "      <td>Critical care delivery critically ill or injur...</td>\n",
       "      <td>36.0</td>\n",
       "      <td>23</td>\n",
       "      <td>36</td>\n",
       "      <td>224.170000</td>\n",
       "      <td>1400.000000</td>\n",
       "      <td>175.750000</td>\n",
       "      <td>177.656667</td>\n",
       "      <td>50400.000000</td>\n",
       "      <td>6327.00</td>\n",
       "    </tr>\n",
       "    <tr>\n",
       "      <th>39</th>\n",
       "      <td>1003000142</td>\n",
       "      <td>KHALIL</td>\n",
       "      <td>RASHID</td>\n",
       "      <td>M.D.</td>\n",
       "      <td>M</td>\n",
       "      <td>4126 N HOLLAND SYLVANIA RD</td>\n",
       "      <td>TOLEDO</td>\n",
       "      <td>43623</td>\n",
       "      <td>OH</td>\n",
       "      <td>Anesthesiology</td>\n",
       "      <td>O</td>\n",
       "      <td>99213</td>\n",
       "      <td>Established patient office or other outpatient...</td>\n",
       "      <td>129.0</td>\n",
       "      <td>89</td>\n",
       "      <td>129</td>\n",
       "      <td>70.930000</td>\n",
       "      <td>109.000000</td>\n",
       "      <td>50.868062</td>\n",
       "      <td>53.268372</td>\n",
       "      <td>14061.000000</td>\n",
       "      <td>6561.98</td>\n",
       "    </tr>\n",
       "  </tbody>\n",
       "</table>\n",
       "</div>"
      ],
      "text/plain": [
       "           npi   lastname firstname credentials gender  \\\n",
       "6   1003000126  ENKESHAFI   ARDALAN        M.D.      M   \n",
       "7   1003000126  ENKESHAFI   ARDALAN        M.D.      M   \n",
       "8   1003000126  ENKESHAFI   ARDALAN        M.D.      M   \n",
       "10  1003000126  ENKESHAFI   ARDALAN        M.D.      M   \n",
       "39  1003000142     KHALIL    RASHID        M.D.      M   \n",
       "\n",
       "                       address        city    zip state      provider_type  \\\n",
       "6                 900 SETON DR  CUMBERLAND  21502    MD  Internal Medicine   \n",
       "7                 900 SETON DR  CUMBERLAND  21502    MD  Internal Medicine   \n",
       "8                 900 SETON DR  CUMBERLAND  21502    MD  Internal Medicine   \n",
       "10                900 SETON DR  CUMBERLAND  21502    MD  Internal Medicine   \n",
       "39  4126 N HOLLAND SYLVANIA RD      TOLEDO  43623    OH     Anesthesiology   \n",
       "\n",
       "   place_of_service hcpcs_code  \\\n",
       "6                 F      99223   \n",
       "7                 F      99232   \n",
       "8                 F      99233   \n",
       "10                F      99291   \n",
       "39                O      99213   \n",
       "\n",
       "                                    hcpcs_description  line_srvc_cnt  \\\n",
       "6   Initial hospital inpatient care, typically 70 ...          114.0   \n",
       "7   Subsequent hospital inpatient care, typically ...          627.0   \n",
       "8   Subsequent hospital inpatient care, typically ...          207.0   \n",
       "10  Critical care delivery critically ill or injur...           36.0   \n",
       "39  Established patient office or other outpatient...          129.0   \n",
       "\n",
       "    bene_unique_cnt  bene_day_srvc_cnt  average_Medicare_allowed_amt  \\\n",
       "6               110                114                    206.061579   \n",
       "7               233                627                     72.622456   \n",
       "8               127                207                    106.653913   \n",
       "10               23                 36                    224.170000   \n",
       "39               89                129                     70.930000   \n",
       "\n",
       "    average_submitted_chrg_amt  average_Medicare_payment_amt  \\\n",
       "6                   923.991228                    160.377193   \n",
       "7                   326.245614                     56.366730   \n",
       "8                   461.072464                     82.820676   \n",
       "10                 1400.000000                    175.750000   \n",
       "39                  109.000000                     50.868062   \n",
       "\n",
       "    average_Medicare_standard_amt  Total_submitted_chrg_amt  \\\n",
       "6                      160.026316             105335.000000   \n",
       "7                       57.047895             204556.000003   \n",
       "8                       83.196039              95442.000000   \n",
       "10                     177.656667              50400.000000   \n",
       "39                      53.268372              14061.000000   \n",
       "\n",
       "    Total_Medicare_payment_amt  \n",
       "6                     18283.00  \n",
       "7                     35341.94  \n",
       "8                     17143.88  \n",
       "10                     6327.00  \n",
       "39                     6561.98  "
      ]
     },
     "execution_count": 35,
     "metadata": {},
     "output_type": "execute_result"
    }
   ],
   "source": [
    "df.head()"
   ]
  },
  {
   "cell_type": "code",
   "execution_count": 36,
   "metadata": {},
   "outputs": [
    {
     "data": {
      "text/html": [
       "<div>\n",
       "<style scoped>\n",
       "    .dataframe tbody tr th:only-of-type {\n",
       "        vertical-align: middle;\n",
       "    }\n",
       "\n",
       "    .dataframe tbody tr th {\n",
       "        vertical-align: top;\n",
       "    }\n",
       "\n",
       "    .dataframe thead th {\n",
       "        text-align: right;\n",
       "    }\n",
       "</style>\n",
       "<table border=\"1\" class=\"dataframe\">\n",
       "  <thead>\n",
       "    <tr style=\"text-align: right;\">\n",
       "      <th></th>\n",
       "      <th>LASTNAME</th>\n",
       "      <th>FIRSTNAME</th>\n",
       "      <th>MIDNAME</th>\n",
       "      <th>BUSNAME</th>\n",
       "      <th>GENERAL</th>\n",
       "      <th>SPECIALTY</th>\n",
       "      <th>UPIN</th>\n",
       "      <th>NPI</th>\n",
       "      <th>DOB</th>\n",
       "      <th>ADDRESS</th>\n",
       "      <th>CITY</th>\n",
       "      <th>STATE</th>\n",
       "      <th>ZIP</th>\n",
       "      <th>EXCLTYPE</th>\n",
       "      <th>EXCLDATE</th>\n",
       "      <th>REINDATE</th>\n",
       "      <th>WAIVERDATE</th>\n",
       "      <th>WVRSTATE</th>\n",
       "    </tr>\n",
       "  </thead>\n",
       "  <tbody>\n",
       "    <tr>\n",
       "      <th>0</th>\n",
       "      <td>NaN</td>\n",
       "      <td>NaN</td>\n",
       "      <td></td>\n",
       "      <td>14 LAWRENCE AVE PHARMACY</td>\n",
       "      <td>PHARMACY</td>\n",
       "      <td>NaN</td>\n",
       "      <td>NaN</td>\n",
       "      <td>0</td>\n",
       "      <td>NaN</td>\n",
       "      <td>14 LAWRENCE AVENUE</td>\n",
       "      <td>SMITHTOWN</td>\n",
       "      <td>NY</td>\n",
       "      <td>11787</td>\n",
       "      <td>1128a1</td>\n",
       "      <td>19880830</td>\n",
       "      <td>0</td>\n",
       "      <td>0</td>\n",
       "      <td>NaN</td>\n",
       "    </tr>\n",
       "    <tr>\n",
       "      <th>1</th>\n",
       "      <td>NaN</td>\n",
       "      <td>NaN</td>\n",
       "      <td></td>\n",
       "      <td>143 MEDICAL EQUIPMENT CO</td>\n",
       "      <td>DME COMPANY</td>\n",
       "      <td>DME - OXYGEN</td>\n",
       "      <td>NaN</td>\n",
       "      <td>0</td>\n",
       "      <td>NaN</td>\n",
       "      <td>701 NW 36 AVENUE</td>\n",
       "      <td>MIAMI</td>\n",
       "      <td>FL</td>\n",
       "      <td>33125</td>\n",
       "      <td>1128b7</td>\n",
       "      <td>19970620</td>\n",
       "      <td>0</td>\n",
       "      <td>0</td>\n",
       "      <td>NaN</td>\n",
       "    </tr>\n",
       "    <tr>\n",
       "      <th>2</th>\n",
       "      <td>NaN</td>\n",
       "      <td>NaN</td>\n",
       "      <td></td>\n",
       "      <td>184TH STREET PHARMACY CORP</td>\n",
       "      <td>OTHER BUSINESS</td>\n",
       "      <td>PHARMACY</td>\n",
       "      <td>NaN</td>\n",
       "      <td>1922348218</td>\n",
       "      <td>NaN</td>\n",
       "      <td>69 E 184TH ST</td>\n",
       "      <td>BRONX</td>\n",
       "      <td>NY</td>\n",
       "      <td>10468</td>\n",
       "      <td>1128a1</td>\n",
       "      <td>20180419</td>\n",
       "      <td>0</td>\n",
       "      <td>0</td>\n",
       "      <td>NaN</td>\n",
       "    </tr>\n",
       "    <tr>\n",
       "      <th>3</th>\n",
       "      <td>NaN</td>\n",
       "      <td>NaN</td>\n",
       "      <td></td>\n",
       "      <td>1951 FLATBUSH AVENUE PHARMACY</td>\n",
       "      <td>PHARMACY</td>\n",
       "      <td>NaN</td>\n",
       "      <td>NaN</td>\n",
       "      <td>0</td>\n",
       "      <td>NaN</td>\n",
       "      <td>1951 FLATBUSH AVE</td>\n",
       "      <td>BROOKLYN</td>\n",
       "      <td>NY</td>\n",
       "      <td>11234</td>\n",
       "      <td>1128b5</td>\n",
       "      <td>20090319</td>\n",
       "      <td>0</td>\n",
       "      <td>0</td>\n",
       "      <td>NaN</td>\n",
       "    </tr>\n",
       "    <tr>\n",
       "      <th>4</th>\n",
       "      <td>NaN</td>\n",
       "      <td>NaN</td>\n",
       "      <td></td>\n",
       "      <td>1ST COMMUNITY HEALTH CTR, LTD</td>\n",
       "      <td>CLINIC</td>\n",
       "      <td>NaN</td>\n",
       "      <td>NaN</td>\n",
       "      <td>0</td>\n",
       "      <td>NaN</td>\n",
       "      <td>3138 W CERMAK ROAD</td>\n",
       "      <td>CHICAGO</td>\n",
       "      <td>IL</td>\n",
       "      <td>60623</td>\n",
       "      <td>1128a1</td>\n",
       "      <td>19940524</td>\n",
       "      <td>0</td>\n",
       "      <td>0</td>\n",
       "      <td>NaN</td>\n",
       "    </tr>\n",
       "  </tbody>\n",
       "</table>\n",
       "</div>"
      ],
      "text/plain": [
       "  LASTNAME FIRSTNAME MIDNAME                        BUSNAME         GENERAL  \\\n",
       "0      NaN       NaN               14 LAWRENCE AVE PHARMACY        PHARMACY   \n",
       "1      NaN       NaN               143 MEDICAL EQUIPMENT CO     DME COMPANY   \n",
       "2      NaN       NaN             184TH STREET PHARMACY CORP  OTHER BUSINESS   \n",
       "3      NaN       NaN          1951 FLATBUSH AVENUE PHARMACY        PHARMACY   \n",
       "4      NaN       NaN          1ST COMMUNITY HEALTH CTR, LTD          CLINIC   \n",
       "\n",
       "      SPECIALTY UPIN         NPI  DOB             ADDRESS       CITY STATE  \\\n",
       "0           NaN  NaN           0  NaN  14 LAWRENCE AVENUE  SMITHTOWN    NY   \n",
       "1  DME - OXYGEN  NaN           0  NaN    701 NW 36 AVENUE      MIAMI    FL   \n",
       "2      PHARMACY  NaN  1922348218  NaN       69 E 184TH ST      BRONX    NY   \n",
       "3           NaN  NaN           0  NaN   1951 FLATBUSH AVE   BROOKLYN    NY   \n",
       "4           NaN  NaN           0  NaN  3138 W CERMAK ROAD    CHICAGO    IL   \n",
       "\n",
       "     ZIP EXCLTYPE  EXCLDATE  REINDATE  WAIVERDATE WVRSTATE  \n",
       "0  11787   1128a1  19880830         0           0      NaN  \n",
       "1  33125   1128b7  19970620         0           0      NaN  \n",
       "2  10468   1128a1  20180419         0           0      NaN  \n",
       "3  11234   1128b5  20090319         0           0      NaN  \n",
       "4  60623   1128a1  19940524         0           0      NaN  "
      ]
     },
     "execution_count": 36,
     "metadata": {},
     "output_type": "execute_result"
    }
   ],
   "source": [
    "LEIE.head()"
   ]
  },
  {
   "cell_type": "code",
   "execution_count": 37,
   "metadata": {},
   "outputs": [],
   "source": [
    "LEIE.columns = LEIE.columns.str.lower()"
   ]
  },
  {
   "cell_type": "code",
   "execution_count": 38,
   "metadata": {},
   "outputs": [
    {
     "data": {
      "text/plain": [
       "3108"
      ]
     },
     "execution_count": 38,
     "metadata": {},
     "output_type": "execute_result"
    }
   ],
   "source": [
    "(LEIE.busname.notnull()).sum()"
   ]
  },
  {
   "cell_type": "code",
   "execution_count": 39,
   "metadata": {},
   "outputs": [
    {
     "data": {
      "text/plain": [
       "(69368, 18)"
      ]
     },
     "execution_count": 39,
     "metadata": {},
     "output_type": "execute_result"
    }
   ],
   "source": [
    "LEIE_indiv = LEIE[LEIE.busname.isnull()]\n",
    "LEIE_indiv.shape"
   ]
  },
  {
   "cell_type": "markdown",
   "metadata": {},
   "source": [
    "## Matching npi"
   ]
  },
  {
   "cell_type": "code",
   "execution_count": 40,
   "metadata": {},
   "outputs": [
    {
     "data": {
      "text/plain": [
       "(101, 18)"
      ]
     },
     "execution_count": 40,
     "metadata": {},
     "output_type": "execute_result"
    }
   ],
   "source": [
    "x = LEIE[LEIE['npi']!=0]\n",
    "x[x.npi.duplicated()].shape #101 duplicated npis"
   ]
  },
  {
   "cell_type": "code",
   "execution_count": 41,
   "metadata": {},
   "outputs": [
    {
     "data": {
      "text/plain": [
       "5269"
      ]
     },
     "execution_count": 41,
     "metadata": {},
     "output_type": "execute_result"
    }
   ],
   "source": [
    "LEIE[LEIE.npi!=0].shape[0] #5269 npis not zero"
   ]
  },
  {
   "cell_type": "code",
   "execution_count": 42,
   "metadata": {},
   "outputs": [
    {
     "data": {
      "text/plain": [
       "5169"
      ]
     },
     "execution_count": 42,
     "metadata": {},
     "output_type": "execute_result"
    }
   ],
   "source": [
    "LEIE.npi.nunique() #5169 unique npi"
   ]
  },
  {
   "cell_type": "code",
   "execution_count": 43,
   "metadata": {},
   "outputs": [
    {
     "data": {
      "text/plain": [
       "(5169, 18)"
      ]
     },
     "execution_count": 43,
     "metadata": {},
     "output_type": "execute_result"
    }
   ],
   "source": [
    "#drop all duplicated npi\n",
    "LEIE_uniquenpi = LEIE.drop_duplicates(subset='npi')\n",
    "LEIE_uniquenpi.shape"
   ]
  },
  {
   "cell_type": "code",
   "execution_count": 44,
   "metadata": {
    "scrolled": true
   },
   "outputs": [],
   "source": [
    "npi_same = pd.merge(df, LEIE_uniquenpi, how='inner',on='npi').npi.values"
   ]
  },
  {
   "cell_type": "code",
   "execution_count": 45,
   "metadata": {},
   "outputs": [
    {
     "data": {
      "text/plain": [
       "277"
      ]
     },
     "execution_count": 45,
     "metadata": {},
     "output_type": "execute_result"
    }
   ],
   "source": [
    "len(npi_same)"
   ]
  },
  {
   "cell_type": "code",
   "execution_count": 46,
   "metadata": {},
   "outputs": [
    {
     "data": {
      "text/plain": [
       "False    1511250\n",
       "True         277\n",
       "Name: npi, dtype: int64"
      ]
     },
     "execution_count": 46,
     "metadata": {},
     "output_type": "execute_result"
    }
   ],
   "source": [
    "df.npi.isin(npi_same).value_counts() #add label column"
   ]
  },
  {
   "cell_type": "code",
   "execution_count": 47,
   "metadata": {},
   "outputs": [
    {
     "data": {
      "text/plain": [
       "(277, 22)"
      ]
     },
     "execution_count": 47,
     "metadata": {},
     "output_type": "execute_result"
    }
   ],
   "source": [
    "#only 277 npi's matched!\n",
    "df[df.npi.isin(npi_same)].shape"
   ]
  },
  {
   "cell_type": "code",
   "execution_count": 48,
   "metadata": {},
   "outputs": [
    {
     "data": {
      "text/plain": [
       "137"
      ]
     },
     "execution_count": 48,
     "metadata": {},
     "output_type": "execute_result"
    }
   ],
   "source": [
    "df[df.npi.isin(npi_same)]['npi'].nunique()"
   ]
  },
  {
   "cell_type": "code",
   "execution_count": 49,
   "metadata": {},
   "outputs": [
    {
     "data": {
      "text/plain": [
       "277"
      ]
     },
     "execution_count": 49,
     "metadata": {},
     "output_type": "execute_result"
    }
   ],
   "source": [
    "(df.npi.isin(npi_same).astype(int)==1).sum()"
   ]
  },
  {
   "cell_type": "code",
   "execution_count": 50,
   "metadata": {},
   "outputs": [],
   "source": [
    "#df['Target'] = df.npi.isin(npi_same).astype(int)"
   ]
  },
  {
   "cell_type": "code",
   "execution_count": 51,
   "metadata": {},
   "outputs": [
    {
     "data": {
      "text/html": [
       "<div>\n",
       "<style scoped>\n",
       "    .dataframe tbody tr th:only-of-type {\n",
       "        vertical-align: middle;\n",
       "    }\n",
       "\n",
       "    .dataframe tbody tr th {\n",
       "        vertical-align: top;\n",
       "    }\n",
       "\n",
       "    .dataframe thead th {\n",
       "        text-align: right;\n",
       "    }\n",
       "</style>\n",
       "<table border=\"1\" class=\"dataframe\">\n",
       "  <thead>\n",
       "    <tr style=\"text-align: right;\">\n",
       "      <th></th>\n",
       "      <th>npi</th>\n",
       "      <th>lastname</th>\n",
       "      <th>firstname</th>\n",
       "      <th>credentials</th>\n",
       "      <th>gender</th>\n",
       "      <th>address</th>\n",
       "      <th>city</th>\n",
       "      <th>zip</th>\n",
       "      <th>state</th>\n",
       "      <th>provider_type</th>\n",
       "      <th>place_of_service</th>\n",
       "      <th>hcpcs_code</th>\n",
       "      <th>hcpcs_description</th>\n",
       "      <th>line_srvc_cnt</th>\n",
       "      <th>bene_unique_cnt</th>\n",
       "      <th>bene_day_srvc_cnt</th>\n",
       "      <th>average_Medicare_allowed_amt</th>\n",
       "      <th>average_submitted_chrg_amt</th>\n",
       "      <th>average_Medicare_payment_amt</th>\n",
       "      <th>average_Medicare_standard_amt</th>\n",
       "      <th>Total_submitted_chrg_amt</th>\n",
       "      <th>Total_Medicare_payment_amt</th>\n",
       "    </tr>\n",
       "  </thead>\n",
       "  <tbody>\n",
       "    <tr>\n",
       "      <th>6</th>\n",
       "      <td>1003000126</td>\n",
       "      <td>ENKESHAFI</td>\n",
       "      <td>ARDALAN</td>\n",
       "      <td>M.D.</td>\n",
       "      <td>M</td>\n",
       "      <td>900 SETON DR</td>\n",
       "      <td>CUMBERLAND</td>\n",
       "      <td>21502</td>\n",
       "      <td>MD</td>\n",
       "      <td>Internal Medicine</td>\n",
       "      <td>F</td>\n",
       "      <td>99223</td>\n",
       "      <td>Initial hospital inpatient care, typically 70 ...</td>\n",
       "      <td>114.0</td>\n",
       "      <td>110</td>\n",
       "      <td>114</td>\n",
       "      <td>206.061579</td>\n",
       "      <td>923.991228</td>\n",
       "      <td>160.377193</td>\n",
       "      <td>160.026316</td>\n",
       "      <td>105335.000000</td>\n",
       "      <td>18283.00</td>\n",
       "    </tr>\n",
       "    <tr>\n",
       "      <th>7</th>\n",
       "      <td>1003000126</td>\n",
       "      <td>ENKESHAFI</td>\n",
       "      <td>ARDALAN</td>\n",
       "      <td>M.D.</td>\n",
       "      <td>M</td>\n",
       "      <td>900 SETON DR</td>\n",
       "      <td>CUMBERLAND</td>\n",
       "      <td>21502</td>\n",
       "      <td>MD</td>\n",
       "      <td>Internal Medicine</td>\n",
       "      <td>F</td>\n",
       "      <td>99232</td>\n",
       "      <td>Subsequent hospital inpatient care, typically ...</td>\n",
       "      <td>627.0</td>\n",
       "      <td>233</td>\n",
       "      <td>627</td>\n",
       "      <td>72.622456</td>\n",
       "      <td>326.245614</td>\n",
       "      <td>56.366730</td>\n",
       "      <td>57.047895</td>\n",
       "      <td>204556.000003</td>\n",
       "      <td>35341.94</td>\n",
       "    </tr>\n",
       "    <tr>\n",
       "      <th>8</th>\n",
       "      <td>1003000126</td>\n",
       "      <td>ENKESHAFI</td>\n",
       "      <td>ARDALAN</td>\n",
       "      <td>M.D.</td>\n",
       "      <td>M</td>\n",
       "      <td>900 SETON DR</td>\n",
       "      <td>CUMBERLAND</td>\n",
       "      <td>21502</td>\n",
       "      <td>MD</td>\n",
       "      <td>Internal Medicine</td>\n",
       "      <td>F</td>\n",
       "      <td>99233</td>\n",
       "      <td>Subsequent hospital inpatient care, typically ...</td>\n",
       "      <td>207.0</td>\n",
       "      <td>127</td>\n",
       "      <td>207</td>\n",
       "      <td>106.653913</td>\n",
       "      <td>461.072464</td>\n",
       "      <td>82.820676</td>\n",
       "      <td>83.196039</td>\n",
       "      <td>95442.000000</td>\n",
       "      <td>17143.88</td>\n",
       "    </tr>\n",
       "    <tr>\n",
       "      <th>10</th>\n",
       "      <td>1003000126</td>\n",
       "      <td>ENKESHAFI</td>\n",
       "      <td>ARDALAN</td>\n",
       "      <td>M.D.</td>\n",
       "      <td>M</td>\n",
       "      <td>900 SETON DR</td>\n",
       "      <td>CUMBERLAND</td>\n",
       "      <td>21502</td>\n",
       "      <td>MD</td>\n",
       "      <td>Internal Medicine</td>\n",
       "      <td>F</td>\n",
       "      <td>99291</td>\n",
       "      <td>Critical care delivery critically ill or injur...</td>\n",
       "      <td>36.0</td>\n",
       "      <td>23</td>\n",
       "      <td>36</td>\n",
       "      <td>224.170000</td>\n",
       "      <td>1400.000000</td>\n",
       "      <td>175.750000</td>\n",
       "      <td>177.656667</td>\n",
       "      <td>50400.000000</td>\n",
       "      <td>6327.00</td>\n",
       "    </tr>\n",
       "    <tr>\n",
       "      <th>39</th>\n",
       "      <td>1003000142</td>\n",
       "      <td>KHALIL</td>\n",
       "      <td>RASHID</td>\n",
       "      <td>M.D.</td>\n",
       "      <td>M</td>\n",
       "      <td>4126 N HOLLAND SYLVANIA RD</td>\n",
       "      <td>TOLEDO</td>\n",
       "      <td>43623</td>\n",
       "      <td>OH</td>\n",
       "      <td>Anesthesiology</td>\n",
       "      <td>O</td>\n",
       "      <td>99213</td>\n",
       "      <td>Established patient office or other outpatient...</td>\n",
       "      <td>129.0</td>\n",
       "      <td>89</td>\n",
       "      <td>129</td>\n",
       "      <td>70.930000</td>\n",
       "      <td>109.000000</td>\n",
       "      <td>50.868062</td>\n",
       "      <td>53.268372</td>\n",
       "      <td>14061.000000</td>\n",
       "      <td>6561.98</td>\n",
       "    </tr>\n",
       "  </tbody>\n",
       "</table>\n",
       "</div>"
      ],
      "text/plain": [
       "           npi   lastname firstname credentials gender  \\\n",
       "6   1003000126  ENKESHAFI   ARDALAN        M.D.      M   \n",
       "7   1003000126  ENKESHAFI   ARDALAN        M.D.      M   \n",
       "8   1003000126  ENKESHAFI   ARDALAN        M.D.      M   \n",
       "10  1003000126  ENKESHAFI   ARDALAN        M.D.      M   \n",
       "39  1003000142     KHALIL    RASHID        M.D.      M   \n",
       "\n",
       "                       address        city    zip state      provider_type  \\\n",
       "6                 900 SETON DR  CUMBERLAND  21502    MD  Internal Medicine   \n",
       "7                 900 SETON DR  CUMBERLAND  21502    MD  Internal Medicine   \n",
       "8                 900 SETON DR  CUMBERLAND  21502    MD  Internal Medicine   \n",
       "10                900 SETON DR  CUMBERLAND  21502    MD  Internal Medicine   \n",
       "39  4126 N HOLLAND SYLVANIA RD      TOLEDO  43623    OH     Anesthesiology   \n",
       "\n",
       "   place_of_service hcpcs_code  \\\n",
       "6                 F      99223   \n",
       "7                 F      99232   \n",
       "8                 F      99233   \n",
       "10                F      99291   \n",
       "39                O      99213   \n",
       "\n",
       "                                    hcpcs_description  line_srvc_cnt  \\\n",
       "6   Initial hospital inpatient care, typically 70 ...          114.0   \n",
       "7   Subsequent hospital inpatient care, typically ...          627.0   \n",
       "8   Subsequent hospital inpatient care, typically ...          207.0   \n",
       "10  Critical care delivery critically ill or injur...           36.0   \n",
       "39  Established patient office or other outpatient...          129.0   \n",
       "\n",
       "    bene_unique_cnt  bene_day_srvc_cnt  average_Medicare_allowed_amt  \\\n",
       "6               110                114                    206.061579   \n",
       "7               233                627                     72.622456   \n",
       "8               127                207                    106.653913   \n",
       "10               23                 36                    224.170000   \n",
       "39               89                129                     70.930000   \n",
       "\n",
       "    average_submitted_chrg_amt  average_Medicare_payment_amt  \\\n",
       "6                   923.991228                    160.377193   \n",
       "7                   326.245614                     56.366730   \n",
       "8                   461.072464                     82.820676   \n",
       "10                 1400.000000                    175.750000   \n",
       "39                  109.000000                     50.868062   \n",
       "\n",
       "    average_Medicare_standard_amt  Total_submitted_chrg_amt  \\\n",
       "6                      160.026316             105335.000000   \n",
       "7                       57.047895             204556.000003   \n",
       "8                       83.196039              95442.000000   \n",
       "10                     177.656667              50400.000000   \n",
       "39                      53.268372              14061.000000   \n",
       "\n",
       "    Total_Medicare_payment_amt  \n",
       "6                     18283.00  \n",
       "7                     35341.94  \n",
       "8                     17143.88  \n",
       "10                     6327.00  \n",
       "39                     6561.98  "
      ]
     },
     "execution_count": 51,
     "metadata": {},
     "output_type": "execute_result"
    }
   ],
   "source": [
    "df.head()"
   ]
  },
  {
   "cell_type": "markdown",
   "metadata": {},
   "source": [
    "## Merging Aparna's Files:"
   ]
  },
  {
   "cell_type": "code",
   "execution_count": 52,
   "metadata": {},
   "outputs": [],
   "source": [
    "leie_corrected = pd.read_csv('data/Aparna/LEIE_reduced.csv', index_col=0)"
   ]
  },
  {
   "cell_type": "code",
   "execution_count": 53,
   "metadata": {},
   "outputs": [],
   "source": [
    "CMS_subset = pd.read_csv('data/Aparna/LEIE_labels_1.csv', index_col=0)"
   ]
  },
  {
   "cell_type": "code",
   "execution_count": 54,
   "metadata": {},
   "outputs": [
    {
     "data": {
      "text/plain": [
       "9"
      ]
     },
     "execution_count": 54,
     "metadata": {},
     "output_type": "execute_result"
    }
   ],
   "source": [
    "CMS_subset.hcpcs_code.nunique()"
   ]
  },
  {
   "cell_type": "code",
   "execution_count": 55,
   "metadata": {},
   "outputs": [
    {
     "data": {
      "text/plain": [
       "(64432, 21)"
      ]
     },
     "execution_count": 55,
     "metadata": {},
     "output_type": "execute_result"
    }
   ],
   "source": [
    "leie_corrected.shape"
   ]
  },
  {
   "cell_type": "code",
   "execution_count": 56,
   "metadata": {},
   "outputs": [],
   "source": [
    "colskeep = [\"lastname\", \"npi_leie\", \"zip_new\", \"street1\", \"EXCLTYPE\", \"EXCLDATE\"]"
   ]
  },
  {
   "cell_type": "code",
   "execution_count": 57,
   "metadata": {},
   "outputs": [],
   "source": [
    "leie_corrected = leie_corrected.filter(items=colskeep, axis=1)"
   ]
  },
  {
   "cell_type": "code",
   "execution_count": 58,
   "metadata": {},
   "outputs": [
    {
     "data": {
      "text/plain": [
       "(64432, 6)"
      ]
     },
     "execution_count": 58,
     "metadata": {},
     "output_type": "execute_result"
    }
   ],
   "source": [
    "leie_corrected.shape"
   ]
  },
  {
   "cell_type": "code",
   "execution_count": 59,
   "metadata": {},
   "outputs": [
    {
     "data": {
      "text/html": [
       "<div>\n",
       "<style scoped>\n",
       "    .dataframe tbody tr th:only-of-type {\n",
       "        vertical-align: middle;\n",
       "    }\n",
       "\n",
       "    .dataframe tbody tr th {\n",
       "        vertical-align: top;\n",
       "    }\n",
       "\n",
       "    .dataframe thead th {\n",
       "        text-align: right;\n",
       "    }\n",
       "</style>\n",
       "<table border=\"1\" class=\"dataframe\">\n",
       "  <thead>\n",
       "    <tr style=\"text-align: right;\">\n",
       "      <th></th>\n",
       "      <th>lastname</th>\n",
       "      <th>npi_leie</th>\n",
       "      <th>zip_new</th>\n",
       "      <th>street1</th>\n",
       "      <th>EXCLTYPE</th>\n",
       "      <th>EXCLDATE</th>\n",
       "    </tr>\n",
       "  </thead>\n",
       "  <tbody>\n",
       "    <tr>\n",
       "      <th>3108</th>\n",
       "      <td>aalders</td>\n",
       "      <td>0</td>\n",
       "      <td>60453</td>\n",
       "      <td>9527 south kenton</td>\n",
       "      <td>1128b4</td>\n",
       "      <td>20030820</td>\n",
       "    </tr>\n",
       "    <tr>\n",
       "      <th>3109</th>\n",
       "      <td>aaltonen</td>\n",
       "      <td>0</td>\n",
       "      <td>99201</td>\n",
       "      <td>32 w pacific ave</td>\n",
       "      <td>1128a4</td>\n",
       "      <td>20120419</td>\n",
       "    </tr>\n",
       "    <tr>\n",
       "      <th>3110</th>\n",
       "      <td>aamir</td>\n",
       "      <td>0</td>\n",
       "      <td>48302</td>\n",
       "      <td>3956 columbia court</td>\n",
       "      <td>1128a1</td>\n",
       "      <td>20170220</td>\n",
       "    </tr>\n",
       "    <tr>\n",
       "      <th>3111</th>\n",
       "      <td>aaron</td>\n",
       "      <td>0</td>\n",
       "      <td>85018</td>\n",
       "      <td>3325 n rose circle drive</td>\n",
       "      <td>1128b4</td>\n",
       "      <td>20171019</td>\n",
       "    </tr>\n",
       "    <tr>\n",
       "      <th>3112</th>\n",
       "      <td>aaron</td>\n",
       "      <td>0</td>\n",
       "      <td>35504</td>\n",
       "      <td>5911 old pineywoods rd</td>\n",
       "      <td>1128b4</td>\n",
       "      <td>20061120</td>\n",
       "    </tr>\n",
       "  </tbody>\n",
       "</table>\n",
       "</div>"
      ],
      "text/plain": [
       "      lastname  npi_leie  zip_new                   street1 EXCLTYPE  EXCLDATE\n",
       "3108   aalders         0    60453         9527 south kenton   1128b4  20030820\n",
       "3109  aaltonen         0    99201          32 w pacific ave   1128a4  20120419\n",
       "3110     aamir         0    48302       3956 columbia court   1128a1  20170220\n",
       "3111     aaron         0    85018  3325 n rose circle drive   1128b4  20171019\n",
       "3112     aaron         0    35504    5911 old pineywoods rd   1128b4  20061120"
      ]
     },
     "execution_count": 59,
     "metadata": {},
     "output_type": "execute_result"
    }
   ],
   "source": [
    "leie_corrected.head()"
   ]
  },
  {
   "cell_type": "code",
   "execution_count": 60,
   "metadata": {},
   "outputs": [],
   "source": [
    "leie_corrected['year'] = pd.to_datetime(leie_corrected[\"EXCLDATE\"], format=\"%Y%m%d\").dt.year"
   ]
  },
  {
   "cell_type": "code",
   "execution_count": 61,
   "metadata": {},
   "outputs": [
    {
     "data": {
      "text/html": [
       "<div>\n",
       "<style scoped>\n",
       "    .dataframe tbody tr th:only-of-type {\n",
       "        vertical-align: middle;\n",
       "    }\n",
       "\n",
       "    .dataframe tbody tr th {\n",
       "        vertical-align: top;\n",
       "    }\n",
       "\n",
       "    .dataframe thead th {\n",
       "        text-align: right;\n",
       "    }\n",
       "</style>\n",
       "<table border=\"1\" class=\"dataframe\">\n",
       "  <thead>\n",
       "    <tr style=\"text-align: right;\">\n",
       "      <th></th>\n",
       "      <th>lastname</th>\n",
       "      <th>npi_leie</th>\n",
       "      <th>zip_new</th>\n",
       "      <th>street1</th>\n",
       "      <th>EXCLTYPE</th>\n",
       "      <th>EXCLDATE</th>\n",
       "      <th>year</th>\n",
       "    </tr>\n",
       "  </thead>\n",
       "  <tbody>\n",
       "    <tr>\n",
       "      <th>3108</th>\n",
       "      <td>aalders</td>\n",
       "      <td>0</td>\n",
       "      <td>60453</td>\n",
       "      <td>9527 south kenton</td>\n",
       "      <td>1128b4</td>\n",
       "      <td>20030820</td>\n",
       "      <td>2003</td>\n",
       "    </tr>\n",
       "    <tr>\n",
       "      <th>3109</th>\n",
       "      <td>aaltonen</td>\n",
       "      <td>0</td>\n",
       "      <td>99201</td>\n",
       "      <td>32 w pacific ave</td>\n",
       "      <td>1128a4</td>\n",
       "      <td>20120419</td>\n",
       "      <td>2012</td>\n",
       "    </tr>\n",
       "    <tr>\n",
       "      <th>3110</th>\n",
       "      <td>aamir</td>\n",
       "      <td>0</td>\n",
       "      <td>48302</td>\n",
       "      <td>3956 columbia court</td>\n",
       "      <td>1128a1</td>\n",
       "      <td>20170220</td>\n",
       "      <td>2017</td>\n",
       "    </tr>\n",
       "    <tr>\n",
       "      <th>3111</th>\n",
       "      <td>aaron</td>\n",
       "      <td>0</td>\n",
       "      <td>85018</td>\n",
       "      <td>3325 n rose circle drive</td>\n",
       "      <td>1128b4</td>\n",
       "      <td>20171019</td>\n",
       "      <td>2017</td>\n",
       "    </tr>\n",
       "    <tr>\n",
       "      <th>3112</th>\n",
       "      <td>aaron</td>\n",
       "      <td>0</td>\n",
       "      <td>35504</td>\n",
       "      <td>5911 old pineywoods rd</td>\n",
       "      <td>1128b4</td>\n",
       "      <td>20061120</td>\n",
       "      <td>2006</td>\n",
       "    </tr>\n",
       "  </tbody>\n",
       "</table>\n",
       "</div>"
      ],
      "text/plain": [
       "      lastname  npi_leie  zip_new                   street1 EXCLTYPE  \\\n",
       "3108   aalders         0    60453         9527 south kenton   1128b4   \n",
       "3109  aaltonen         0    99201          32 w pacific ave   1128a4   \n",
       "3110     aamir         0    48302       3956 columbia court   1128a1   \n",
       "3111     aaron         0    85018  3325 n rose circle drive   1128b4   \n",
       "3112     aaron         0    35504    5911 old pineywoods rd   1128b4   \n",
       "\n",
       "      EXCLDATE  year  \n",
       "3108  20030820  2003  \n",
       "3109  20120419  2012  \n",
       "3110  20170220  2017  \n",
       "3111  20171019  2017  \n",
       "3112  20061120  2006  "
      ]
     },
     "execution_count": 61,
     "metadata": {},
     "output_type": "execute_result"
    }
   ],
   "source": [
    "leie_corrected.head()"
   ]
  },
  {
   "cell_type": "code",
   "execution_count": 62,
   "metadata": {},
   "outputs": [],
   "source": [
    "cmscolskeep = [\"npi\", \"lastname\", \"nppes_provider_first_name\", \"zip_new\",\"street1\"]"
   ]
  },
  {
   "cell_type": "code",
   "execution_count": 63,
   "metadata": {},
   "outputs": [],
   "source": [
    "CMS_subset = CMS_subset.filter(items=cmscolskeep, axis=1)"
   ]
  },
  {
   "cell_type": "code",
   "execution_count": 64,
   "metadata": {},
   "outputs": [
    {
     "data": {
      "text/html": [
       "<div>\n",
       "<style scoped>\n",
       "    .dataframe tbody tr th:only-of-type {\n",
       "        vertical-align: middle;\n",
       "    }\n",
       "\n",
       "    .dataframe tbody tr th {\n",
       "        vertical-align: top;\n",
       "    }\n",
       "\n",
       "    .dataframe thead th {\n",
       "        text-align: right;\n",
       "    }\n",
       "</style>\n",
       "<table border=\"1\" class=\"dataframe\">\n",
       "  <thead>\n",
       "    <tr style=\"text-align: right;\">\n",
       "      <th></th>\n",
       "      <th>npi</th>\n",
       "      <th>lastname</th>\n",
       "      <th>nppes_provider_first_name</th>\n",
       "      <th>zip_new</th>\n",
       "      <th>street1</th>\n",
       "    </tr>\n",
       "  </thead>\n",
       "  <tbody>\n",
       "    <tr>\n",
       "      <th>7901</th>\n",
       "      <td>1003044611</td>\n",
       "      <td>danek</td>\n",
       "      <td>SAMANTHA</td>\n",
       "      <td>49201</td>\n",
       "      <td>205 n east ave</td>\n",
       "    </tr>\n",
       "    <tr>\n",
       "      <th>7902</th>\n",
       "      <td>1003044611</td>\n",
       "      <td>danek</td>\n",
       "      <td>SAMANTHA</td>\n",
       "      <td>49201</td>\n",
       "      <td>205 n east ave</td>\n",
       "    </tr>\n",
       "    <tr>\n",
       "      <th>19615</th>\n",
       "      <td>1003125485</td>\n",
       "      <td>hanna</td>\n",
       "      <td>EHAB</td>\n",
       "      <td>11706</td>\n",
       "      <td>301 e main st</td>\n",
       "    </tr>\n",
       "    <tr>\n",
       "      <th>25144</th>\n",
       "      <td>1003184599</td>\n",
       "      <td>eastman</td>\n",
       "      <td>MEGAN</td>\n",
       "      <td>50501</td>\n",
       "      <td>800 kenyon rd</td>\n",
       "    </tr>\n",
       "    <tr>\n",
       "      <th>25145</th>\n",
       "      <td>1003184599</td>\n",
       "      <td>eastman</td>\n",
       "      <td>MEGAN</td>\n",
       "      <td>50501</td>\n",
       "      <td>800 kenyon rd</td>\n",
       "    </tr>\n",
       "  </tbody>\n",
       "</table>\n",
       "</div>"
      ],
      "text/plain": [
       "              npi lastname nppes_provider_first_name  zip_new         street1\n",
       "7901   1003044611    danek                  SAMANTHA    49201  205 n east ave\n",
       "7902   1003044611    danek                  SAMANTHA    49201  205 n east ave\n",
       "19615  1003125485    hanna                      EHAB    11706   301 e main st\n",
       "25144  1003184599  eastman                     MEGAN    50501   800 kenyon rd\n",
       "25145  1003184599  eastman                     MEGAN    50501   800 kenyon rd"
      ]
     },
     "execution_count": 64,
     "metadata": {},
     "output_type": "execute_result"
    }
   ],
   "source": [
    "CMS_subset.head()"
   ]
  },
  {
   "cell_type": "code",
   "execution_count": 65,
   "metadata": {},
   "outputs": [
    {
     "data": {
      "text/plain": [
       "(3915, 5)"
      ]
     },
     "execution_count": 65,
     "metadata": {},
     "output_type": "execute_result"
    }
   ],
   "source": [
    "CMS_subset.shape"
   ]
  },
  {
   "cell_type": "code",
   "execution_count": 66,
   "metadata": {
    "scrolled": false
   },
   "outputs": [],
   "source": [
    "merged_file = pd.merge(CMS_subset, leie_corrected, how=\"inner\", left_on=[\"lastname\", \"zip_new\", \"street1\"],\\\n",
    "         right_on=[\"lastname\",\"zip_new\", \"street1\"])"
   ]
  },
  {
   "cell_type": "code",
   "execution_count": 67,
   "metadata": {},
   "outputs": [
    {
     "data": {
      "text/html": [
       "<div>\n",
       "<style scoped>\n",
       "    .dataframe tbody tr th:only-of-type {\n",
       "        vertical-align: middle;\n",
       "    }\n",
       "\n",
       "    .dataframe tbody tr th {\n",
       "        vertical-align: top;\n",
       "    }\n",
       "\n",
       "    .dataframe thead th {\n",
       "        text-align: right;\n",
       "    }\n",
       "</style>\n",
       "<table border=\"1\" class=\"dataframe\">\n",
       "  <thead>\n",
       "    <tr style=\"text-align: right;\">\n",
       "      <th></th>\n",
       "      <th>npi</th>\n",
       "      <th>lastname</th>\n",
       "      <th>nppes_provider_first_name</th>\n",
       "      <th>zip_new</th>\n",
       "      <th>street1</th>\n",
       "      <th>npi_leie</th>\n",
       "      <th>EXCLTYPE</th>\n",
       "      <th>EXCLDATE</th>\n",
       "      <th>year</th>\n",
       "    </tr>\n",
       "  </thead>\n",
       "  <tbody>\n",
       "    <tr>\n",
       "      <th>0</th>\n",
       "      <td>1285969980</td>\n",
       "      <td>siddiqui</td>\n",
       "      <td>IQBAL</td>\n",
       "      <td>7936</td>\n",
       "      <td>9 tower dr</td>\n",
       "      <td>0</td>\n",
       "      <td>1128a1</td>\n",
       "      <td>20010719</td>\n",
       "      <td>2001</td>\n",
       "    </tr>\n",
       "    <tr>\n",
       "      <th>1</th>\n",
       "      <td>1285969980</td>\n",
       "      <td>siddiqui</td>\n",
       "      <td>IQBAL</td>\n",
       "      <td>7936</td>\n",
       "      <td>9 tower dr</td>\n",
       "      <td>0</td>\n",
       "      <td>1128a1</td>\n",
       "      <td>20010719</td>\n",
       "      <td>2001</td>\n",
       "    </tr>\n",
       "    <tr>\n",
       "      <th>2</th>\n",
       "      <td>1285969980</td>\n",
       "      <td>siddiqui</td>\n",
       "      <td>IQBAL</td>\n",
       "      <td>7936</td>\n",
       "      <td>9 tower dr</td>\n",
       "      <td>0</td>\n",
       "      <td>1128a1</td>\n",
       "      <td>20010719</td>\n",
       "      <td>2001</td>\n",
       "    </tr>\n",
       "    <tr>\n",
       "      <th>3</th>\n",
       "      <td>1447436209</td>\n",
       "      <td>fisher</td>\n",
       "      <td>EMILY</td>\n",
       "      <td>77030</td>\n",
       "      <td>6560 fannin st</td>\n",
       "      <td>0</td>\n",
       "      <td>1128b4</td>\n",
       "      <td>19981020</td>\n",
       "      <td>1998</td>\n",
       "    </tr>\n",
       "    <tr>\n",
       "      <th>4</th>\n",
       "      <td>1447436209</td>\n",
       "      <td>fisher</td>\n",
       "      <td>EMILY</td>\n",
       "      <td>77030</td>\n",
       "      <td>6560 fannin st</td>\n",
       "      <td>0</td>\n",
       "      <td>1128b4</td>\n",
       "      <td>19981020</td>\n",
       "      <td>1998</td>\n",
       "    </tr>\n",
       "    <tr>\n",
       "      <th>5</th>\n",
       "      <td>1518920602</td>\n",
       "      <td>lee</td>\n",
       "      <td>VICTOR</td>\n",
       "      <td>95123</td>\n",
       "      <td>5710 cahalan ave</td>\n",
       "      <td>0</td>\n",
       "      <td>1128a1</td>\n",
       "      <td>19830107</td>\n",
       "      <td>1983</td>\n",
       "    </tr>\n",
       "    <tr>\n",
       "      <th>6</th>\n",
       "      <td>1891090262</td>\n",
       "      <td>antoon</td>\n",
       "      <td>PATRICK</td>\n",
       "      <td>71860</td>\n",
       "      <td>218 church st</td>\n",
       "      <td>0</td>\n",
       "      <td>1128a1</td>\n",
       "      <td>20061120</td>\n",
       "      <td>2006</td>\n",
       "    </tr>\n",
       "    <tr>\n",
       "      <th>7</th>\n",
       "      <td>1891090262</td>\n",
       "      <td>antoon</td>\n",
       "      <td>PATRICK</td>\n",
       "      <td>71860</td>\n",
       "      <td>218 church st</td>\n",
       "      <td>0</td>\n",
       "      <td>1128a1</td>\n",
       "      <td>20061120</td>\n",
       "      <td>2006</td>\n",
       "    </tr>\n",
       "  </tbody>\n",
       "</table>\n",
       "</div>"
      ],
      "text/plain": [
       "          npi  lastname nppes_provider_first_name  zip_new           street1  \\\n",
       "0  1285969980  siddiqui                     IQBAL     7936        9 tower dr   \n",
       "1  1285969980  siddiqui                     IQBAL     7936        9 tower dr   \n",
       "2  1285969980  siddiqui                     IQBAL     7936        9 tower dr   \n",
       "3  1447436209    fisher                     EMILY    77030    6560 fannin st   \n",
       "4  1447436209    fisher                     EMILY    77030    6560 fannin st   \n",
       "5  1518920602       lee                    VICTOR    95123  5710 cahalan ave   \n",
       "6  1891090262    antoon                   PATRICK    71860     218 church st   \n",
       "7  1891090262    antoon                   PATRICK    71860     218 church st   \n",
       "\n",
       "   npi_leie EXCLTYPE  EXCLDATE  year  \n",
       "0         0   1128a1  20010719  2001  \n",
       "1         0   1128a1  20010719  2001  \n",
       "2         0   1128a1  20010719  2001  \n",
       "3         0   1128b4  19981020  1998  \n",
       "4         0   1128b4  19981020  1998  \n",
       "5         0   1128a1  19830107  1983  \n",
       "6         0   1128a1  20061120  2006  \n",
       "7         0   1128a1  20061120  2006  "
      ]
     },
     "execution_count": 67,
     "metadata": {},
     "output_type": "execute_result"
    }
   ],
   "source": [
    "merged_file #total 8"
   ]
  },
  {
   "cell_type": "markdown",
   "metadata": {},
   "source": [
    "## Adding EXCLTYPE and EXCLDATE"
   ]
  },
  {
   "cell_type": "code",
   "execution_count": 68,
   "metadata": {},
   "outputs": [],
   "source": [
    "#LEIE\n",
    "LEIE = pd.read_csv('data/LEIE_08_2019.csv')"
   ]
  },
  {
   "cell_type": "code",
   "execution_count": 69,
   "metadata": {},
   "outputs": [],
   "source": [
    "LEIE.columns = LEIE.columns.str.lower()"
   ]
  },
  {
   "cell_type": "code",
   "execution_count": 70,
   "metadata": {},
   "outputs": [
    {
     "data": {
      "text/plain": [
       "(69368, 18)"
      ]
     },
     "execution_count": 70,
     "metadata": {},
     "output_type": "execute_result"
    }
   ],
   "source": [
    "LEIE_indiv = LEIE[LEIE.busname.isnull()]\n",
    "LEIE_indiv.shape"
   ]
  },
  {
   "cell_type": "code",
   "execution_count": 71,
   "metadata": {
    "scrolled": true
   },
   "outputs": [
    {
     "name": "stderr",
     "output_type": "stream",
     "text": [
      "/Users/rad/anaconda3/lib/python3.7/site-packages/ipykernel_launcher.py:1: SettingWithCopyWarning: \n",
      "A value is trying to be set on a copy of a slice from a DataFrame.\n",
      "Try using .loc[row_indexer,col_indexer] = value instead\n",
      "\n",
      "See the caveats in the documentation: http://pandas.pydata.org/pandas-docs/stable/indexing.html#indexing-view-versus-copy\n",
      "  \"\"\"Entry point for launching an IPython kernel.\n"
     ]
    }
   ],
   "source": [
    "LEIE_indiv['year'] = pd.to_datetime(LEIE_indiv[\"excldate\"], format=\"%Y%m%d\").dt.year"
   ]
  },
  {
   "cell_type": "code",
   "execution_count": 72,
   "metadata": {},
   "outputs": [
    {
     "data": {
      "text/html": [
       "<div>\n",
       "<style scoped>\n",
       "    .dataframe tbody tr th:only-of-type {\n",
       "        vertical-align: middle;\n",
       "    }\n",
       "\n",
       "    .dataframe tbody tr th {\n",
       "        vertical-align: top;\n",
       "    }\n",
       "\n",
       "    .dataframe thead th {\n",
       "        text-align: right;\n",
       "    }\n",
       "</style>\n",
       "<table border=\"1\" class=\"dataframe\">\n",
       "  <thead>\n",
       "    <tr style=\"text-align: right;\">\n",
       "      <th></th>\n",
       "      <th>lastname</th>\n",
       "      <th>firstname</th>\n",
       "      <th>midname</th>\n",
       "      <th>busname</th>\n",
       "      <th>general</th>\n",
       "      <th>specialty</th>\n",
       "      <th>upin</th>\n",
       "      <th>npi</th>\n",
       "      <th>dob</th>\n",
       "      <th>address</th>\n",
       "      <th>city</th>\n",
       "      <th>state</th>\n",
       "      <th>zip</th>\n",
       "      <th>excltype</th>\n",
       "      <th>excldate</th>\n",
       "      <th>reindate</th>\n",
       "      <th>waiverdate</th>\n",
       "      <th>wvrstate</th>\n",
       "      <th>year</th>\n",
       "    </tr>\n",
       "  </thead>\n",
       "  <tbody>\n",
       "    <tr>\n",
       "      <th>3108</th>\n",
       "      <td>AALDERS</td>\n",
       "      <td>NANCY</td>\n",
       "      <td>BLOCK</td>\n",
       "      <td>NaN</td>\n",
       "      <td>HOSPITAL</td>\n",
       "      <td>NURSE/NURSES AIDE</td>\n",
       "      <td>NaN</td>\n",
       "      <td>0</td>\n",
       "      <td>19640305.0</td>\n",
       "      <td>9527 SOUTH KENTON</td>\n",
       "      <td>OAK LAWN</td>\n",
       "      <td>IL</td>\n",
       "      <td>60453</td>\n",
       "      <td>1128b4</td>\n",
       "      <td>20030820</td>\n",
       "      <td>0</td>\n",
       "      <td>0</td>\n",
       "      <td>NaN</td>\n",
       "      <td>2003</td>\n",
       "    </tr>\n",
       "    <tr>\n",
       "      <th>3109</th>\n",
       "      <td>AALTONEN</td>\n",
       "      <td>NICKOLAS</td>\n",
       "      <td>A</td>\n",
       "      <td>NaN</td>\n",
       "      <td>IND- LIC HC SERV PRO</td>\n",
       "      <td>PHARMACY TECHNICIAN</td>\n",
       "      <td>NaN</td>\n",
       "      <td>0</td>\n",
       "      <td>19880123.0</td>\n",
       "      <td>32 W PACIFIC AVE</td>\n",
       "      <td>SPOKANE</td>\n",
       "      <td>WA</td>\n",
       "      <td>99201</td>\n",
       "      <td>1128a4</td>\n",
       "      <td>20120419</td>\n",
       "      <td>0</td>\n",
       "      <td>0</td>\n",
       "      <td>NaN</td>\n",
       "      <td>2012</td>\n",
       "    </tr>\n",
       "    <tr>\n",
       "      <th>3110</th>\n",
       "      <td>AAMIR</td>\n",
       "      <td>MUHAMMAD</td>\n",
       "      <td>SOHAIL</td>\n",
       "      <td>NaN</td>\n",
       "      <td>BUS OWNER/EXEC</td>\n",
       "      <td>HOME HEALTH AGENCY</td>\n",
       "      <td>NaN</td>\n",
       "      <td>0</td>\n",
       "      <td>19700910.0</td>\n",
       "      <td>3956 COLUMBIA COURT</td>\n",
       "      <td>BLOOMFIELD HILLS</td>\n",
       "      <td>MI</td>\n",
       "      <td>48302</td>\n",
       "      <td>1128a1</td>\n",
       "      <td>20170220</td>\n",
       "      <td>0</td>\n",
       "      <td>0</td>\n",
       "      <td>NaN</td>\n",
       "      <td>2017</td>\n",
       "    </tr>\n",
       "    <tr>\n",
       "      <th>3111</th>\n",
       "      <td>AARON</td>\n",
       "      <td>ALINA</td>\n",
       "      <td>A</td>\n",
       "      <td>NaN</td>\n",
       "      <td>IND- LIC HC SERV PRO</td>\n",
       "      <td>NURSE/NURSES AIDE</td>\n",
       "      <td>NaN</td>\n",
       "      <td>0</td>\n",
       "      <td>19870209.0</td>\n",
       "      <td>3325 N ROSE CIRCLE DRIVE</td>\n",
       "      <td>PHOENIX</td>\n",
       "      <td>AZ</td>\n",
       "      <td>85018</td>\n",
       "      <td>1128b4</td>\n",
       "      <td>20171019</td>\n",
       "      <td>0</td>\n",
       "      <td>0</td>\n",
       "      <td>NaN</td>\n",
       "      <td>2017</td>\n",
       "    </tr>\n",
       "    <tr>\n",
       "      <th>3112</th>\n",
       "      <td>AARON</td>\n",
       "      <td>BARBARA</td>\n",
       "      <td>KAY</td>\n",
       "      <td>NaN</td>\n",
       "      <td>NURSING PROFESSION</td>\n",
       "      <td>NURSE/NURSES AIDE</td>\n",
       "      <td>NaN</td>\n",
       "      <td>0</td>\n",
       "      <td>19650914.0</td>\n",
       "      <td>5911 OLD PINEYWOODS RD</td>\n",
       "      <td>JASPER</td>\n",
       "      <td>AL</td>\n",
       "      <td>35504</td>\n",
       "      <td>1128b4</td>\n",
       "      <td>20061120</td>\n",
       "      <td>0</td>\n",
       "      <td>0</td>\n",
       "      <td>NaN</td>\n",
       "      <td>2006</td>\n",
       "    </tr>\n",
       "  </tbody>\n",
       "</table>\n",
       "</div>"
      ],
      "text/plain": [
       "      lastname firstname  midname busname               general  \\\n",
       "3108   AALDERS     NANCY   BLOCK      NaN              HOSPITAL   \n",
       "3109  AALTONEN  NICKOLAS       A      NaN  IND- LIC HC SERV PRO   \n",
       "3110     AAMIR  MUHAMMAD  SOHAIL      NaN        BUS OWNER/EXEC   \n",
       "3111     AARON     ALINA       A      NaN  IND- LIC HC SERV PRO   \n",
       "3112     AARON   BARBARA     KAY      NaN    NURSING PROFESSION   \n",
       "\n",
       "                specialty upin  npi         dob                   address  \\\n",
       "3108    NURSE/NURSES AIDE  NaN    0  19640305.0         9527 SOUTH KENTON   \n",
       "3109  PHARMACY TECHNICIAN  NaN    0  19880123.0          32 W PACIFIC AVE   \n",
       "3110   HOME HEALTH AGENCY  NaN    0  19700910.0       3956 COLUMBIA COURT   \n",
       "3111    NURSE/NURSES AIDE  NaN    0  19870209.0  3325 N ROSE CIRCLE DRIVE   \n",
       "3112    NURSE/NURSES AIDE  NaN    0  19650914.0    5911 OLD PINEYWOODS RD   \n",
       "\n",
       "                  city state    zip excltype  excldate  reindate  waiverdate  \\\n",
       "3108          OAK LAWN    IL  60453   1128b4  20030820         0           0   \n",
       "3109           SPOKANE    WA  99201   1128a4  20120419         0           0   \n",
       "3110  BLOOMFIELD HILLS    MI  48302   1128a1  20170220         0           0   \n",
       "3111           PHOENIX    AZ  85018   1128b4  20171019         0           0   \n",
       "3112            JASPER    AL  35504   1128b4  20061120         0           0   \n",
       "\n",
       "     wvrstate  year  \n",
       "3108      NaN  2003  \n",
       "3109      NaN  2012  \n",
       "3110      NaN  2017  \n",
       "3111      NaN  2017  \n",
       "3112      NaN  2006  "
      ]
     },
     "execution_count": 72,
     "metadata": {},
     "output_type": "execute_result"
    }
   ],
   "source": [
    "LEIE_indiv.head()"
   ]
  },
  {
   "cell_type": "code",
   "execution_count": 73,
   "metadata": {},
   "outputs": [
    {
     "data": {
      "text/html": [
       "<div>\n",
       "<style scoped>\n",
       "    .dataframe tbody tr th:only-of-type {\n",
       "        vertical-align: middle;\n",
       "    }\n",
       "\n",
       "    .dataframe tbody tr th {\n",
       "        vertical-align: top;\n",
       "    }\n",
       "\n",
       "    .dataframe thead th {\n",
       "        text-align: right;\n",
       "    }\n",
       "</style>\n",
       "<table border=\"1\" class=\"dataframe\">\n",
       "  <thead>\n",
       "    <tr style=\"text-align: right;\">\n",
       "      <th></th>\n",
       "      <th>npi</th>\n",
       "      <th>lastname</th>\n",
       "      <th>nppes_provider_first_name</th>\n",
       "      <th>zip_new</th>\n",
       "      <th>street1</th>\n",
       "      <th>npi_leie</th>\n",
       "      <th>EXCLTYPE</th>\n",
       "      <th>EXCLDATE</th>\n",
       "      <th>year</th>\n",
       "    </tr>\n",
       "  </thead>\n",
       "  <tbody>\n",
       "    <tr>\n",
       "      <th>0</th>\n",
       "      <td>1285969980</td>\n",
       "      <td>siddiqui</td>\n",
       "      <td>IQBAL</td>\n",
       "      <td>7936</td>\n",
       "      <td>9 tower dr</td>\n",
       "      <td>0</td>\n",
       "      <td>1128a1</td>\n",
       "      <td>20010719</td>\n",
       "      <td>2001</td>\n",
       "    </tr>\n",
       "    <tr>\n",
       "      <th>1</th>\n",
       "      <td>1285969980</td>\n",
       "      <td>siddiqui</td>\n",
       "      <td>IQBAL</td>\n",
       "      <td>7936</td>\n",
       "      <td>9 tower dr</td>\n",
       "      <td>0</td>\n",
       "      <td>1128a1</td>\n",
       "      <td>20010719</td>\n",
       "      <td>2001</td>\n",
       "    </tr>\n",
       "    <tr>\n",
       "      <th>2</th>\n",
       "      <td>1285969980</td>\n",
       "      <td>siddiqui</td>\n",
       "      <td>IQBAL</td>\n",
       "      <td>7936</td>\n",
       "      <td>9 tower dr</td>\n",
       "      <td>0</td>\n",
       "      <td>1128a1</td>\n",
       "      <td>20010719</td>\n",
       "      <td>2001</td>\n",
       "    </tr>\n",
       "    <tr>\n",
       "      <th>3</th>\n",
       "      <td>1447436209</td>\n",
       "      <td>fisher</td>\n",
       "      <td>EMILY</td>\n",
       "      <td>77030</td>\n",
       "      <td>6560 fannin st</td>\n",
       "      <td>0</td>\n",
       "      <td>1128b4</td>\n",
       "      <td>19981020</td>\n",
       "      <td>1998</td>\n",
       "    </tr>\n",
       "    <tr>\n",
       "      <th>4</th>\n",
       "      <td>1447436209</td>\n",
       "      <td>fisher</td>\n",
       "      <td>EMILY</td>\n",
       "      <td>77030</td>\n",
       "      <td>6560 fannin st</td>\n",
       "      <td>0</td>\n",
       "      <td>1128b4</td>\n",
       "      <td>19981020</td>\n",
       "      <td>1998</td>\n",
       "    </tr>\n",
       "    <tr>\n",
       "      <th>5</th>\n",
       "      <td>1518920602</td>\n",
       "      <td>lee</td>\n",
       "      <td>VICTOR</td>\n",
       "      <td>95123</td>\n",
       "      <td>5710 cahalan ave</td>\n",
       "      <td>0</td>\n",
       "      <td>1128a1</td>\n",
       "      <td>19830107</td>\n",
       "      <td>1983</td>\n",
       "    </tr>\n",
       "    <tr>\n",
       "      <th>6</th>\n",
       "      <td>1891090262</td>\n",
       "      <td>antoon</td>\n",
       "      <td>PATRICK</td>\n",
       "      <td>71860</td>\n",
       "      <td>218 church st</td>\n",
       "      <td>0</td>\n",
       "      <td>1128a1</td>\n",
       "      <td>20061120</td>\n",
       "      <td>2006</td>\n",
       "    </tr>\n",
       "    <tr>\n",
       "      <th>7</th>\n",
       "      <td>1891090262</td>\n",
       "      <td>antoon</td>\n",
       "      <td>PATRICK</td>\n",
       "      <td>71860</td>\n",
       "      <td>218 church st</td>\n",
       "      <td>0</td>\n",
       "      <td>1128a1</td>\n",
       "      <td>20061120</td>\n",
       "      <td>2006</td>\n",
       "    </tr>\n",
       "  </tbody>\n",
       "</table>\n",
       "</div>"
      ],
      "text/plain": [
       "          npi  lastname nppes_provider_first_name  zip_new           street1  \\\n",
       "0  1285969980  siddiqui                     IQBAL     7936        9 tower dr   \n",
       "1  1285969980  siddiqui                     IQBAL     7936        9 tower dr   \n",
       "2  1285969980  siddiqui                     IQBAL     7936        9 tower dr   \n",
       "3  1447436209    fisher                     EMILY    77030    6560 fannin st   \n",
       "4  1447436209    fisher                     EMILY    77030    6560 fannin st   \n",
       "5  1518920602       lee                    VICTOR    95123  5710 cahalan ave   \n",
       "6  1891090262    antoon                   PATRICK    71860     218 church st   \n",
       "7  1891090262    antoon                   PATRICK    71860     218 church st   \n",
       "\n",
       "   npi_leie EXCLTYPE  EXCLDATE  year  \n",
       "0         0   1128a1  20010719  2001  \n",
       "1         0   1128a1  20010719  2001  \n",
       "2         0   1128a1  20010719  2001  \n",
       "3         0   1128b4  19981020  1998  \n",
       "4         0   1128b4  19981020  1998  \n",
       "5         0   1128a1  19830107  1983  \n",
       "6         0   1128a1  20061120  2006  \n",
       "7         0   1128a1  20061120  2006  "
      ]
     },
     "execution_count": 73,
     "metadata": {},
     "output_type": "execute_result"
    }
   ],
   "source": [
    "merged_file"
   ]
  },
  {
   "cell_type": "code",
   "execution_count": 74,
   "metadata": {},
   "outputs": [
    {
     "data": {
      "text/html": [
       "<div>\n",
       "<style scoped>\n",
       "    .dataframe tbody tr th:only-of-type {\n",
       "        vertical-align: middle;\n",
       "    }\n",
       "\n",
       "    .dataframe tbody tr th {\n",
       "        vertical-align: top;\n",
       "    }\n",
       "\n",
       "    .dataframe thead th {\n",
       "        text-align: right;\n",
       "    }\n",
       "</style>\n",
       "<table border=\"1\" class=\"dataframe\">\n",
       "  <thead>\n",
       "    <tr style=\"text-align: right;\">\n",
       "      <th></th>\n",
       "      <th>npi</th>\n",
       "      <th>EXCLTYPE</th>\n",
       "      <th>year</th>\n",
       "    </tr>\n",
       "  </thead>\n",
       "  <tbody>\n",
       "    <tr>\n",
       "      <th>0</th>\n",
       "      <td>1285969980</td>\n",
       "      <td>1128a1</td>\n",
       "      <td>2001</td>\n",
       "    </tr>\n",
       "    <tr>\n",
       "      <th>1</th>\n",
       "      <td>1285969980</td>\n",
       "      <td>1128a1</td>\n",
       "      <td>2001</td>\n",
       "    </tr>\n",
       "    <tr>\n",
       "      <th>2</th>\n",
       "      <td>1285969980</td>\n",
       "      <td>1128a1</td>\n",
       "      <td>2001</td>\n",
       "    </tr>\n",
       "    <tr>\n",
       "      <th>3</th>\n",
       "      <td>1447436209</td>\n",
       "      <td>1128b4</td>\n",
       "      <td>1998</td>\n",
       "    </tr>\n",
       "    <tr>\n",
       "      <th>4</th>\n",
       "      <td>1447436209</td>\n",
       "      <td>1128b4</td>\n",
       "      <td>1998</td>\n",
       "    </tr>\n",
       "    <tr>\n",
       "      <th>5</th>\n",
       "      <td>1518920602</td>\n",
       "      <td>1128a1</td>\n",
       "      <td>1983</td>\n",
       "    </tr>\n",
       "    <tr>\n",
       "      <th>6</th>\n",
       "      <td>1891090262</td>\n",
       "      <td>1128a1</td>\n",
       "      <td>2006</td>\n",
       "    </tr>\n",
       "    <tr>\n",
       "      <th>7</th>\n",
       "      <td>1891090262</td>\n",
       "      <td>1128a1</td>\n",
       "      <td>2006</td>\n",
       "    </tr>\n",
       "  </tbody>\n",
       "</table>\n",
       "</div>"
      ],
      "text/plain": [
       "          npi EXCLTYPE  year\n",
       "0  1285969980   1128a1  2001\n",
       "1  1285969980   1128a1  2001\n",
       "2  1285969980   1128a1  2001\n",
       "3  1447436209   1128b4  1998\n",
       "4  1447436209   1128b4  1998\n",
       "5  1518920602   1128a1  1983\n",
       "6  1891090262   1128a1  2006\n",
       "7  1891090262   1128a1  2006"
      ]
     },
     "execution_count": 74,
     "metadata": {},
     "output_type": "execute_result"
    }
   ],
   "source": [
    "merged_file = merged_file.drop(['lastname', 'nppes_provider_first_name', 'zip_new', 'street1','npi_leie','EXCLDATE'], axis=1)\n",
    "merged_file"
   ]
  },
  {
   "cell_type": "code",
   "execution_count": 75,
   "metadata": {},
   "outputs": [
    {
     "data": {
      "text/html": [
       "<div>\n",
       "<style scoped>\n",
       "    .dataframe tbody tr th:only-of-type {\n",
       "        vertical-align: middle;\n",
       "    }\n",
       "\n",
       "    .dataframe tbody tr th {\n",
       "        vertical-align: top;\n",
       "    }\n",
       "\n",
       "    .dataframe thead th {\n",
       "        text-align: right;\n",
       "    }\n",
       "</style>\n",
       "<table border=\"1\" class=\"dataframe\">\n",
       "  <thead>\n",
       "    <tr style=\"text-align: right;\">\n",
       "      <th></th>\n",
       "      <th>npi</th>\n",
       "      <th>EXCLTYPE</th>\n",
       "      <th>year</th>\n",
       "    </tr>\n",
       "  </thead>\n",
       "  <tbody>\n",
       "    <tr>\n",
       "      <th>3123</th>\n",
       "      <td>1477537496</td>\n",
       "      <td>1128b4</td>\n",
       "      <td>2014</td>\n",
       "    </tr>\n",
       "    <tr>\n",
       "      <th>3142</th>\n",
       "      <td>1194807255</td>\n",
       "      <td>1128b4</td>\n",
       "      <td>2018</td>\n",
       "    </tr>\n",
       "    <tr>\n",
       "      <th>3143</th>\n",
       "      <td>1225029184</td>\n",
       "      <td>1128a2</td>\n",
       "      <td>2014</td>\n",
       "    </tr>\n",
       "    <tr>\n",
       "      <th>3212</th>\n",
       "      <td>1487870507</td>\n",
       "      <td>1128a4</td>\n",
       "      <td>2018</td>\n",
       "    </tr>\n",
       "    <tr>\n",
       "      <th>3216</th>\n",
       "      <td>1497811368</td>\n",
       "      <td>1128a1</td>\n",
       "      <td>1999</td>\n",
       "    </tr>\n",
       "  </tbody>\n",
       "</table>\n",
       "</div>"
      ],
      "text/plain": [
       "             npi EXCLTYPE  year\n",
       "3123  1477537496   1128b4  2014\n",
       "3142  1194807255   1128b4  2018\n",
       "3143  1225029184   1128a2  2014\n",
       "3212  1487870507   1128a4  2018\n",
       "3216  1497811368   1128a1  1999"
      ]
     },
     "execution_count": 75,
     "metadata": {},
     "output_type": "execute_result"
    }
   ],
   "source": [
    "keepcols1 = ['npi', 'excltype', 'year']\n",
    "LEIE_x = LEIE_indiv[LEIE_indiv.npi!=0].filter(items=keepcols1)\n",
    "LEIE_x.columns = ['npi', 'EXCLTYPE', 'year']\n",
    "LEIE_x.head()"
   ]
  },
  {
   "cell_type": "code",
   "execution_count": 76,
   "metadata": {},
   "outputs": [
    {
     "name": "stdout",
     "output_type": "stream",
     "text": [
      "(8, 3)\n",
      "(4934, 3)\n"
     ]
    }
   ],
   "source": [
    "print(merged_file.shape)\n",
    "print(LEIE_x.shape)"
   ]
  },
  {
   "cell_type": "code",
   "execution_count": 77,
   "metadata": {
    "scrolled": false
   },
   "outputs": [
    {
     "data": {
      "text/html": [
       "<div>\n",
       "<style scoped>\n",
       "    .dataframe tbody tr th:only-of-type {\n",
       "        vertical-align: middle;\n",
       "    }\n",
       "\n",
       "    .dataframe tbody tr th {\n",
       "        vertical-align: top;\n",
       "    }\n",
       "\n",
       "    .dataframe thead th {\n",
       "        text-align: right;\n",
       "    }\n",
       "</style>\n",
       "<table border=\"1\" class=\"dataframe\">\n",
       "  <thead>\n",
       "    <tr style=\"text-align: right;\">\n",
       "      <th></th>\n",
       "      <th>npi</th>\n",
       "      <th>EXCLTYPE</th>\n",
       "      <th>year</th>\n",
       "    </tr>\n",
       "  </thead>\n",
       "  <tbody>\n",
       "    <tr>\n",
       "      <th>0</th>\n",
       "      <td>1285969980</td>\n",
       "      <td>1128a1</td>\n",
       "      <td>2001</td>\n",
       "    </tr>\n",
       "    <tr>\n",
       "      <th>1</th>\n",
       "      <td>1285969980</td>\n",
       "      <td>1128a1</td>\n",
       "      <td>2001</td>\n",
       "    </tr>\n",
       "    <tr>\n",
       "      <th>2</th>\n",
       "      <td>1285969980</td>\n",
       "      <td>1128a1</td>\n",
       "      <td>2001</td>\n",
       "    </tr>\n",
       "    <tr>\n",
       "      <th>3</th>\n",
       "      <td>1447436209</td>\n",
       "      <td>1128b4</td>\n",
       "      <td>1998</td>\n",
       "    </tr>\n",
       "    <tr>\n",
       "      <th>4</th>\n",
       "      <td>1447436209</td>\n",
       "      <td>1128b4</td>\n",
       "      <td>1998</td>\n",
       "    </tr>\n",
       "  </tbody>\n",
       "</table>\n",
       "</div>"
      ],
      "text/plain": [
       "          npi EXCLTYPE  year\n",
       "0  1285969980   1128a1  2001\n",
       "1  1285969980   1128a1  2001\n",
       "2  1285969980   1128a1  2001\n",
       "3  1447436209   1128b4  1998\n",
       "4  1447436209   1128b4  1998"
      ]
     },
     "execution_count": 77,
     "metadata": {},
     "output_type": "execute_result"
    }
   ],
   "source": [
    "LEIE_npi_match = pd.concat([merged_file, LEIE_x], sort=False)\n",
    "LEIE_npi_match.head()"
   ]
  },
  {
   "cell_type": "code",
   "execution_count": 78,
   "metadata": {},
   "outputs": [
    {
     "data": {
      "text/plain": [
       "(4942, 3)"
      ]
     },
     "execution_count": 78,
     "metadata": {},
     "output_type": "execute_result"
    }
   ],
   "source": [
    "LEIE_npi_match.shape"
   ]
  },
  {
   "cell_type": "code",
   "execution_count": 79,
   "metadata": {},
   "outputs": [
    {
     "data": {
      "text/plain": [
       "(1511527, 22)"
      ]
     },
     "execution_count": 79,
     "metadata": {},
     "output_type": "execute_result"
    }
   ],
   "source": [
    "df.shape"
   ]
  },
  {
   "cell_type": "code",
   "execution_count": 80,
   "metadata": {
    "scrolled": false
   },
   "outputs": [
    {
     "data": {
      "text/html": [
       "<div>\n",
       "<style scoped>\n",
       "    .dataframe tbody tr th:only-of-type {\n",
       "        vertical-align: middle;\n",
       "    }\n",
       "\n",
       "    .dataframe tbody tr th {\n",
       "        vertical-align: top;\n",
       "    }\n",
       "\n",
       "    .dataframe thead th {\n",
       "        text-align: right;\n",
       "    }\n",
       "</style>\n",
       "<table border=\"1\" class=\"dataframe\">\n",
       "  <thead>\n",
       "    <tr style=\"text-align: right;\">\n",
       "      <th></th>\n",
       "      <th>npi</th>\n",
       "      <th>lastname</th>\n",
       "      <th>firstname</th>\n",
       "      <th>credentials</th>\n",
       "      <th>gender</th>\n",
       "      <th>address</th>\n",
       "      <th>city</th>\n",
       "      <th>zip</th>\n",
       "      <th>state</th>\n",
       "      <th>provider_type</th>\n",
       "      <th>place_of_service</th>\n",
       "      <th>hcpcs_code</th>\n",
       "      <th>hcpcs_description</th>\n",
       "      <th>line_srvc_cnt</th>\n",
       "      <th>bene_unique_cnt</th>\n",
       "      <th>bene_day_srvc_cnt</th>\n",
       "      <th>average_Medicare_allowed_amt</th>\n",
       "      <th>average_submitted_chrg_amt</th>\n",
       "      <th>average_Medicare_payment_amt</th>\n",
       "      <th>average_Medicare_standard_amt</th>\n",
       "      <th>Total_submitted_chrg_amt</th>\n",
       "      <th>Total_Medicare_payment_amt</th>\n",
       "      <th>EXCLTYPE</th>\n",
       "      <th>year</th>\n",
       "    </tr>\n",
       "  </thead>\n",
       "  <tbody>\n",
       "    <tr>\n",
       "      <th>0</th>\n",
       "      <td>1003000126</td>\n",
       "      <td>ENKESHAFI</td>\n",
       "      <td>ARDALAN</td>\n",
       "      <td>M.D.</td>\n",
       "      <td>M</td>\n",
       "      <td>900 SETON DR</td>\n",
       "      <td>CUMBERLAND</td>\n",
       "      <td>21502</td>\n",
       "      <td>MD</td>\n",
       "      <td>Internal Medicine</td>\n",
       "      <td>F</td>\n",
       "      <td>99223</td>\n",
       "      <td>Initial hospital inpatient care, typically 70 ...</td>\n",
       "      <td>114.0</td>\n",
       "      <td>110</td>\n",
       "      <td>114</td>\n",
       "      <td>206.061579</td>\n",
       "      <td>923.991228</td>\n",
       "      <td>160.377193</td>\n",
       "      <td>160.026316</td>\n",
       "      <td>105335.000000</td>\n",
       "      <td>18283.00</td>\n",
       "      <td>NaN</td>\n",
       "      <td>NaN</td>\n",
       "    </tr>\n",
       "    <tr>\n",
       "      <th>1</th>\n",
       "      <td>1003000126</td>\n",
       "      <td>ENKESHAFI</td>\n",
       "      <td>ARDALAN</td>\n",
       "      <td>M.D.</td>\n",
       "      <td>M</td>\n",
       "      <td>900 SETON DR</td>\n",
       "      <td>CUMBERLAND</td>\n",
       "      <td>21502</td>\n",
       "      <td>MD</td>\n",
       "      <td>Internal Medicine</td>\n",
       "      <td>F</td>\n",
       "      <td>99232</td>\n",
       "      <td>Subsequent hospital inpatient care, typically ...</td>\n",
       "      <td>627.0</td>\n",
       "      <td>233</td>\n",
       "      <td>627</td>\n",
       "      <td>72.622456</td>\n",
       "      <td>326.245614</td>\n",
       "      <td>56.366730</td>\n",
       "      <td>57.047895</td>\n",
       "      <td>204556.000003</td>\n",
       "      <td>35341.94</td>\n",
       "      <td>NaN</td>\n",
       "      <td>NaN</td>\n",
       "    </tr>\n",
       "    <tr>\n",
       "      <th>2</th>\n",
       "      <td>1003000126</td>\n",
       "      <td>ENKESHAFI</td>\n",
       "      <td>ARDALAN</td>\n",
       "      <td>M.D.</td>\n",
       "      <td>M</td>\n",
       "      <td>900 SETON DR</td>\n",
       "      <td>CUMBERLAND</td>\n",
       "      <td>21502</td>\n",
       "      <td>MD</td>\n",
       "      <td>Internal Medicine</td>\n",
       "      <td>F</td>\n",
       "      <td>99233</td>\n",
       "      <td>Subsequent hospital inpatient care, typically ...</td>\n",
       "      <td>207.0</td>\n",
       "      <td>127</td>\n",
       "      <td>207</td>\n",
       "      <td>106.653913</td>\n",
       "      <td>461.072464</td>\n",
       "      <td>82.820676</td>\n",
       "      <td>83.196039</td>\n",
       "      <td>95442.000000</td>\n",
       "      <td>17143.88</td>\n",
       "      <td>NaN</td>\n",
       "      <td>NaN</td>\n",
       "    </tr>\n",
       "    <tr>\n",
       "      <th>3</th>\n",
       "      <td>1003000126</td>\n",
       "      <td>ENKESHAFI</td>\n",
       "      <td>ARDALAN</td>\n",
       "      <td>M.D.</td>\n",
       "      <td>M</td>\n",
       "      <td>900 SETON DR</td>\n",
       "      <td>CUMBERLAND</td>\n",
       "      <td>21502</td>\n",
       "      <td>MD</td>\n",
       "      <td>Internal Medicine</td>\n",
       "      <td>F</td>\n",
       "      <td>99291</td>\n",
       "      <td>Critical care delivery critically ill or injur...</td>\n",
       "      <td>36.0</td>\n",
       "      <td>23</td>\n",
       "      <td>36</td>\n",
       "      <td>224.170000</td>\n",
       "      <td>1400.000000</td>\n",
       "      <td>175.750000</td>\n",
       "      <td>177.656667</td>\n",
       "      <td>50400.000000</td>\n",
       "      <td>6327.00</td>\n",
       "      <td>NaN</td>\n",
       "      <td>NaN</td>\n",
       "    </tr>\n",
       "    <tr>\n",
       "      <th>4</th>\n",
       "      <td>1003000142</td>\n",
       "      <td>KHALIL</td>\n",
       "      <td>RASHID</td>\n",
       "      <td>M.D.</td>\n",
       "      <td>M</td>\n",
       "      <td>4126 N HOLLAND SYLVANIA RD</td>\n",
       "      <td>TOLEDO</td>\n",
       "      <td>43623</td>\n",
       "      <td>OH</td>\n",
       "      <td>Anesthesiology</td>\n",
       "      <td>O</td>\n",
       "      <td>99213</td>\n",
       "      <td>Established patient office or other outpatient...</td>\n",
       "      <td>129.0</td>\n",
       "      <td>89</td>\n",
       "      <td>129</td>\n",
       "      <td>70.930000</td>\n",
       "      <td>109.000000</td>\n",
       "      <td>50.868062</td>\n",
       "      <td>53.268372</td>\n",
       "      <td>14061.000000</td>\n",
       "      <td>6561.98</td>\n",
       "      <td>NaN</td>\n",
       "      <td>NaN</td>\n",
       "    </tr>\n",
       "  </tbody>\n",
       "</table>\n",
       "</div>"
      ],
      "text/plain": [
       "          npi   lastname firstname credentials gender  \\\n",
       "0  1003000126  ENKESHAFI   ARDALAN        M.D.      M   \n",
       "1  1003000126  ENKESHAFI   ARDALAN        M.D.      M   \n",
       "2  1003000126  ENKESHAFI   ARDALAN        M.D.      M   \n",
       "3  1003000126  ENKESHAFI   ARDALAN        M.D.      M   \n",
       "4  1003000142     KHALIL    RASHID        M.D.      M   \n",
       "\n",
       "                      address        city    zip state      provider_type  \\\n",
       "0                900 SETON DR  CUMBERLAND  21502    MD  Internal Medicine   \n",
       "1                900 SETON DR  CUMBERLAND  21502    MD  Internal Medicine   \n",
       "2                900 SETON DR  CUMBERLAND  21502    MD  Internal Medicine   \n",
       "3                900 SETON DR  CUMBERLAND  21502    MD  Internal Medicine   \n",
       "4  4126 N HOLLAND SYLVANIA RD      TOLEDO  43623    OH     Anesthesiology   \n",
       "\n",
       "  place_of_service hcpcs_code  \\\n",
       "0                F      99223   \n",
       "1                F      99232   \n",
       "2                F      99233   \n",
       "3                F      99291   \n",
       "4                O      99213   \n",
       "\n",
       "                                   hcpcs_description  line_srvc_cnt  \\\n",
       "0  Initial hospital inpatient care, typically 70 ...          114.0   \n",
       "1  Subsequent hospital inpatient care, typically ...          627.0   \n",
       "2  Subsequent hospital inpatient care, typically ...          207.0   \n",
       "3  Critical care delivery critically ill or injur...           36.0   \n",
       "4  Established patient office or other outpatient...          129.0   \n",
       "\n",
       "   bene_unique_cnt  bene_day_srvc_cnt  average_Medicare_allowed_amt  \\\n",
       "0              110                114                    206.061579   \n",
       "1              233                627                     72.622456   \n",
       "2              127                207                    106.653913   \n",
       "3               23                 36                    224.170000   \n",
       "4               89                129                     70.930000   \n",
       "\n",
       "   average_submitted_chrg_amt  average_Medicare_payment_amt  \\\n",
       "0                  923.991228                    160.377193   \n",
       "1                  326.245614                     56.366730   \n",
       "2                  461.072464                     82.820676   \n",
       "3                 1400.000000                    175.750000   \n",
       "4                  109.000000                     50.868062   \n",
       "\n",
       "   average_Medicare_standard_amt  Total_submitted_chrg_amt  \\\n",
       "0                     160.026316             105335.000000   \n",
       "1                      57.047895             204556.000003   \n",
       "2                      83.196039              95442.000000   \n",
       "3                     177.656667              50400.000000   \n",
       "4                      53.268372              14061.000000   \n",
       "\n",
       "   Total_Medicare_payment_amt EXCLTYPE  year  \n",
       "0                    18283.00      NaN   NaN  \n",
       "1                    35341.94      NaN   NaN  \n",
       "2                    17143.88      NaN   NaN  \n",
       "3                     6327.00      NaN   NaN  \n",
       "4                     6561.98      NaN   NaN  "
      ]
     },
     "execution_count": 80,
     "metadata": {},
     "output_type": "execute_result"
    }
   ],
   "source": [
    "combo = pd.merge(df, LEIE_npi_match, how=\"left\", on=\"npi\")\n",
    "combo.head()"
   ]
  },
  {
   "cell_type": "code",
   "execution_count": 81,
   "metadata": {},
   "outputs": [
    {
     "data": {
      "text/plain": [
       "(1511539, 24)"
      ]
     },
     "execution_count": 81,
     "metadata": {},
     "output_type": "execute_result"
    }
   ],
   "source": [
    "combo.shape"
   ]
  },
  {
   "cell_type": "code",
   "execution_count": 82,
   "metadata": {
    "scrolled": true
   },
   "outputs": [
    {
     "data": {
      "text/plain": [
       "297"
      ]
     },
     "execution_count": 82,
     "metadata": {},
     "output_type": "execute_result"
    }
   ],
   "source": [
    "combo.EXCLTYPE.notnull().sum()"
   ]
  },
  {
   "cell_type": "code",
   "execution_count": 83,
   "metadata": {},
   "outputs": [],
   "source": [
    "def imputeNone(df_input):\n",
    "    df = df_input.copy()\n",
    "    cols = ['EXCLTYPE', 'year']\n",
    "    for col in cols:\n",
    "        df[col] = np.where(df[col].isnull(), \"None\", df[col])\n",
    "    return(df)"
   ]
  },
  {
   "cell_type": "code",
   "execution_count": 84,
   "metadata": {},
   "outputs": [],
   "source": [
    "combo = imputeNone(combo)"
   ]
  },
  {
   "cell_type": "code",
   "execution_count": 85,
   "metadata": {},
   "outputs": [
    {
     "data": {
      "text/html": [
       "<div>\n",
       "<style scoped>\n",
       "    .dataframe tbody tr th:only-of-type {\n",
       "        vertical-align: middle;\n",
       "    }\n",
       "\n",
       "    .dataframe tbody tr th {\n",
       "        vertical-align: top;\n",
       "    }\n",
       "\n",
       "    .dataframe thead th {\n",
       "        text-align: right;\n",
       "    }\n",
       "</style>\n",
       "<table border=\"1\" class=\"dataframe\">\n",
       "  <thead>\n",
       "    <tr style=\"text-align: right;\">\n",
       "      <th></th>\n",
       "      <th>npi</th>\n",
       "      <th>lastname</th>\n",
       "      <th>firstname</th>\n",
       "      <th>credentials</th>\n",
       "      <th>gender</th>\n",
       "      <th>address</th>\n",
       "      <th>city</th>\n",
       "      <th>zip</th>\n",
       "      <th>state</th>\n",
       "      <th>provider_type</th>\n",
       "      <th>place_of_service</th>\n",
       "      <th>hcpcs_code</th>\n",
       "      <th>hcpcs_description</th>\n",
       "      <th>line_srvc_cnt</th>\n",
       "      <th>bene_unique_cnt</th>\n",
       "      <th>bene_day_srvc_cnt</th>\n",
       "      <th>average_Medicare_allowed_amt</th>\n",
       "      <th>average_submitted_chrg_amt</th>\n",
       "      <th>average_Medicare_payment_amt</th>\n",
       "      <th>average_Medicare_standard_amt</th>\n",
       "      <th>Total_submitted_chrg_amt</th>\n",
       "      <th>Total_Medicare_payment_amt</th>\n",
       "      <th>EXCLTYPE</th>\n",
       "      <th>year</th>\n",
       "    </tr>\n",
       "  </thead>\n",
       "  <tbody>\n",
       "    <tr>\n",
       "      <th>0</th>\n",
       "      <td>1003000126</td>\n",
       "      <td>ENKESHAFI</td>\n",
       "      <td>ARDALAN</td>\n",
       "      <td>M.D.</td>\n",
       "      <td>M</td>\n",
       "      <td>900 SETON DR</td>\n",
       "      <td>CUMBERLAND</td>\n",
       "      <td>21502</td>\n",
       "      <td>MD</td>\n",
       "      <td>Internal Medicine</td>\n",
       "      <td>F</td>\n",
       "      <td>99223</td>\n",
       "      <td>Initial hospital inpatient care, typically 70 ...</td>\n",
       "      <td>114.0</td>\n",
       "      <td>110</td>\n",
       "      <td>114</td>\n",
       "      <td>206.061579</td>\n",
       "      <td>923.991228</td>\n",
       "      <td>160.377193</td>\n",
       "      <td>160.026316</td>\n",
       "      <td>105335.000000</td>\n",
       "      <td>18283.00</td>\n",
       "      <td>None</td>\n",
       "      <td>None</td>\n",
       "    </tr>\n",
       "    <tr>\n",
       "      <th>1</th>\n",
       "      <td>1003000126</td>\n",
       "      <td>ENKESHAFI</td>\n",
       "      <td>ARDALAN</td>\n",
       "      <td>M.D.</td>\n",
       "      <td>M</td>\n",
       "      <td>900 SETON DR</td>\n",
       "      <td>CUMBERLAND</td>\n",
       "      <td>21502</td>\n",
       "      <td>MD</td>\n",
       "      <td>Internal Medicine</td>\n",
       "      <td>F</td>\n",
       "      <td>99232</td>\n",
       "      <td>Subsequent hospital inpatient care, typically ...</td>\n",
       "      <td>627.0</td>\n",
       "      <td>233</td>\n",
       "      <td>627</td>\n",
       "      <td>72.622456</td>\n",
       "      <td>326.245614</td>\n",
       "      <td>56.366730</td>\n",
       "      <td>57.047895</td>\n",
       "      <td>204556.000003</td>\n",
       "      <td>35341.94</td>\n",
       "      <td>None</td>\n",
       "      <td>None</td>\n",
       "    </tr>\n",
       "    <tr>\n",
       "      <th>2</th>\n",
       "      <td>1003000126</td>\n",
       "      <td>ENKESHAFI</td>\n",
       "      <td>ARDALAN</td>\n",
       "      <td>M.D.</td>\n",
       "      <td>M</td>\n",
       "      <td>900 SETON DR</td>\n",
       "      <td>CUMBERLAND</td>\n",
       "      <td>21502</td>\n",
       "      <td>MD</td>\n",
       "      <td>Internal Medicine</td>\n",
       "      <td>F</td>\n",
       "      <td>99233</td>\n",
       "      <td>Subsequent hospital inpatient care, typically ...</td>\n",
       "      <td>207.0</td>\n",
       "      <td>127</td>\n",
       "      <td>207</td>\n",
       "      <td>106.653913</td>\n",
       "      <td>461.072464</td>\n",
       "      <td>82.820676</td>\n",
       "      <td>83.196039</td>\n",
       "      <td>95442.000000</td>\n",
       "      <td>17143.88</td>\n",
       "      <td>None</td>\n",
       "      <td>None</td>\n",
       "    </tr>\n",
       "    <tr>\n",
       "      <th>3</th>\n",
       "      <td>1003000126</td>\n",
       "      <td>ENKESHAFI</td>\n",
       "      <td>ARDALAN</td>\n",
       "      <td>M.D.</td>\n",
       "      <td>M</td>\n",
       "      <td>900 SETON DR</td>\n",
       "      <td>CUMBERLAND</td>\n",
       "      <td>21502</td>\n",
       "      <td>MD</td>\n",
       "      <td>Internal Medicine</td>\n",
       "      <td>F</td>\n",
       "      <td>99291</td>\n",
       "      <td>Critical care delivery critically ill or injur...</td>\n",
       "      <td>36.0</td>\n",
       "      <td>23</td>\n",
       "      <td>36</td>\n",
       "      <td>224.170000</td>\n",
       "      <td>1400.000000</td>\n",
       "      <td>175.750000</td>\n",
       "      <td>177.656667</td>\n",
       "      <td>50400.000000</td>\n",
       "      <td>6327.00</td>\n",
       "      <td>None</td>\n",
       "      <td>None</td>\n",
       "    </tr>\n",
       "    <tr>\n",
       "      <th>4</th>\n",
       "      <td>1003000142</td>\n",
       "      <td>KHALIL</td>\n",
       "      <td>RASHID</td>\n",
       "      <td>M.D.</td>\n",
       "      <td>M</td>\n",
       "      <td>4126 N HOLLAND SYLVANIA RD</td>\n",
       "      <td>TOLEDO</td>\n",
       "      <td>43623</td>\n",
       "      <td>OH</td>\n",
       "      <td>Anesthesiology</td>\n",
       "      <td>O</td>\n",
       "      <td>99213</td>\n",
       "      <td>Established patient office or other outpatient...</td>\n",
       "      <td>129.0</td>\n",
       "      <td>89</td>\n",
       "      <td>129</td>\n",
       "      <td>70.930000</td>\n",
       "      <td>109.000000</td>\n",
       "      <td>50.868062</td>\n",
       "      <td>53.268372</td>\n",
       "      <td>14061.000000</td>\n",
       "      <td>6561.98</td>\n",
       "      <td>None</td>\n",
       "      <td>None</td>\n",
       "    </tr>\n",
       "  </tbody>\n",
       "</table>\n",
       "</div>"
      ],
      "text/plain": [
       "          npi   lastname firstname credentials gender  \\\n",
       "0  1003000126  ENKESHAFI   ARDALAN        M.D.      M   \n",
       "1  1003000126  ENKESHAFI   ARDALAN        M.D.      M   \n",
       "2  1003000126  ENKESHAFI   ARDALAN        M.D.      M   \n",
       "3  1003000126  ENKESHAFI   ARDALAN        M.D.      M   \n",
       "4  1003000142     KHALIL    RASHID        M.D.      M   \n",
       "\n",
       "                      address        city    zip state      provider_type  \\\n",
       "0                900 SETON DR  CUMBERLAND  21502    MD  Internal Medicine   \n",
       "1                900 SETON DR  CUMBERLAND  21502    MD  Internal Medicine   \n",
       "2                900 SETON DR  CUMBERLAND  21502    MD  Internal Medicine   \n",
       "3                900 SETON DR  CUMBERLAND  21502    MD  Internal Medicine   \n",
       "4  4126 N HOLLAND SYLVANIA RD      TOLEDO  43623    OH     Anesthesiology   \n",
       "\n",
       "  place_of_service hcpcs_code  \\\n",
       "0                F      99223   \n",
       "1                F      99232   \n",
       "2                F      99233   \n",
       "3                F      99291   \n",
       "4                O      99213   \n",
       "\n",
       "                                   hcpcs_description  line_srvc_cnt  \\\n",
       "0  Initial hospital inpatient care, typically 70 ...          114.0   \n",
       "1  Subsequent hospital inpatient care, typically ...          627.0   \n",
       "2  Subsequent hospital inpatient care, typically ...          207.0   \n",
       "3  Critical care delivery critically ill or injur...           36.0   \n",
       "4  Established patient office or other outpatient...          129.0   \n",
       "\n",
       "   bene_unique_cnt  bene_day_srvc_cnt  average_Medicare_allowed_amt  \\\n",
       "0              110                114                    206.061579   \n",
       "1              233                627                     72.622456   \n",
       "2              127                207                    106.653913   \n",
       "3               23                 36                    224.170000   \n",
       "4               89                129                     70.930000   \n",
       "\n",
       "   average_submitted_chrg_amt  average_Medicare_payment_amt  \\\n",
       "0                  923.991228                    160.377193   \n",
       "1                  326.245614                     56.366730   \n",
       "2                  461.072464                     82.820676   \n",
       "3                 1400.000000                    175.750000   \n",
       "4                  109.000000                     50.868062   \n",
       "\n",
       "   average_Medicare_standard_amt  Total_submitted_chrg_amt  \\\n",
       "0                     160.026316             105335.000000   \n",
       "1                      57.047895             204556.000003   \n",
       "2                      83.196039              95442.000000   \n",
       "3                     177.656667              50400.000000   \n",
       "4                      53.268372              14061.000000   \n",
       "\n",
       "   Total_Medicare_payment_amt EXCLTYPE  year  \n",
       "0                    18283.00     None  None  \n",
       "1                    35341.94     None  None  \n",
       "2                    17143.88     None  None  \n",
       "3                     6327.00     None  None  \n",
       "4                     6561.98     None  None  "
      ]
     },
     "execution_count": 85,
     "metadata": {},
     "output_type": "execute_result"
    }
   ],
   "source": [
    "combo.head()"
   ]
  },
  {
   "cell_type": "code",
   "execution_count": 86,
   "metadata": {},
   "outputs": [
    {
     "data": {
      "text/plain": [
       "(1511539, 24)"
      ]
     },
     "execution_count": 86,
     "metadata": {},
     "output_type": "execute_result"
    }
   ],
   "source": [
    "combo.shape"
   ]
  },
  {
   "cell_type": "markdown",
   "metadata": {},
   "source": [
    "## Adding Target Column"
   ]
  },
  {
   "cell_type": "code",
   "execution_count": 87,
   "metadata": {},
   "outputs": [
    {
     "data": {
      "text/plain": [
       "277"
      ]
     },
     "execution_count": 87,
     "metadata": {},
     "output_type": "execute_result"
    }
   ],
   "source": [
    "len(npi_same)"
   ]
  },
  {
   "cell_type": "code",
   "execution_count": 88,
   "metadata": {},
   "outputs": [],
   "source": [
    "npi_same_list = npi_same.tolist()"
   ]
  },
  {
   "cell_type": "code",
   "execution_count": null,
   "metadata": {},
   "outputs": [
    {
     "data": {
      "text/plain": [
       "[1285969980,\n",
       " 1285969980,\n",
       " 1285969980,\n",
       " 1447436209,\n",
       " 1447436209,\n",
       " 1518920602,\n",
       " 1891090262,\n",
       " 1891090262]"
      ]
     },
     "execution_count": 89,
     "metadata": {},
     "output_type": "execute_result"
    }
   ],
   "source": [
    "npi_more = merged_file.npi.tolist()\n",
    "npi_more"
   ]
  },
  {
   "cell_type": "code",
   "execution_count": null,
   "metadata": {},
   "outputs": [],
   "source": [
    "for i in npi_more:\n",
    "    npi_same_list.append(i)"
   ]
  },
  {
   "cell_type": "code",
   "execution_count": null,
   "metadata": {},
   "outputs": [
    {
     "data": {
      "text/plain": [
       "285"
      ]
     },
     "execution_count": 91,
     "metadata": {},
     "output_type": "execute_result"
    }
   ],
   "source": [
    "len(npi_same_list)"
   ]
  },
  {
   "cell_type": "code",
   "execution_count": null,
   "metadata": {},
   "outputs": [
    {
     "data": {
      "text/plain": [
       "297"
      ]
     },
     "execution_count": 92,
     "metadata": {},
     "output_type": "execute_result"
    }
   ],
   "source": [
    "(combo.npi.isin(npi_same_list)).sum()"
   ]
  },
  {
   "cell_type": "code",
   "execution_count": null,
   "metadata": {},
   "outputs": [],
   "source": [
    "combo['Target'] = (combo.npi.isin(npi_same_list)).astype(int)"
   ]
  },
  {
   "cell_type": "code",
   "execution_count": null,
   "metadata": {},
   "outputs": [
    {
     "data": {
      "text/plain": [
       "297"
      ]
     },
     "execution_count": 94,
     "metadata": {},
     "output_type": "execute_result"
    }
   ],
   "source": [
    "(combo['Target']==1).sum()"
   ]
  },
  {
   "cell_type": "code",
   "execution_count": null,
   "metadata": {},
   "outputs": [
    {
     "data": {
      "text/plain": [
       "141"
      ]
     },
     "execution_count": 95,
     "metadata": {},
     "output_type": "execute_result"
    }
   ],
   "source": [
    "combo[combo.Target==1]['npi'].nunique()"
   ]
  },
  {
   "cell_type": "code",
   "execution_count": null,
   "metadata": {},
   "outputs": [
    {
     "data": {
      "text/html": [
       "<div>\n",
       "<style scoped>\n",
       "    .dataframe tbody tr th:only-of-type {\n",
       "        vertical-align: middle;\n",
       "    }\n",
       "\n",
       "    .dataframe tbody tr th {\n",
       "        vertical-align: top;\n",
       "    }\n",
       "\n",
       "    .dataframe thead th {\n",
       "        text-align: right;\n",
       "    }\n",
       "</style>\n",
       "<table border=\"1\" class=\"dataframe\">\n",
       "  <thead>\n",
       "    <tr style=\"text-align: right;\">\n",
       "      <th></th>\n",
       "      <th>npi</th>\n",
       "      <th>lastname</th>\n",
       "      <th>firstname</th>\n",
       "      <th>credentials</th>\n",
       "      <th>gender</th>\n",
       "      <th>address</th>\n",
       "      <th>city</th>\n",
       "      <th>zip</th>\n",
       "      <th>state</th>\n",
       "      <th>provider_type</th>\n",
       "      <th>place_of_service</th>\n",
       "      <th>hcpcs_code</th>\n",
       "      <th>hcpcs_description</th>\n",
       "      <th>line_srvc_cnt</th>\n",
       "      <th>bene_unique_cnt</th>\n",
       "      <th>bene_day_srvc_cnt</th>\n",
       "      <th>average_Medicare_allowed_amt</th>\n",
       "      <th>average_submitted_chrg_amt</th>\n",
       "      <th>average_Medicare_payment_amt</th>\n",
       "      <th>average_Medicare_standard_amt</th>\n",
       "      <th>Total_submitted_chrg_amt</th>\n",
       "      <th>Total_Medicare_payment_amt</th>\n",
       "      <th>EXCLTYPE</th>\n",
       "      <th>year</th>\n",
       "      <th>Target</th>\n",
       "    </tr>\n",
       "  </thead>\n",
       "  <tbody>\n",
       "    <tr>\n",
       "      <th>0</th>\n",
       "      <td>1003000126</td>\n",
       "      <td>ENKESHAFI</td>\n",
       "      <td>ARDALAN</td>\n",
       "      <td>M.D.</td>\n",
       "      <td>M</td>\n",
       "      <td>900 SETON DR</td>\n",
       "      <td>CUMBERLAND</td>\n",
       "      <td>21502</td>\n",
       "      <td>MD</td>\n",
       "      <td>Internal Medicine</td>\n",
       "      <td>F</td>\n",
       "      <td>99223</td>\n",
       "      <td>Initial hospital inpatient care, typically 70 ...</td>\n",
       "      <td>114.0</td>\n",
       "      <td>110</td>\n",
       "      <td>114</td>\n",
       "      <td>206.061579</td>\n",
       "      <td>923.991228</td>\n",
       "      <td>160.377193</td>\n",
       "      <td>160.026316</td>\n",
       "      <td>105335.000000</td>\n",
       "      <td>18283.00</td>\n",
       "      <td>None</td>\n",
       "      <td>None</td>\n",
       "      <td>0</td>\n",
       "    </tr>\n",
       "    <tr>\n",
       "      <th>1</th>\n",
       "      <td>1003000126</td>\n",
       "      <td>ENKESHAFI</td>\n",
       "      <td>ARDALAN</td>\n",
       "      <td>M.D.</td>\n",
       "      <td>M</td>\n",
       "      <td>900 SETON DR</td>\n",
       "      <td>CUMBERLAND</td>\n",
       "      <td>21502</td>\n",
       "      <td>MD</td>\n",
       "      <td>Internal Medicine</td>\n",
       "      <td>F</td>\n",
       "      <td>99232</td>\n",
       "      <td>Subsequent hospital inpatient care, typically ...</td>\n",
       "      <td>627.0</td>\n",
       "      <td>233</td>\n",
       "      <td>627</td>\n",
       "      <td>72.622456</td>\n",
       "      <td>326.245614</td>\n",
       "      <td>56.366730</td>\n",
       "      <td>57.047895</td>\n",
       "      <td>204556.000003</td>\n",
       "      <td>35341.94</td>\n",
       "      <td>None</td>\n",
       "      <td>None</td>\n",
       "      <td>0</td>\n",
       "    </tr>\n",
       "    <tr>\n",
       "      <th>2</th>\n",
       "      <td>1003000126</td>\n",
       "      <td>ENKESHAFI</td>\n",
       "      <td>ARDALAN</td>\n",
       "      <td>M.D.</td>\n",
       "      <td>M</td>\n",
       "      <td>900 SETON DR</td>\n",
       "      <td>CUMBERLAND</td>\n",
       "      <td>21502</td>\n",
       "      <td>MD</td>\n",
       "      <td>Internal Medicine</td>\n",
       "      <td>F</td>\n",
       "      <td>99233</td>\n",
       "      <td>Subsequent hospital inpatient care, typically ...</td>\n",
       "      <td>207.0</td>\n",
       "      <td>127</td>\n",
       "      <td>207</td>\n",
       "      <td>106.653913</td>\n",
       "      <td>461.072464</td>\n",
       "      <td>82.820676</td>\n",
       "      <td>83.196039</td>\n",
       "      <td>95442.000000</td>\n",
       "      <td>17143.88</td>\n",
       "      <td>None</td>\n",
       "      <td>None</td>\n",
       "      <td>0</td>\n",
       "    </tr>\n",
       "    <tr>\n",
       "      <th>3</th>\n",
       "      <td>1003000126</td>\n",
       "      <td>ENKESHAFI</td>\n",
       "      <td>ARDALAN</td>\n",
       "      <td>M.D.</td>\n",
       "      <td>M</td>\n",
       "      <td>900 SETON DR</td>\n",
       "      <td>CUMBERLAND</td>\n",
       "      <td>21502</td>\n",
       "      <td>MD</td>\n",
       "      <td>Internal Medicine</td>\n",
       "      <td>F</td>\n",
       "      <td>99291</td>\n",
       "      <td>Critical care delivery critically ill or injur...</td>\n",
       "      <td>36.0</td>\n",
       "      <td>23</td>\n",
       "      <td>36</td>\n",
       "      <td>224.170000</td>\n",
       "      <td>1400.000000</td>\n",
       "      <td>175.750000</td>\n",
       "      <td>177.656667</td>\n",
       "      <td>50400.000000</td>\n",
       "      <td>6327.00</td>\n",
       "      <td>None</td>\n",
       "      <td>None</td>\n",
       "      <td>0</td>\n",
       "    </tr>\n",
       "    <tr>\n",
       "      <th>4</th>\n",
       "      <td>1003000142</td>\n",
       "      <td>KHALIL</td>\n",
       "      <td>RASHID</td>\n",
       "      <td>M.D.</td>\n",
       "      <td>M</td>\n",
       "      <td>4126 N HOLLAND SYLVANIA RD</td>\n",
       "      <td>TOLEDO</td>\n",
       "      <td>43623</td>\n",
       "      <td>OH</td>\n",
       "      <td>Anesthesiology</td>\n",
       "      <td>O</td>\n",
       "      <td>99213</td>\n",
       "      <td>Established patient office or other outpatient...</td>\n",
       "      <td>129.0</td>\n",
       "      <td>89</td>\n",
       "      <td>129</td>\n",
       "      <td>70.930000</td>\n",
       "      <td>109.000000</td>\n",
       "      <td>50.868062</td>\n",
       "      <td>53.268372</td>\n",
       "      <td>14061.000000</td>\n",
       "      <td>6561.98</td>\n",
       "      <td>None</td>\n",
       "      <td>None</td>\n",
       "      <td>0</td>\n",
       "    </tr>\n",
       "  </tbody>\n",
       "</table>\n",
       "</div>"
      ],
      "text/plain": [
       "          npi   lastname firstname credentials gender  \\\n",
       "0  1003000126  ENKESHAFI   ARDALAN        M.D.      M   \n",
       "1  1003000126  ENKESHAFI   ARDALAN        M.D.      M   \n",
       "2  1003000126  ENKESHAFI   ARDALAN        M.D.      M   \n",
       "3  1003000126  ENKESHAFI   ARDALAN        M.D.      M   \n",
       "4  1003000142     KHALIL    RASHID        M.D.      M   \n",
       "\n",
       "                      address        city    zip state      provider_type  \\\n",
       "0                900 SETON DR  CUMBERLAND  21502    MD  Internal Medicine   \n",
       "1                900 SETON DR  CUMBERLAND  21502    MD  Internal Medicine   \n",
       "2                900 SETON DR  CUMBERLAND  21502    MD  Internal Medicine   \n",
       "3                900 SETON DR  CUMBERLAND  21502    MD  Internal Medicine   \n",
       "4  4126 N HOLLAND SYLVANIA RD      TOLEDO  43623    OH     Anesthesiology   \n",
       "\n",
       "  place_of_service hcpcs_code  \\\n",
       "0                F      99223   \n",
       "1                F      99232   \n",
       "2                F      99233   \n",
       "3                F      99291   \n",
       "4                O      99213   \n",
       "\n",
       "                                   hcpcs_description  line_srvc_cnt  \\\n",
       "0  Initial hospital inpatient care, typically 70 ...          114.0   \n",
       "1  Subsequent hospital inpatient care, typically ...          627.0   \n",
       "2  Subsequent hospital inpatient care, typically ...          207.0   \n",
       "3  Critical care delivery critically ill or injur...           36.0   \n",
       "4  Established patient office or other outpatient...          129.0   \n",
       "\n",
       "   bene_unique_cnt  bene_day_srvc_cnt  average_Medicare_allowed_amt  \\\n",
       "0              110                114                    206.061579   \n",
       "1              233                627                     72.622456   \n",
       "2              127                207                    106.653913   \n",
       "3               23                 36                    224.170000   \n",
       "4               89                129                     70.930000   \n",
       "\n",
       "   average_submitted_chrg_amt  average_Medicare_payment_amt  \\\n",
       "0                  923.991228                    160.377193   \n",
       "1                  326.245614                     56.366730   \n",
       "2                  461.072464                     82.820676   \n",
       "3                 1400.000000                    175.750000   \n",
       "4                  109.000000                     50.868062   \n",
       "\n",
       "   average_Medicare_standard_amt  Total_submitted_chrg_amt  \\\n",
       "0                     160.026316             105335.000000   \n",
       "1                      57.047895             204556.000003   \n",
       "2                      83.196039              95442.000000   \n",
       "3                     177.656667              50400.000000   \n",
       "4                      53.268372              14061.000000   \n",
       "\n",
       "   Total_Medicare_payment_amt EXCLTYPE  year  Target  \n",
       "0                    18283.00     None  None       0  \n",
       "1                    35341.94     None  None       0  \n",
       "2                    17143.88     None  None       0  \n",
       "3                     6327.00     None  None       0  \n",
       "4                     6561.98     None  None       0  "
      ]
     },
     "execution_count": 96,
     "metadata": {},
     "output_type": "execute_result"
    }
   ],
   "source": [
    "combo.head()"
   ]
  },
  {
   "cell_type": "code",
   "execution_count": null,
   "metadata": {},
   "outputs": [
    {
     "data": {
      "text/plain": [
       "npi                                int64\n",
       "lastname                          object\n",
       "firstname                         object\n",
       "credentials                       object\n",
       "gender                            object\n",
       "address                           object\n",
       "city                              object\n",
       "zip                               object\n",
       "state                             object\n",
       "provider_type                     object\n",
       "place_of_service                  object\n",
       "hcpcs_code                        object\n",
       "hcpcs_description                 object\n",
       "line_srvc_cnt                    float64\n",
       "bene_unique_cnt                    int64\n",
       "bene_day_srvc_cnt                  int64\n",
       "average_Medicare_allowed_amt     float64\n",
       "average_submitted_chrg_amt       float64\n",
       "average_Medicare_payment_amt     float64\n",
       "average_Medicare_standard_amt    float64\n",
       "Total_submitted_chrg_amt         float64\n",
       "Total_Medicare_payment_amt       float64\n",
       "EXCLTYPE                          object\n",
       "year                              object\n",
       "Target                             int64\n",
       "dtype: object"
      ]
     },
     "execution_count": 97,
     "metadata": {},
     "output_type": "execute_result"
    }
   ],
   "source": [
    "combo.dtypes"
   ]
  },
  {
   "cell_type": "code",
   "execution_count": null,
   "metadata": {},
   "outputs": [],
   "source": [
    "cols = ['lastname', 'firstname', 'address', 'city']\n",
    "for col in cols:\n",
    "    combo[col] = combo[col].str.lower()"
   ]
  },
  {
   "cell_type": "code",
   "execution_count": null,
   "metadata": {},
   "outputs": [
    {
     "data": {
      "text/html": [
       "<div>\n",
       "<style scoped>\n",
       "    .dataframe tbody tr th:only-of-type {\n",
       "        vertical-align: middle;\n",
       "    }\n",
       "\n",
       "    .dataframe tbody tr th {\n",
       "        vertical-align: top;\n",
       "    }\n",
       "\n",
       "    .dataframe thead th {\n",
       "        text-align: right;\n",
       "    }\n",
       "</style>\n",
       "<table border=\"1\" class=\"dataframe\">\n",
       "  <thead>\n",
       "    <tr style=\"text-align: right;\">\n",
       "      <th></th>\n",
       "      <th>npi</th>\n",
       "      <th>lastname</th>\n",
       "      <th>firstname</th>\n",
       "      <th>credentials</th>\n",
       "      <th>gender</th>\n",
       "      <th>address</th>\n",
       "      <th>city</th>\n",
       "      <th>zip</th>\n",
       "      <th>state</th>\n",
       "      <th>provider_type</th>\n",
       "      <th>place_of_service</th>\n",
       "      <th>hcpcs_code</th>\n",
       "      <th>hcpcs_description</th>\n",
       "      <th>line_srvc_cnt</th>\n",
       "      <th>bene_unique_cnt</th>\n",
       "      <th>bene_day_srvc_cnt</th>\n",
       "      <th>average_Medicare_allowed_amt</th>\n",
       "      <th>average_submitted_chrg_amt</th>\n",
       "      <th>average_Medicare_payment_amt</th>\n",
       "      <th>average_Medicare_standard_amt</th>\n",
       "      <th>Total_submitted_chrg_amt</th>\n",
       "      <th>Total_Medicare_payment_amt</th>\n",
       "      <th>EXCLTYPE</th>\n",
       "      <th>year</th>\n",
       "      <th>Target</th>\n",
       "    </tr>\n",
       "  </thead>\n",
       "  <tbody>\n",
       "    <tr>\n",
       "      <th>0</th>\n",
       "      <td>1003000126</td>\n",
       "      <td>enkeshafi</td>\n",
       "      <td>ardalan</td>\n",
       "      <td>M.D.</td>\n",
       "      <td>M</td>\n",
       "      <td>900 seton dr</td>\n",
       "      <td>cumberland</td>\n",
       "      <td>21502</td>\n",
       "      <td>MD</td>\n",
       "      <td>Internal Medicine</td>\n",
       "      <td>F</td>\n",
       "      <td>99223</td>\n",
       "      <td>Initial hospital inpatient care, typically 70 ...</td>\n",
       "      <td>114.0</td>\n",
       "      <td>110</td>\n",
       "      <td>114</td>\n",
       "      <td>206.061579</td>\n",
       "      <td>923.991228</td>\n",
       "      <td>160.377193</td>\n",
       "      <td>160.026316</td>\n",
       "      <td>105335.000000</td>\n",
       "      <td>18283.00</td>\n",
       "      <td>None</td>\n",
       "      <td>None</td>\n",
       "      <td>0</td>\n",
       "    </tr>\n",
       "    <tr>\n",
       "      <th>1</th>\n",
       "      <td>1003000126</td>\n",
       "      <td>enkeshafi</td>\n",
       "      <td>ardalan</td>\n",
       "      <td>M.D.</td>\n",
       "      <td>M</td>\n",
       "      <td>900 seton dr</td>\n",
       "      <td>cumberland</td>\n",
       "      <td>21502</td>\n",
       "      <td>MD</td>\n",
       "      <td>Internal Medicine</td>\n",
       "      <td>F</td>\n",
       "      <td>99232</td>\n",
       "      <td>Subsequent hospital inpatient care, typically ...</td>\n",
       "      <td>627.0</td>\n",
       "      <td>233</td>\n",
       "      <td>627</td>\n",
       "      <td>72.622456</td>\n",
       "      <td>326.245614</td>\n",
       "      <td>56.366730</td>\n",
       "      <td>57.047895</td>\n",
       "      <td>204556.000003</td>\n",
       "      <td>35341.94</td>\n",
       "      <td>None</td>\n",
       "      <td>None</td>\n",
       "      <td>0</td>\n",
       "    </tr>\n",
       "    <tr>\n",
       "      <th>2</th>\n",
       "      <td>1003000126</td>\n",
       "      <td>enkeshafi</td>\n",
       "      <td>ardalan</td>\n",
       "      <td>M.D.</td>\n",
       "      <td>M</td>\n",
       "      <td>900 seton dr</td>\n",
       "      <td>cumberland</td>\n",
       "      <td>21502</td>\n",
       "      <td>MD</td>\n",
       "      <td>Internal Medicine</td>\n",
       "      <td>F</td>\n",
       "      <td>99233</td>\n",
       "      <td>Subsequent hospital inpatient care, typically ...</td>\n",
       "      <td>207.0</td>\n",
       "      <td>127</td>\n",
       "      <td>207</td>\n",
       "      <td>106.653913</td>\n",
       "      <td>461.072464</td>\n",
       "      <td>82.820676</td>\n",
       "      <td>83.196039</td>\n",
       "      <td>95442.000000</td>\n",
       "      <td>17143.88</td>\n",
       "      <td>None</td>\n",
       "      <td>None</td>\n",
       "      <td>0</td>\n",
       "    </tr>\n",
       "    <tr>\n",
       "      <th>3</th>\n",
       "      <td>1003000126</td>\n",
       "      <td>enkeshafi</td>\n",
       "      <td>ardalan</td>\n",
       "      <td>M.D.</td>\n",
       "      <td>M</td>\n",
       "      <td>900 seton dr</td>\n",
       "      <td>cumberland</td>\n",
       "      <td>21502</td>\n",
       "      <td>MD</td>\n",
       "      <td>Internal Medicine</td>\n",
       "      <td>F</td>\n",
       "      <td>99291</td>\n",
       "      <td>Critical care delivery critically ill or injur...</td>\n",
       "      <td>36.0</td>\n",
       "      <td>23</td>\n",
       "      <td>36</td>\n",
       "      <td>224.170000</td>\n",
       "      <td>1400.000000</td>\n",
       "      <td>175.750000</td>\n",
       "      <td>177.656667</td>\n",
       "      <td>50400.000000</td>\n",
       "      <td>6327.00</td>\n",
       "      <td>None</td>\n",
       "      <td>None</td>\n",
       "      <td>0</td>\n",
       "    </tr>\n",
       "    <tr>\n",
       "      <th>4</th>\n",
       "      <td>1003000142</td>\n",
       "      <td>khalil</td>\n",
       "      <td>rashid</td>\n",
       "      <td>M.D.</td>\n",
       "      <td>M</td>\n",
       "      <td>4126 n holland sylvania rd</td>\n",
       "      <td>toledo</td>\n",
       "      <td>43623</td>\n",
       "      <td>OH</td>\n",
       "      <td>Anesthesiology</td>\n",
       "      <td>O</td>\n",
       "      <td>99213</td>\n",
       "      <td>Established patient office or other outpatient...</td>\n",
       "      <td>129.0</td>\n",
       "      <td>89</td>\n",
       "      <td>129</td>\n",
       "      <td>70.930000</td>\n",
       "      <td>109.000000</td>\n",
       "      <td>50.868062</td>\n",
       "      <td>53.268372</td>\n",
       "      <td>14061.000000</td>\n",
       "      <td>6561.98</td>\n",
       "      <td>None</td>\n",
       "      <td>None</td>\n",
       "      <td>0</td>\n",
       "    </tr>\n",
       "  </tbody>\n",
       "</table>\n",
       "</div>"
      ],
      "text/plain": [
       "          npi   lastname firstname credentials gender  \\\n",
       "0  1003000126  enkeshafi   ardalan        M.D.      M   \n",
       "1  1003000126  enkeshafi   ardalan        M.D.      M   \n",
       "2  1003000126  enkeshafi   ardalan        M.D.      M   \n",
       "3  1003000126  enkeshafi   ardalan        M.D.      M   \n",
       "4  1003000142     khalil    rashid        M.D.      M   \n",
       "\n",
       "                      address        city    zip state      provider_type  \\\n",
       "0                900 seton dr  cumberland  21502    MD  Internal Medicine   \n",
       "1                900 seton dr  cumberland  21502    MD  Internal Medicine   \n",
       "2                900 seton dr  cumberland  21502    MD  Internal Medicine   \n",
       "3                900 seton dr  cumberland  21502    MD  Internal Medicine   \n",
       "4  4126 n holland sylvania rd      toledo  43623    OH     Anesthesiology   \n",
       "\n",
       "  place_of_service hcpcs_code  \\\n",
       "0                F      99223   \n",
       "1                F      99232   \n",
       "2                F      99233   \n",
       "3                F      99291   \n",
       "4                O      99213   \n",
       "\n",
       "                                   hcpcs_description  line_srvc_cnt  \\\n",
       "0  Initial hospital inpatient care, typically 70 ...          114.0   \n",
       "1  Subsequent hospital inpatient care, typically ...          627.0   \n",
       "2  Subsequent hospital inpatient care, typically ...          207.0   \n",
       "3  Critical care delivery critically ill or injur...           36.0   \n",
       "4  Established patient office or other outpatient...          129.0   \n",
       "\n",
       "   bene_unique_cnt  bene_day_srvc_cnt  average_Medicare_allowed_amt  \\\n",
       "0              110                114                    206.061579   \n",
       "1              233                627                     72.622456   \n",
       "2              127                207                    106.653913   \n",
       "3               23                 36                    224.170000   \n",
       "4               89                129                     70.930000   \n",
       "\n",
       "   average_submitted_chrg_amt  average_Medicare_payment_amt  \\\n",
       "0                  923.991228                    160.377193   \n",
       "1                  326.245614                     56.366730   \n",
       "2                  461.072464                     82.820676   \n",
       "3                 1400.000000                    175.750000   \n",
       "4                  109.000000                     50.868062   \n",
       "\n",
       "   average_Medicare_standard_amt  Total_submitted_chrg_amt  \\\n",
       "0                     160.026316             105335.000000   \n",
       "1                      57.047895             204556.000003   \n",
       "2                      83.196039              95442.000000   \n",
       "3                     177.656667              50400.000000   \n",
       "4                      53.268372              14061.000000   \n",
       "\n",
       "   Total_Medicare_payment_amt EXCLTYPE  year  Target  \n",
       "0                    18283.00     None  None       0  \n",
       "1                    35341.94     None  None       0  \n",
       "2                    17143.88     None  None       0  \n",
       "3                     6327.00     None  None       0  \n",
       "4                     6561.98     None  None       0  "
      ]
     },
     "execution_count": 99,
     "metadata": {},
     "output_type": "execute_result"
    }
   ],
   "source": [
    "combo.head()"
   ]
  },
  {
   "cell_type": "code",
   "execution_count": null,
   "metadata": {},
   "outputs": [
    {
     "data": {
      "text/plain": [
       "(1511539, 25)"
      ]
     },
     "execution_count": 100,
     "metadata": {},
     "output_type": "execute_result"
    }
   ],
   "source": [
    "combo.shape #df.shape = (1511527, 22)"
   ]
  },
  {
   "cell_type": "code",
   "execution_count": null,
   "metadata": {},
   "outputs": [
    {
     "data": {
      "text/html": [
       "<div>\n",
       "<style scoped>\n",
       "    .dataframe tbody tr th:only-of-type {\n",
       "        vertical-align: middle;\n",
       "    }\n",
       "\n",
       "    .dataframe tbody tr th {\n",
       "        vertical-align: top;\n",
       "    }\n",
       "\n",
       "    .dataframe thead th {\n",
       "        text-align: right;\n",
       "    }\n",
       "</style>\n",
       "<table border=\"1\" class=\"dataframe\">\n",
       "  <thead>\n",
       "    <tr style=\"text-align: right;\">\n",
       "      <th></th>\n",
       "      <th>npi</th>\n",
       "      <th>lastname</th>\n",
       "      <th>firstname</th>\n",
       "      <th>credentials</th>\n",
       "      <th>gender</th>\n",
       "      <th>address</th>\n",
       "      <th>city</th>\n",
       "      <th>zip</th>\n",
       "      <th>state</th>\n",
       "      <th>provider_type</th>\n",
       "      <th>place_of_service</th>\n",
       "      <th>hcpcs_code</th>\n",
       "      <th>hcpcs_description</th>\n",
       "      <th>line_srvc_cnt</th>\n",
       "      <th>bene_unique_cnt</th>\n",
       "      <th>bene_day_srvc_cnt</th>\n",
       "      <th>average_Medicare_allowed_amt</th>\n",
       "      <th>average_submitted_chrg_amt</th>\n",
       "      <th>average_Medicare_payment_amt</th>\n",
       "      <th>average_Medicare_standard_amt</th>\n",
       "      <th>Total_submitted_chrg_amt</th>\n",
       "      <th>Total_Medicare_payment_amt</th>\n",
       "      <th>EXCLTYPE</th>\n",
       "      <th>year</th>\n",
       "      <th>Target</th>\n",
       "    </tr>\n",
       "  </thead>\n",
       "  <tbody>\n",
       "    <tr>\n",
       "      <th>0</th>\n",
       "      <td>1003000126</td>\n",
       "      <td>enkeshafi</td>\n",
       "      <td>ardalan</td>\n",
       "      <td>M.D.</td>\n",
       "      <td>M</td>\n",
       "      <td>900 seton dr</td>\n",
       "      <td>cumberland</td>\n",
       "      <td>21502</td>\n",
       "      <td>MD</td>\n",
       "      <td>Internal Medicine</td>\n",
       "      <td>F</td>\n",
       "      <td>99223</td>\n",
       "      <td>Initial hospital inpatient care, typically 70 ...</td>\n",
       "      <td>114.0</td>\n",
       "      <td>110</td>\n",
       "      <td>114</td>\n",
       "      <td>206.061579</td>\n",
       "      <td>923.991228</td>\n",
       "      <td>160.377193</td>\n",
       "      <td>160.026316</td>\n",
       "      <td>105335.000000</td>\n",
       "      <td>18283.00</td>\n",
       "      <td>None</td>\n",
       "      <td>None</td>\n",
       "      <td>0</td>\n",
       "    </tr>\n",
       "    <tr>\n",
       "      <th>1</th>\n",
       "      <td>1003000126</td>\n",
       "      <td>enkeshafi</td>\n",
       "      <td>ardalan</td>\n",
       "      <td>M.D.</td>\n",
       "      <td>M</td>\n",
       "      <td>900 seton dr</td>\n",
       "      <td>cumberland</td>\n",
       "      <td>21502</td>\n",
       "      <td>MD</td>\n",
       "      <td>Internal Medicine</td>\n",
       "      <td>F</td>\n",
       "      <td>99232</td>\n",
       "      <td>Subsequent hospital inpatient care, typically ...</td>\n",
       "      <td>627.0</td>\n",
       "      <td>233</td>\n",
       "      <td>627</td>\n",
       "      <td>72.622456</td>\n",
       "      <td>326.245614</td>\n",
       "      <td>56.366730</td>\n",
       "      <td>57.047895</td>\n",
       "      <td>204556.000003</td>\n",
       "      <td>35341.94</td>\n",
       "      <td>None</td>\n",
       "      <td>None</td>\n",
       "      <td>0</td>\n",
       "    </tr>\n",
       "    <tr>\n",
       "      <th>2</th>\n",
       "      <td>1003000126</td>\n",
       "      <td>enkeshafi</td>\n",
       "      <td>ardalan</td>\n",
       "      <td>M.D.</td>\n",
       "      <td>M</td>\n",
       "      <td>900 seton dr</td>\n",
       "      <td>cumberland</td>\n",
       "      <td>21502</td>\n",
       "      <td>MD</td>\n",
       "      <td>Internal Medicine</td>\n",
       "      <td>F</td>\n",
       "      <td>99233</td>\n",
       "      <td>Subsequent hospital inpatient care, typically ...</td>\n",
       "      <td>207.0</td>\n",
       "      <td>127</td>\n",
       "      <td>207</td>\n",
       "      <td>106.653913</td>\n",
       "      <td>461.072464</td>\n",
       "      <td>82.820676</td>\n",
       "      <td>83.196039</td>\n",
       "      <td>95442.000000</td>\n",
       "      <td>17143.88</td>\n",
       "      <td>None</td>\n",
       "      <td>None</td>\n",
       "      <td>0</td>\n",
       "    </tr>\n",
       "    <tr>\n",
       "      <th>3</th>\n",
       "      <td>1003000126</td>\n",
       "      <td>enkeshafi</td>\n",
       "      <td>ardalan</td>\n",
       "      <td>M.D.</td>\n",
       "      <td>M</td>\n",
       "      <td>900 seton dr</td>\n",
       "      <td>cumberland</td>\n",
       "      <td>21502</td>\n",
       "      <td>MD</td>\n",
       "      <td>Internal Medicine</td>\n",
       "      <td>F</td>\n",
       "      <td>99291</td>\n",
       "      <td>Critical care delivery critically ill or injur...</td>\n",
       "      <td>36.0</td>\n",
       "      <td>23</td>\n",
       "      <td>36</td>\n",
       "      <td>224.170000</td>\n",
       "      <td>1400.000000</td>\n",
       "      <td>175.750000</td>\n",
       "      <td>177.656667</td>\n",
       "      <td>50400.000000</td>\n",
       "      <td>6327.00</td>\n",
       "      <td>None</td>\n",
       "      <td>None</td>\n",
       "      <td>0</td>\n",
       "    </tr>\n",
       "    <tr>\n",
       "      <th>4</th>\n",
       "      <td>1003000142</td>\n",
       "      <td>khalil</td>\n",
       "      <td>rashid</td>\n",
       "      <td>M.D.</td>\n",
       "      <td>M</td>\n",
       "      <td>4126 n holland sylvania rd</td>\n",
       "      <td>toledo</td>\n",
       "      <td>43623</td>\n",
       "      <td>OH</td>\n",
       "      <td>Anesthesiology</td>\n",
       "      <td>O</td>\n",
       "      <td>99213</td>\n",
       "      <td>Established patient office or other outpatient...</td>\n",
       "      <td>129.0</td>\n",
       "      <td>89</td>\n",
       "      <td>129</td>\n",
       "      <td>70.930000</td>\n",
       "      <td>109.000000</td>\n",
       "      <td>50.868062</td>\n",
       "      <td>53.268372</td>\n",
       "      <td>14061.000000</td>\n",
       "      <td>6561.98</td>\n",
       "      <td>None</td>\n",
       "      <td>None</td>\n",
       "      <td>0</td>\n",
       "    </tr>\n",
       "  </tbody>\n",
       "</table>\n",
       "</div>"
      ],
      "text/plain": [
       "          npi   lastname firstname credentials gender  \\\n",
       "0  1003000126  enkeshafi   ardalan        M.D.      M   \n",
       "1  1003000126  enkeshafi   ardalan        M.D.      M   \n",
       "2  1003000126  enkeshafi   ardalan        M.D.      M   \n",
       "3  1003000126  enkeshafi   ardalan        M.D.      M   \n",
       "4  1003000142     khalil    rashid        M.D.      M   \n",
       "\n",
       "                      address        city    zip state      provider_type  \\\n",
       "0                900 seton dr  cumberland  21502    MD  Internal Medicine   \n",
       "1                900 seton dr  cumberland  21502    MD  Internal Medicine   \n",
       "2                900 seton dr  cumberland  21502    MD  Internal Medicine   \n",
       "3                900 seton dr  cumberland  21502    MD  Internal Medicine   \n",
       "4  4126 n holland sylvania rd      toledo  43623    OH     Anesthesiology   \n",
       "\n",
       "  place_of_service hcpcs_code  \\\n",
       "0                F      99223   \n",
       "1                F      99232   \n",
       "2                F      99233   \n",
       "3                F      99291   \n",
       "4                O      99213   \n",
       "\n",
       "                                   hcpcs_description  line_srvc_cnt  \\\n",
       "0  Initial hospital inpatient care, typically 70 ...          114.0   \n",
       "1  Subsequent hospital inpatient care, typically ...          627.0   \n",
       "2  Subsequent hospital inpatient care, typically ...          207.0   \n",
       "3  Critical care delivery critically ill or injur...           36.0   \n",
       "4  Established patient office or other outpatient...          129.0   \n",
       "\n",
       "   bene_unique_cnt  bene_day_srvc_cnt  average_Medicare_allowed_amt  \\\n",
       "0              110                114                    206.061579   \n",
       "1              233                627                     72.622456   \n",
       "2              127                207                    106.653913   \n",
       "3               23                 36                    224.170000   \n",
       "4               89                129                     70.930000   \n",
       "\n",
       "   average_submitted_chrg_amt  average_Medicare_payment_amt  \\\n",
       "0                  923.991228                    160.377193   \n",
       "1                  326.245614                     56.366730   \n",
       "2                  461.072464                     82.820676   \n",
       "3                 1400.000000                    175.750000   \n",
       "4                  109.000000                     50.868062   \n",
       "\n",
       "   average_Medicare_standard_amt  Total_submitted_chrg_amt  \\\n",
       "0                     160.026316             105335.000000   \n",
       "1                      57.047895             204556.000003   \n",
       "2                      83.196039              95442.000000   \n",
       "3                     177.656667              50400.000000   \n",
       "4                      53.268372              14061.000000   \n",
       "\n",
       "   Total_Medicare_payment_amt EXCLTYPE  year  Target  \n",
       "0                    18283.00     None  None       0  \n",
       "1                    35341.94     None  None       0  \n",
       "2                    17143.88     None  None       0  \n",
       "3                     6327.00     None  None       0  \n",
       "4                     6561.98     None  None       0  "
      ]
     },
     "execution_count": 101,
     "metadata": {},
     "output_type": "execute_result"
    }
   ],
   "source": [
    "combo.head()"
   ]
  },
  {
   "cell_type": "code",
   "execution_count": null,
   "metadata": {
    "scrolled": true
   },
   "outputs": [],
   "source": [
    "combo.drop_duplicates().sum()"
   ]
  },
  {
   "cell_type": "code",
   "execution_count": null,
   "metadata": {},
   "outputs": [],
   "source": [
    "combo_1 = combo.drop_duplicates()"
   ]
  },
  {
   "cell_type": "code",
   "execution_count": null,
   "metadata": {},
   "outputs": [],
   "source": [
    "combo_1.to_csv(\"data/combo.csv\",index_label=False) #write to csv"
   ]
  },
  {
   "cell_type": "code",
   "execution_count": null,
   "metadata": {},
   "outputs": [],
   "source": [
    "combo_1.shape"
   ]
  },
  {
   "cell_type": "code",
   "execution_count": null,
   "metadata": {},
   "outputs": [],
   "source": [
    "combo_1.hcpcs_code.value_counts()"
   ]
  },
  {
   "cell_type": "code",
   "execution_count": null,
   "metadata": {},
   "outputs": [],
   "source": [
    "combo_1.hcpcs_code.nunique()"
   ]
  },
  {
   "cell_type": "code",
   "execution_count": null,
   "metadata": {},
   "outputs": [],
   "source": [
    "dfx= pd.read_csv(\"data/combo.csv\")"
   ]
  },
  {
   "cell_type": "code",
   "execution_count": null,
   "metadata": {},
   "outputs": [],
   "source": [
    "dfx.shape"
   ]
  },
  {
   "cell_type": "code",
   "execution_count": null,
   "metadata": {},
   "outputs": [],
   "source": [
    "dfx.hcpcs_code.nunique()"
   ]
  },
  {
   "cell_type": "code",
   "execution_count": null,
   "metadata": {},
   "outputs": [],
   "source": [
    "for i in dfx.hcpcs_code.unique():\n",
    "    print(type(i))"
   ]
  },
  {
   "cell_type": "code",
   "execution_count": null,
   "metadata": {},
   "outputs": [],
   "source": []
  },
  {
   "cell_type": "code",
   "execution_count": null,
   "metadata": {},
   "outputs": [],
   "source": [
    "dfx.hcpcs_code.value_counts()"
   ]
  },
  {
   "cell_type": "code",
   "execution_count": null,
   "metadata": {},
   "outputs": [],
   "source": []
  }
 ],
 "metadata": {
  "kernelspec": {
   "display_name": "Python 3",
   "language": "python",
   "name": "python3"
  },
  "language_info": {
   "codemirror_mode": {
    "name": "ipython",
    "version": 3
   },
   "file_extension": ".py",
   "mimetype": "text/x-python",
   "name": "python",
   "nbconvert_exporter": "python",
   "pygments_lexer": "ipython3",
   "version": "3.7.1"
  }
 },
 "nbformat": 4,
 "nbformat_minor": 2
}
