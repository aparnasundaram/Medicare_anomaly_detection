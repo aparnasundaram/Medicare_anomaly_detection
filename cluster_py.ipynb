{
 "cells": [
  {
   "cell_type": "code",
   "execution_count": 58,
   "metadata": {},
   "outputs": [],
   "source": [
    "from sklearn import linear_model\n",
    "from sklearn.linear_model import LinearRegression, HuberRegressor\n",
    "from sklearn.model_selection import GridSearchCV, cross_val_score, cross_val_predict, train_test_split\n",
    "import numpy as np\n",
    "import pandas as pd\n",
    "import matplotlib.pyplot as plt\n",
    "import seaborn as sns \n",
    "plt.style.use('ggplot')\n",
    "%matplotlib inline"
   ]
  },
  {
   "cell_type": "code",
   "execution_count": 61,
   "metadata": {},
   "outputs": [],
   "source": [
    "## NOT USED DON\"T RUN\n",
    "\n",
    "df = pd.read_csv(\"widedf.csv\",\n",
    "                dtype={'npi':object,\n",
    "                       'gender':object,\n",
    "                       'state':object,\n",
    "                       'provider_type':object,\n",
    "                       'EXCLTYPE':object,\n",
    "                       'year':object})"
   ]
  },
  {
   "cell_type": "code",
   "execution_count": 11,
   "metadata": {},
   "outputs": [
    {
     "data": {
      "text/plain": [
       "(648778, 128)"
      ]
     },
     "execution_count": 11,
     "metadata": {},
     "output_type": "execute_result"
    }
   ],
   "source": [
    "df.shape"
   ]
  },
  {
   "cell_type": "code",
   "execution_count": 5,
   "metadata": {},
   "outputs": [
    {
     "data": {
      "text/plain": [
       "['npi',\n",
       " 'Net_allow_pay_66984',\n",
       " 'Net_allow_pay_99213',\n",
       " 'Net_allow_pay_99214',\n",
       " 'Net_allow_pay_99223',\n",
       " 'Net_allow_pay_99232',\n",
       " 'Net_allow_pay_99233',\n",
       " 'Net_allow_pay_99284',\n",
       " 'Net_allow_pay_99285',\n",
       " 'Net_allow_pay_99291',\n",
       " 'Net_allow_pay_A0427',\n",
       " 'Net_submit_pay_66984',\n",
       " 'Net_submit_pay_99213',\n",
       " 'Net_submit_pay_99214',\n",
       " 'Net_submit_pay_99223',\n",
       " 'Net_submit_pay_99232',\n",
       " 'Net_submit_pay_99233',\n",
       " 'Net_submit_pay_99284',\n",
       " 'Net_submit_pay_99285',\n",
       " 'Net_submit_pay_99291',\n",
       " 'Net_submit_pay_A0427',\n",
       " 'Total_Medicare_allowed_amt_66984',\n",
       " 'Total_Medicare_allowed_amt_99213',\n",
       " 'Total_Medicare_allowed_amt_99214',\n",
       " 'Total_Medicare_allowed_amt_99223',\n",
       " 'Total_Medicare_allowed_amt_99232',\n",
       " 'Total_Medicare_allowed_amt_99233',\n",
       " 'Total_Medicare_allowed_amt_99284',\n",
       " 'Total_Medicare_allowed_amt_99285',\n",
       " 'Total_Medicare_allowed_amt_99291',\n",
       " 'Total_Medicare_allowed_amt_A0427',\n",
       " 'Total_Medicare_std_payment_amt_66984',\n",
       " 'Total_Medicare_std_payment_amt_99213',\n",
       " 'Total_Medicare_std_payment_amt_99214',\n",
       " 'Total_Medicare_std_payment_amt_99223',\n",
       " 'Total_Medicare_std_payment_amt_99232',\n",
       " 'Total_Medicare_std_payment_amt_99233',\n",
       " 'Total_Medicare_std_payment_amt_99284',\n",
       " 'Total_Medicare_std_payment_amt_99285',\n",
       " 'Total_Medicare_std_payment_amt_99291',\n",
       " 'Total_Medicare_std_payment_amt_A0427',\n",
       " 'Total_submitted_chrg_amt_66984',\n",
       " 'Total_submitted_chrg_amt_99213',\n",
       " 'Total_submitted_chrg_amt_99214',\n",
       " 'Total_submitted_chrg_amt_99223',\n",
       " 'Total_submitted_chrg_amt_99232',\n",
       " 'Total_submitted_chrg_amt_99233',\n",
       " 'Total_submitted_chrg_amt_99284',\n",
       " 'Total_submitted_chrg_amt_99285',\n",
       " 'Total_submitted_chrg_amt_99291',\n",
       " 'Total_submitted_chrg_amt_A0427',\n",
       " 'average_Medicare_allowed_amt_66984',\n",
       " 'average_Medicare_allowed_amt_99213',\n",
       " 'average_Medicare_allowed_amt_99214',\n",
       " 'average_Medicare_allowed_amt_99223',\n",
       " 'average_Medicare_allowed_amt_99232',\n",
       " 'average_Medicare_allowed_amt_99233',\n",
       " 'average_Medicare_allowed_amt_99284',\n",
       " 'average_Medicare_allowed_amt_99285',\n",
       " 'average_Medicare_allowed_amt_99291',\n",
       " 'average_Medicare_allowed_amt_A0427',\n",
       " 'average_Medicare_standard_amt_66984',\n",
       " 'average_Medicare_standard_amt_99213',\n",
       " 'average_Medicare_standard_amt_99214',\n",
       " 'average_Medicare_standard_amt_99223',\n",
       " 'average_Medicare_standard_amt_99232',\n",
       " 'average_Medicare_standard_amt_99233',\n",
       " 'average_Medicare_standard_amt_99284',\n",
       " 'average_Medicare_standard_amt_99285',\n",
       " 'average_Medicare_standard_amt_99291',\n",
       " 'average_Medicare_standard_amt_A0427',\n",
       " 'average_submitted_chrg_amt_66984',\n",
       " 'average_submitted_chrg_amt_99213',\n",
       " 'average_submitted_chrg_amt_99214',\n",
       " 'average_submitted_chrg_amt_99223',\n",
       " 'average_submitted_chrg_amt_99232',\n",
       " 'average_submitted_chrg_amt_99233',\n",
       " 'average_submitted_chrg_amt_99284',\n",
       " 'average_submitted_chrg_amt_99285',\n",
       " 'average_submitted_chrg_amt_99291',\n",
       " 'average_submitted_chrg_amt_A0427',\n",
       " 'bene_unique_cnt_66984',\n",
       " 'bene_unique_cnt_99213',\n",
       " 'bene_unique_cnt_99214',\n",
       " 'bene_unique_cnt_99223',\n",
       " 'bene_unique_cnt_99232',\n",
       " 'bene_unique_cnt_99233',\n",
       " 'bene_unique_cnt_99284',\n",
       " 'bene_unique_cnt_99285',\n",
       " 'bene_unique_cnt_99291',\n",
       " 'bene_unique_cnt_A0427',\n",
       " 'line_srvc_cnt_66984',\n",
       " 'line_srvc_cnt_99213',\n",
       " 'line_srvc_cnt_99214',\n",
       " 'line_srvc_cnt_99223',\n",
       " 'line_srvc_cnt_99232',\n",
       " 'line_srvc_cnt_99233',\n",
       " 'line_srvc_cnt_99284',\n",
       " 'line_srvc_cnt_99285',\n",
       " 'line_srvc_cnt_99291',\n",
       " 'line_srvc_cnt_A0427',\n",
       " 'ratio_pay/allowed_66984',\n",
       " 'ratio_pay/allowed_99213',\n",
       " 'ratio_pay/allowed_99214',\n",
       " 'ratio_pay/allowed_99223',\n",
       " 'ratio_pay/allowed_99232',\n",
       " 'ratio_pay/allowed_99233',\n",
       " 'ratio_pay/allowed_99284',\n",
       " 'ratio_pay/allowed_99285',\n",
       " 'ratio_pay/allowed_99291',\n",
       " 'ratio_pay/allowed_A0427',\n",
       " 'ratio_pay/submit_66984',\n",
       " 'ratio_pay/submit_99213',\n",
       " 'ratio_pay/submit_99214',\n",
       " 'ratio_pay/submit_99223',\n",
       " 'ratio_pay/submit_99232',\n",
       " 'ratio_pay/submit_99233',\n",
       " 'ratio_pay/submit_99284',\n",
       " 'ratio_pay/submit_99285',\n",
       " 'ratio_pay/submit_99291',\n",
       " 'ratio_pay/submit_A0427',\n",
       " 'gender',\n",
       " 'state',\n",
       " 'provider_type',\n",
       " 'EXCLTYPE',\n",
       " 'year',\n",
       " 'Target',\n",
       " 'weight']"
      ]
     },
     "execution_count": 5,
     "metadata": {},
     "output_type": "execute_result"
    }
   ],
   "source": [
    "df.columns.tolist()"
   ]
  },
  {
   "cell_type": "code",
   "execution_count": 12,
   "metadata": {},
   "outputs": [
    {
     "data": {
      "text/plain": [
       "0    648637\n",
       "1       141\n",
       "Name: Target, dtype: int64"
      ]
     },
     "execution_count": 12,
     "metadata": {},
     "output_type": "execute_result"
    }
   ],
   "source": [
    "df.Target.value_counts()"
   ]
  },
  {
   "cell_type": "code",
   "execution_count": 13,
   "metadata": {},
   "outputs": [
    {
     "data": {
      "text/plain": [
       "[]"
      ]
     },
     "execution_count": 13,
     "metadata": {},
     "output_type": "execute_result"
    }
   ],
   "source": [
    "df.columns[df.isnull().any()].tolist()"
   ]
  },
  {
   "cell_type": "code",
   "execution_count": 14,
   "metadata": {
    "scrolled": true
   },
   "outputs": [
    {
     "data": {
      "text/plain": [
       "npi                                 0\n",
       "Net_allow_pay_66984                 0\n",
       "Net_allow_pay_99213                 0\n",
       "Net_allow_pay_99214                 0\n",
       "Net_allow_pay_99223                 0\n",
       "Net_allow_pay_99232                 0\n",
       "Net_allow_pay_99233                 0\n",
       "Net_allow_pay_99284                 0\n",
       "Net_allow_pay_99285                 0\n",
       "Net_allow_pay_99291                 0\n",
       "Net_allow_pay_A0427                 0\n",
       "Net_submit_pay_66984                0\n",
       "Net_submit_pay_99213                0\n",
       "Net_submit_pay_99214                0\n",
       "Net_submit_pay_99223                0\n",
       "Net_submit_pay_99232                0\n",
       "Net_submit_pay_99233                0\n",
       "Net_submit_pay_99284                0\n",
       "Net_submit_pay_99285                0\n",
       "Net_submit_pay_99291                0\n",
       "Net_submit_pay_A0427                0\n",
       "Total_Medicare_allowed_amt_66984    0\n",
       "Total_Medicare_allowed_amt_99213    0\n",
       "Total_Medicare_allowed_amt_99214    0\n",
       "Total_Medicare_allowed_amt_99223    0\n",
       "Total_Medicare_allowed_amt_99232    0\n",
       "Total_Medicare_allowed_amt_99233    0\n",
       "Total_Medicare_allowed_amt_99284    0\n",
       "Total_Medicare_allowed_amt_99285    0\n",
       "Total_Medicare_allowed_amt_99291    0\n",
       "                                   ..\n",
       "line_srvc_cnt_99285                 0\n",
       "line_srvc_cnt_99291                 0\n",
       "line_srvc_cnt_A0427                 0\n",
       "ratio_pay/allowed_66984             0\n",
       "ratio_pay/allowed_99213             0\n",
       "ratio_pay/allowed_99214             0\n",
       "ratio_pay/allowed_99223             0\n",
       "ratio_pay/allowed_99232             0\n",
       "ratio_pay/allowed_99233             0\n",
       "ratio_pay/allowed_99284             0\n",
       "ratio_pay/allowed_99285             0\n",
       "ratio_pay/allowed_99291             0\n",
       "ratio_pay/allowed_A0427             0\n",
       "ratio_pay/submit_66984              0\n",
       "ratio_pay/submit_99213              0\n",
       "ratio_pay/submit_99214              0\n",
       "ratio_pay/submit_99223              0\n",
       "ratio_pay/submit_99232              0\n",
       "ratio_pay/submit_99233              0\n",
       "ratio_pay/submit_99284              0\n",
       "ratio_pay/submit_99285              0\n",
       "ratio_pay/submit_99291              0\n",
       "ratio_pay/submit_A0427              0\n",
       "gender                              0\n",
       "state                               0\n",
       "provider_type                       0\n",
       "EXCLTYPE                            0\n",
       "year                                0\n",
       "Target                              0\n",
       "weight                              0\n",
       "Length: 128, dtype: int64"
      ]
     },
     "execution_count": 14,
     "metadata": {},
     "output_type": "execute_result"
    }
   ],
   "source": [
    "len(df.index) - df.count()"
   ]
  },
  {
   "cell_type": "code",
   "execution_count": 16,
   "metadata": {},
   "outputs": [],
   "source": [
    "pd.set_option(\"display.max_columns\",500)\n",
    "pd.set_option(\"display.max_rows\",5000)"
   ]
  },
  {
   "cell_type": "code",
   "execution_count": 17,
   "metadata": {
    "scrolled": true
   },
   "outputs": [
    {
     "data": {
      "text/plain": [
       "Internal Medicine                                   90069\n",
       "Nurse Practitioner                                  84839\n",
       "Family Practice                                     75764\n",
       "Physician Assistant                                 55717\n",
       "Emergency Medicine                                  42147\n",
       "Orthopedic Surgery                                  20020\n",
       "Cardiology                                          19159\n",
       "Optometry                                           18338\n",
       "Psychiatry                                          18325\n",
       "Obstetrics & Gynecology                             17924\n",
       "General Surgery                                     17009\n",
       "Ophthalmology                                       13497\n",
       "Podiatry                                            13040\n",
       "Neurology                                           12868\n",
       "Gastroenterology                                    12563\n",
       "Dermatology                                         11045\n",
       "Pulmonary Disease                                    9609\n",
       "Urology                                              8549\n",
       "Otolaryngology                                       8332\n",
       "Nephrology                                           8198\n",
       "Hematology-Oncology                                  8047\n",
       "Physical Medicine and Rehabilitation                 6867\n",
       "Infectious Disease                                   5415\n",
       "Endocrinology                                        5395\n",
       "Hospitalist                                          4686\n",
       "Rheumatology                                         4372\n",
       "Neurosurgery                                         4103\n",
       "Anesthesiology                                       4007\n",
       "Radiation Oncology                                   3636\n",
       "General Practice                                     3632\n",
       "Critical Care (Intensivists)                         3166\n",
       "Allergy/ Immunology                                  3146\n",
       "Medical Oncology                                     3049\n",
       "Vascular Surgery                                     2896\n",
       "Interventional Cardiology                            2859\n",
       "Plastic and Reconstructive Surgery                   2700\n",
       "Pain Management                                      2030\n",
       "Clinical Cardiac Electrophysiology                   1952\n",
       "Thoracic Surgery                                     1683\n",
       "Interventional Pain Management                       1576\n",
       "Certified Clinical Nurse Specialist                  1544\n",
       "Geriatric Medicine                                   1418\n",
       "Hand Surgery                                         1388\n",
       "Colorectal Surgery (Proctology)                      1303\n",
       "Pediatric Medicine                                   1119\n",
       "Sports Medicine                                      1047\n",
       "Cardiac Surgery                                      1006\n",
       "Hospice and Palliative Care                           965\n",
       "Gynecological Oncology                                894\n",
       "Surgical Oncology                                     775\n",
       "Diagnostic Radiology                                  727\n",
       "Hematology                                            677\n",
       "Osteopathic Manipulative Medicine                     546\n",
       "Interventional Radiology                              454\n",
       "Undefined Physician type                              395\n",
       "Sleep Medicine                                        379\n",
       "Oral Surgery (Dentist only)                           376\n",
       "Certified Nurse Midwife                               300\n",
       "Preventive Medicine                                   219\n",
       "Maxillofacial Surgery                                 217\n",
       "Geriatric Psychiatry                                  172\n",
       "Addiction Medicine                                    170\n",
       "Pathology                                             106\n",
       "Neuropsychiatry                                        96\n",
       "Nuclear Medicine                                       53\n",
       "Peripheral Vascular Disease                            53\n",
       "Certified Registered Nurse Anesthetist (CRNA)          47\n",
       "Clinic or Group Practice                               40\n",
       "Advanced Heart Failure and Transplant Cardiology       25\n",
       "Psychologist, Clinical                                 12\n",
       "Dentist                                                11\n",
       "Ambulance Service Provider                              4\n",
       "Unknown Supplier/Provider Specialty                     3\n",
       "Chiropractic                                            2\n",
       "Physical Therapist in Private Practice                  2\n",
       "Registered Dietitian or Nutrition Professional          1\n",
       "Medical Toxicology                                      1\n",
       "Speech Language Pathologist                             1\n",
       "Licensed Clinical Social Worker                         1\n",
       "Name: provider_type, dtype: int64"
      ]
     },
     "execution_count": 17,
     "metadata": {},
     "output_type": "execute_result"
    }
   ],
   "source": [
    "df.provider_type.value_counts()"
   ]
  },
  {
   "cell_type": "code",
   "execution_count": 18,
   "metadata": {
    "scrolled": true
   },
   "outputs": [
    {
     "data": {
      "text/plain": [
       "['Internal Medicine',\n",
       " 'Anesthesiology',\n",
       " 'Family Practice',\n",
       " 'Obstetrics & Gynecology',\n",
       " 'General Surgery',\n",
       " 'Urology',\n",
       " 'Physician Assistant',\n",
       " 'Dermatology',\n",
       " 'Physical Medicine and Rehabilitation',\n",
       " 'Radiation Oncology',\n",
       " 'Infectious Disease',\n",
       " 'Orthopedic Surgery',\n",
       " 'Endocrinology',\n",
       " 'Psychiatry',\n",
       " 'Rheumatology',\n",
       " 'General Practice',\n",
       " 'Neurology',\n",
       " 'Emergency Medicine',\n",
       " 'Nephrology',\n",
       " 'Nurse Practitioner',\n",
       " 'Pulmonary Disease',\n",
       " 'Otolaryngology',\n",
       " 'Plastic and Reconstructive Surgery',\n",
       " 'Cardiology',\n",
       " 'Ophthalmology',\n",
       " 'Interventional Cardiology',\n",
       " 'Gastroenterology',\n",
       " 'Hospitalist',\n",
       " 'Geriatric Medicine',\n",
       " 'Neurosurgery',\n",
       " 'Critical Care (Intensivists)',\n",
       " 'Podiatry',\n",
       " 'Optometry',\n",
       " 'Hematology-Oncology',\n",
       " 'Medical Oncology',\n",
       " 'Thoracic Surgery',\n",
       " 'Allergy/ Immunology',\n",
       " 'Pain Management',\n",
       " 'Sports Medicine',\n",
       " 'Diagnostic Radiology',\n",
       " 'Hand Surgery',\n",
       " 'Hospice and Palliative Care',\n",
       " 'Advanced Heart Failure and Transplant Cardiology',\n",
       " 'Osteopathic Manipulative Medicine',\n",
       " 'Vascular Surgery',\n",
       " 'Pediatric Medicine',\n",
       " 'Clinical Cardiac Electrophysiology',\n",
       " 'Cardiac Surgery',\n",
       " 'Undefined Physician type',\n",
       " 'Hematology',\n",
       " 'Interventional Radiology',\n",
       " 'Colorectal Surgery (Proctology)',\n",
       " 'Certified Clinical Nurse Specialist',\n",
       " 'Surgical Oncology',\n",
       " 'Certified Nurse Midwife',\n",
       " 'Interventional Pain Management',\n",
       " 'Maxillofacial Surgery',\n",
       " 'Preventive Medicine',\n",
       " 'Sleep Medicine',\n",
       " 'Addiction Medicine',\n",
       " 'Neuropsychiatry',\n",
       " 'Pathology',\n",
       " 'Peripheral Vascular Disease',\n",
       " 'Gynecological Oncology',\n",
       " 'Oral Surgery (Dentist only)',\n",
       " 'Clinic or Group Practice',\n",
       " 'Registered Dietitian or Nutrition Professional',\n",
       " 'Geriatric Psychiatry',\n",
       " 'Nuclear Medicine',\n",
       " 'Physical Therapist in Private Practice',\n",
       " 'Certified Registered Nurse Anesthetist (CRNA)',\n",
       " 'Medical Toxicology',\n",
       " 'Psychologist, Clinical',\n",
       " 'Dentist',\n",
       " 'Ambulance Service Provider',\n",
       " 'Speech Language Pathologist',\n",
       " 'Licensed Clinical Social Worker',\n",
       " 'Chiropractic',\n",
       " 'Unknown Supplier/Provider Specialty']"
      ]
     },
     "execution_count": 18,
     "metadata": {},
     "output_type": "execute_result"
    }
   ],
   "source": [
    "df.provider_type.unique().tolist()"
   ]
  },
  {
   "cell_type": "markdown",
   "metadata": {},
   "source": [
    "# Try and run a cluster analysis"
   ]
  },
  {
   "cell_type": "code",
   "execution_count": 62,
   "metadata": {},
   "outputs": [],
   "source": [
    "df1 = pd.read_csv(\"recodedf.csv\",\n",
    "                dtype={'npi':object,\n",
    "                       'gender':object,\n",
    "                       'state':object,\n",
    "                       'northeast':object,\n",
    "                       'west':object,\n",
    "                       'south':object,\n",
    "                       'midwest':object,\n",
    "                       'basic':object,\n",
    "                       'specialist':object,\n",
    "                       'sup_special':object,\n",
    "                       'provider_type':object,\n",
    "                       'EXCLTYPE':object,\n",
    "                       'year':object})"
   ]
  },
  {
   "cell_type": "code",
   "execution_count": 63,
   "metadata": {},
   "outputs": [
    {
     "data": {
      "text/plain": [
       "(648778, 215)"
      ]
     },
     "execution_count": 63,
     "metadata": {},
     "output_type": "execute_result"
    }
   ],
   "source": [
    "df1.shape"
   ]
  },
  {
   "cell_type": "code",
   "execution_count": 64,
   "metadata": {},
   "outputs": [
    {
     "data": {
      "text/plain": [
       "npi                                      object\n",
       "Net_allow_pay_66984                     float64\n",
       "Net_allow_pay_99213                     float64\n",
       "Net_allow_pay_99214                     float64\n",
       "Net_allow_pay_99223                     float64\n",
       "Net_allow_pay_99232                     float64\n",
       "Net_allow_pay_99233                     float64\n",
       "Net_allow_pay_99284                     float64\n",
       "Net_allow_pay_99285                     float64\n",
       "Net_allow_pay_99291                     float64\n",
       "Net_allow_pay_A0427                     float64\n",
       "Net_submit_pay_66984                    float64\n",
       "Net_submit_pay_99213                    float64\n",
       "Net_submit_pay_99214                    float64\n",
       "Net_submit_pay_99223                    float64\n",
       "Net_submit_pay_99232                    float64\n",
       "Net_submit_pay_99233                    float64\n",
       "Net_submit_pay_99284                    float64\n",
       "Net_submit_pay_99285                    float64\n",
       "Net_submit_pay_99291                    float64\n",
       "Net_submit_pay_A0427                    float64\n",
       "Total_Medicare_allowed_amt_66984        float64\n",
       "Total_Medicare_allowed_amt_99213        float64\n",
       "Total_Medicare_allowed_amt_99214        float64\n",
       "Total_Medicare_allowed_amt_99223        float64\n",
       "Total_Medicare_allowed_amt_99232        float64\n",
       "Total_Medicare_allowed_amt_99233        float64\n",
       "Total_Medicare_allowed_amt_99284        float64\n",
       "Total_Medicare_allowed_amt_99285        float64\n",
       "Total_Medicare_allowed_amt_99291        float64\n",
       "Total_Medicare_allowed_amt_A0427        float64\n",
       "Total_Medicare_std_payment_amt_66984    float64\n",
       "Total_Medicare_std_payment_amt_99213    float64\n",
       "Total_Medicare_std_payment_amt_99214    float64\n",
       "Total_Medicare_std_payment_amt_99223    float64\n",
       "Total_Medicare_std_payment_amt_99232    float64\n",
       "Total_Medicare_std_payment_amt_99233    float64\n",
       "Total_Medicare_std_payment_amt_99284    float64\n",
       "Total_Medicare_std_payment_amt_99285    float64\n",
       "Total_Medicare_std_payment_amt_99291    float64\n",
       "Total_Medicare_std_payment_amt_A0427    float64\n",
       "Total_submitted_chrg_amt_66984          float64\n",
       "Total_submitted_chrg_amt_99213          float64\n",
       "Total_submitted_chrg_amt_99214          float64\n",
       "Total_submitted_chrg_amt_99223          float64\n",
       "Total_submitted_chrg_amt_99232          float64\n",
       "Total_submitted_chrg_amt_99233          float64\n",
       "Total_submitted_chrg_amt_99284          float64\n",
       "Total_submitted_chrg_amt_99285          float64\n",
       "Total_submitted_chrg_amt_99291          float64\n",
       "Total_submitted_chrg_amt_A0427            int64\n",
       "average_Medicare_allowed_amt_66984      float64\n",
       "average_Medicare_allowed_amt_99213      float64\n",
       "average_Medicare_allowed_amt_99214      float64\n",
       "average_Medicare_allowed_amt_99223      float64\n",
       "average_Medicare_allowed_amt_99232      float64\n",
       "average_Medicare_allowed_amt_99233      float64\n",
       "average_Medicare_allowed_amt_99284      float64\n",
       "average_Medicare_allowed_amt_99285      float64\n",
       "average_Medicare_allowed_amt_99291      float64\n",
       "average_Medicare_allowed_amt_A0427      float64\n",
       "average_Medicare_standard_amt_66984     float64\n",
       "average_Medicare_standard_amt_99213     float64\n",
       "average_Medicare_standard_amt_99214     float64\n",
       "average_Medicare_standard_amt_99223     float64\n",
       "average_Medicare_standard_amt_99232     float64\n",
       "average_Medicare_standard_amt_99233     float64\n",
       "average_Medicare_standard_amt_99284     float64\n",
       "average_Medicare_standard_amt_99285     float64\n",
       "average_Medicare_standard_amt_99291     float64\n",
       "average_Medicare_standard_amt_A0427     float64\n",
       "average_submitted_chrg_amt_66984        float64\n",
       "average_submitted_chrg_amt_99213        float64\n",
       "average_submitted_chrg_amt_99214        float64\n",
       "average_submitted_chrg_amt_99223        float64\n",
       "average_submitted_chrg_amt_99232        float64\n",
       "average_submitted_chrg_amt_99233        float64\n",
       "average_submitted_chrg_amt_99284        float64\n",
       "average_submitted_chrg_amt_99285        float64\n",
       "average_submitted_chrg_amt_99291        float64\n",
       "average_submitted_chrg_amt_A0427          int64\n",
       "bene_unique_cnt_66984                   float64\n",
       "bene_unique_cnt_99213                   float64\n",
       "bene_unique_cnt_99214                   float64\n",
       "bene_unique_cnt_99223                     int64\n",
       "bene_unique_cnt_99232                   float64\n",
       "bene_unique_cnt_99233                   float64\n",
       "bene_unique_cnt_99284                     int64\n",
       "bene_unique_cnt_99285                     int64\n",
       "bene_unique_cnt_99291                   float64\n",
       "bene_unique_cnt_A0427                     int64\n",
       "line_srvc_cnt_66984                     float64\n",
       "line_srvc_cnt_99213                     float64\n",
       "line_srvc_cnt_99214                     float64\n",
       "line_srvc_cnt_99223                     float64\n",
       "line_srvc_cnt_99232                     float64\n",
       "line_srvc_cnt_99233                     float64\n",
       "line_srvc_cnt_99284                     float64\n",
       "line_srvc_cnt_99285                     float64\n",
       "line_srvc_cnt_99291                     float64\n",
       "line_srvc_cnt_A0427                       int64\n",
       "ratio_pay.allowed_66984                 float64\n",
       "ratio_pay.allowed_99213                 float64\n",
       "ratio_pay.allowed_99214                 float64\n",
       "ratio_pay.allowed_99223                 float64\n",
       "ratio_pay.allowed_99232                 float64\n",
       "ratio_pay.allowed_99233                 float64\n",
       "ratio_pay.allowed_99284                 float64\n",
       "ratio_pay.allowed_99285                 float64\n",
       "ratio_pay.allowed_99291                 float64\n",
       "ratio_pay.allowed_A0427                 float64\n",
       "ratio_pay.submit_66984                  float64\n",
       "ratio_pay.submit_99213                  float64\n",
       "ratio_pay.submit_99214                  float64\n",
       "ratio_pay.submit_99223                  float64\n",
       "ratio_pay.submit_99232                  float64\n",
       "ratio_pay.submit_99233                  float64\n",
       "ratio_pay.submit_99284                  float64\n",
       "ratio_pay.submit_99285                  float64\n",
       "ratio_pay.submit_99291                  float64\n",
       "ratio_pay.submit_A0427                  float64\n",
       "gender                                   object\n",
       "state                                    object\n",
       "provider_type                            object\n",
       "EXCLTYPE                                 object\n",
       "year                                     object\n",
       "Target                                    int64\n",
       "weight                                  float64\n",
       "LTMAA_66984                             float64\n",
       "LTMAA_99213                             float64\n",
       "LTMAA_99214                             float64\n",
       "LTMAA_99223                             float64\n",
       "LTMAA_99232                             float64\n",
       "LTMAA_99233                             float64\n",
       "LTMAA_99284                             float64\n",
       "LTMAA_99285                             float64\n",
       "LTMAA_99291                             float64\n",
       "LTMAA_A0427                             float64\n",
       "LTMSPA_66984                            float64\n",
       "LTMSPA_99213                            float64\n",
       "LTMSPA_99214                            float64\n",
       "LTMSPA_99223                            float64\n",
       "LTMSPA_99232                            float64\n",
       "LTMSPA_99233                            float64\n",
       "LTMSPA_99284                            float64\n",
       "LTMSPA_99285                            float64\n",
       "LTMSPA_99291                            float64\n",
       "LTMSPA_A0427                            float64\n",
       "LSCA_66984                              float64\n",
       "LSCA_99213                              float64\n",
       "LSCA_99214                              float64\n",
       "LSCA_99223                              float64\n",
       "LSCA_99232                              float64\n",
       "LSCA_99233                              float64\n",
       "LSCA_99284                              float64\n",
       "LSCA_99285                              float64\n",
       "LSCA_99291                              float64\n",
       "LSCA_A0427                              float64\n",
       "LMAA_66984                              float64\n",
       "LMAA_99213                              float64\n",
       "LMAA_99214                              float64\n",
       "LMAA_99223                              float64\n",
       "LMAA_99232                              float64\n",
       "LMAA_99233                              float64\n",
       "LMAA_99284                              float64\n",
       "LMAA_99285                              float64\n",
       "LMAA_99291                              float64\n",
       "LMAA_A0427                              float64\n",
       "LAMSA_66984                             float64\n",
       "LAMSA_99213                             float64\n",
       "LAMSA_99214                             float64\n",
       "LAMSA_99223                             float64\n",
       "LAMSA_99232                             float64\n",
       "LAMSA_99233                             float64\n",
       "LAMSA_99284                             float64\n",
       "LAMSA_99285                             float64\n",
       "LAMSA_99291                             float64\n",
       "LAMSA_A0427                             float64\n",
       "LASCA_66984                             float64\n",
       "LASCA_99213                             float64\n",
       "LASCA_99214                             float64\n",
       "LASCA_99223                             float64\n",
       "LASCA_99232                             float64\n",
       "LASCA_99233                             float64\n",
       "LASCA_99284                             float64\n",
       "LASCA_99285                             float64\n",
       "LASCA_99291                             float64\n",
       "LASCA_A0427                             float64\n",
       "LRPA_66984                              float64\n",
       "LRPA_99213                              float64\n",
       "LRPA_99214                              float64\n",
       "LRPA_99223                              float64\n",
       "LRPA_99232                              float64\n",
       "LRPA_99233                              float64\n",
       "LRPA_99284                              float64\n",
       "LRPA_99285                              float64\n",
       "LRPA_99291                              float64\n",
       "LRPA_A0427                              float64\n",
       "LPS_66984                               float64\n",
       "LPS_99213                               float64\n",
       "LPS_99214                               float64\n",
       "LPS_99223                               float64\n",
       "LPS_99232                               float64\n",
       "LPS_99233                               float64\n",
       "LPS_99284                               float64\n",
       "LPS_99285                               float64\n",
       "LPS_99291                               float64\n",
       "LPS_A0427                               float64\n",
       "northeast                                object\n",
       "midwest                                  object\n",
       "south                                    object\n",
       "west                                     object\n",
       "basic                                    object\n",
       "specialist                               object\n",
       "sup_special                              object\n",
       "dtype: object"
      ]
     },
     "execution_count": 64,
     "metadata": {},
     "output_type": "execute_result"
    }
   ],
   "source": [
    "df1.dtypes"
   ]
  },
  {
   "cell_type": "code",
   "execution_count": 22,
   "metadata": {},
   "outputs": [],
   "source": [
    "from PlottingFunctions import plot_inertia, plot_silhouette"
   ]
  },
  {
   "cell_type": "code",
   "execution_count": 65,
   "metadata": {},
   "outputs": [
    {
     "data": {
      "text/plain": [
       "['npi',\n",
       " 'Net_allow_pay_66984',\n",
       " 'Net_allow_pay_99213',\n",
       " 'Net_allow_pay_99214',\n",
       " 'Net_allow_pay_99223',\n",
       " 'Net_allow_pay_99232',\n",
       " 'Net_allow_pay_99233',\n",
       " 'Net_allow_pay_99284',\n",
       " 'Net_allow_pay_99285',\n",
       " 'Net_allow_pay_99291',\n",
       " 'Net_allow_pay_A0427',\n",
       " 'Net_submit_pay_66984',\n",
       " 'Net_submit_pay_99213',\n",
       " 'Net_submit_pay_99214',\n",
       " 'Net_submit_pay_99223',\n",
       " 'Net_submit_pay_99232',\n",
       " 'Net_submit_pay_99233',\n",
       " 'Net_submit_pay_99284',\n",
       " 'Net_submit_pay_99285',\n",
       " 'Net_submit_pay_99291',\n",
       " 'Net_submit_pay_A0427',\n",
       " 'Total_Medicare_allowed_amt_66984',\n",
       " 'Total_Medicare_allowed_amt_99213',\n",
       " 'Total_Medicare_allowed_amt_99214',\n",
       " 'Total_Medicare_allowed_amt_99223',\n",
       " 'Total_Medicare_allowed_amt_99232',\n",
       " 'Total_Medicare_allowed_amt_99233',\n",
       " 'Total_Medicare_allowed_amt_99284',\n",
       " 'Total_Medicare_allowed_amt_99285',\n",
       " 'Total_Medicare_allowed_amt_99291',\n",
       " 'Total_Medicare_allowed_amt_A0427',\n",
       " 'Total_Medicare_std_payment_amt_66984',\n",
       " 'Total_Medicare_std_payment_amt_99213',\n",
       " 'Total_Medicare_std_payment_amt_99214',\n",
       " 'Total_Medicare_std_payment_amt_99223',\n",
       " 'Total_Medicare_std_payment_amt_99232',\n",
       " 'Total_Medicare_std_payment_amt_99233',\n",
       " 'Total_Medicare_std_payment_amt_99284',\n",
       " 'Total_Medicare_std_payment_amt_99285',\n",
       " 'Total_Medicare_std_payment_amt_99291',\n",
       " 'Total_Medicare_std_payment_amt_A0427',\n",
       " 'Total_submitted_chrg_amt_66984',\n",
       " 'Total_submitted_chrg_amt_99213',\n",
       " 'Total_submitted_chrg_amt_99214',\n",
       " 'Total_submitted_chrg_amt_99223',\n",
       " 'Total_submitted_chrg_amt_99232',\n",
       " 'Total_submitted_chrg_amt_99233',\n",
       " 'Total_submitted_chrg_amt_99284',\n",
       " 'Total_submitted_chrg_amt_99285',\n",
       " 'Total_submitted_chrg_amt_99291',\n",
       " 'Total_submitted_chrg_amt_A0427',\n",
       " 'average_Medicare_allowed_amt_66984',\n",
       " 'average_Medicare_allowed_amt_99213',\n",
       " 'average_Medicare_allowed_amt_99214',\n",
       " 'average_Medicare_allowed_amt_99223',\n",
       " 'average_Medicare_allowed_amt_99232',\n",
       " 'average_Medicare_allowed_amt_99233',\n",
       " 'average_Medicare_allowed_amt_99284',\n",
       " 'average_Medicare_allowed_amt_99285',\n",
       " 'average_Medicare_allowed_amt_99291',\n",
       " 'average_Medicare_allowed_amt_A0427',\n",
       " 'average_Medicare_standard_amt_66984',\n",
       " 'average_Medicare_standard_amt_99213',\n",
       " 'average_Medicare_standard_amt_99214',\n",
       " 'average_Medicare_standard_amt_99223',\n",
       " 'average_Medicare_standard_amt_99232',\n",
       " 'average_Medicare_standard_amt_99233',\n",
       " 'average_Medicare_standard_amt_99284',\n",
       " 'average_Medicare_standard_amt_99285',\n",
       " 'average_Medicare_standard_amt_99291',\n",
       " 'average_Medicare_standard_amt_A0427',\n",
       " 'average_submitted_chrg_amt_66984',\n",
       " 'average_submitted_chrg_amt_99213',\n",
       " 'average_submitted_chrg_amt_99214',\n",
       " 'average_submitted_chrg_amt_99223',\n",
       " 'average_submitted_chrg_amt_99232',\n",
       " 'average_submitted_chrg_amt_99233',\n",
       " 'average_submitted_chrg_amt_99284',\n",
       " 'average_submitted_chrg_amt_99285',\n",
       " 'average_submitted_chrg_amt_99291',\n",
       " 'average_submitted_chrg_amt_A0427',\n",
       " 'bene_unique_cnt_66984',\n",
       " 'bene_unique_cnt_99213',\n",
       " 'bene_unique_cnt_99214',\n",
       " 'bene_unique_cnt_99223',\n",
       " 'bene_unique_cnt_99232',\n",
       " 'bene_unique_cnt_99233',\n",
       " 'bene_unique_cnt_99284',\n",
       " 'bene_unique_cnt_99285',\n",
       " 'bene_unique_cnt_99291',\n",
       " 'bene_unique_cnt_A0427',\n",
       " 'line_srvc_cnt_66984',\n",
       " 'line_srvc_cnt_99213',\n",
       " 'line_srvc_cnt_99214',\n",
       " 'line_srvc_cnt_99223',\n",
       " 'line_srvc_cnt_99232',\n",
       " 'line_srvc_cnt_99233',\n",
       " 'line_srvc_cnt_99284',\n",
       " 'line_srvc_cnt_99285',\n",
       " 'line_srvc_cnt_99291',\n",
       " 'line_srvc_cnt_A0427',\n",
       " 'ratio_pay.allowed_66984',\n",
       " 'ratio_pay.allowed_99213',\n",
       " 'ratio_pay.allowed_99214',\n",
       " 'ratio_pay.allowed_99223',\n",
       " 'ratio_pay.allowed_99232',\n",
       " 'ratio_pay.allowed_99233',\n",
       " 'ratio_pay.allowed_99284',\n",
       " 'ratio_pay.allowed_99285',\n",
       " 'ratio_pay.allowed_99291',\n",
       " 'ratio_pay.allowed_A0427',\n",
       " 'ratio_pay.submit_66984',\n",
       " 'ratio_pay.submit_99213',\n",
       " 'ratio_pay.submit_99214',\n",
       " 'ratio_pay.submit_99223',\n",
       " 'ratio_pay.submit_99232',\n",
       " 'ratio_pay.submit_99233',\n",
       " 'ratio_pay.submit_99284',\n",
       " 'ratio_pay.submit_99285',\n",
       " 'ratio_pay.submit_99291',\n",
       " 'ratio_pay.submit_A0427',\n",
       " 'gender',\n",
       " 'state',\n",
       " 'provider_type',\n",
       " 'EXCLTYPE',\n",
       " 'year',\n",
       " 'Target',\n",
       " 'weight',\n",
       " 'LTMAA_66984',\n",
       " 'LTMAA_99213',\n",
       " 'LTMAA_99214',\n",
       " 'LTMAA_99223',\n",
       " 'LTMAA_99232',\n",
       " 'LTMAA_99233',\n",
       " 'LTMAA_99284',\n",
       " 'LTMAA_99285',\n",
       " 'LTMAA_99291',\n",
       " 'LTMAA_A0427',\n",
       " 'LTMSPA_66984',\n",
       " 'LTMSPA_99213',\n",
       " 'LTMSPA_99214',\n",
       " 'LTMSPA_99223',\n",
       " 'LTMSPA_99232',\n",
       " 'LTMSPA_99233',\n",
       " 'LTMSPA_99284',\n",
       " 'LTMSPA_99285',\n",
       " 'LTMSPA_99291',\n",
       " 'LTMSPA_A0427',\n",
       " 'LSCA_66984',\n",
       " 'LSCA_99213',\n",
       " 'LSCA_99214',\n",
       " 'LSCA_99223',\n",
       " 'LSCA_99232',\n",
       " 'LSCA_99233',\n",
       " 'LSCA_99284',\n",
       " 'LSCA_99285',\n",
       " 'LSCA_99291',\n",
       " 'LSCA_A0427',\n",
       " 'LMAA_66984',\n",
       " 'LMAA_99213',\n",
       " 'LMAA_99214',\n",
       " 'LMAA_99223',\n",
       " 'LMAA_99232',\n",
       " 'LMAA_99233',\n",
       " 'LMAA_99284',\n",
       " 'LMAA_99285',\n",
       " 'LMAA_99291',\n",
       " 'LMAA_A0427',\n",
       " 'LAMSA_66984',\n",
       " 'LAMSA_99213',\n",
       " 'LAMSA_99214',\n",
       " 'LAMSA_99223',\n",
       " 'LAMSA_99232',\n",
       " 'LAMSA_99233',\n",
       " 'LAMSA_99284',\n",
       " 'LAMSA_99285',\n",
       " 'LAMSA_99291',\n",
       " 'LAMSA_A0427',\n",
       " 'LASCA_66984',\n",
       " 'LASCA_99213',\n",
       " 'LASCA_99214',\n",
       " 'LASCA_99223',\n",
       " 'LASCA_99232',\n",
       " 'LASCA_99233',\n",
       " 'LASCA_99284',\n",
       " 'LASCA_99285',\n",
       " 'LASCA_99291',\n",
       " 'LASCA_A0427',\n",
       " 'LRPA_66984',\n",
       " 'LRPA_99213',\n",
       " 'LRPA_99214',\n",
       " 'LRPA_99223',\n",
       " 'LRPA_99232',\n",
       " 'LRPA_99233',\n",
       " 'LRPA_99284',\n",
       " 'LRPA_99285',\n",
       " 'LRPA_99291',\n",
       " 'LRPA_A0427',\n",
       " 'LPS_66984',\n",
       " 'LPS_99213',\n",
       " 'LPS_99214',\n",
       " 'LPS_99223',\n",
       " 'LPS_99232',\n",
       " 'LPS_99233',\n",
       " 'LPS_99284',\n",
       " 'LPS_99285',\n",
       " 'LPS_99291',\n",
       " 'LPS_A0427',\n",
       " 'northeast',\n",
       " 'midwest',\n",
       " 'south',\n",
       " 'west',\n",
       " 'basic',\n",
       " 'specialist',\n",
       " 'sup_special']"
      ]
     },
     "execution_count": 65,
     "metadata": {},
     "output_type": "execute_result"
    }
   ],
   "source": [
    "df1.columns.tolist()"
   ]
  },
  {
   "cell_type": "code",
   "execution_count": 66,
   "metadata": {},
   "outputs": [],
   "source": [
    "df1['sex'] = df1.gender.map(lambda t:0 if t=='M' else 1)"
   ]
  },
  {
   "cell_type": "code",
   "execution_count": 67,
   "metadata": {},
   "outputs": [],
   "source": [
    "df1['ne'] = df1.northeast.astype(int)"
   ]
  },
  {
   "cell_type": "code",
   "execution_count": 68,
   "metadata": {},
   "outputs": [],
   "source": [
    "df1['mw'] = df1.midwest.astype(int)\n",
    "df1['so'] = df1.south.astype(int)\n",
    "df1['we'] = df1.west.astype(int)\n",
    "df1['pcp'] = df1.basic.astype(int)\n",
    "df1['spc'] = df1.specialist.astype(int)\n",
    "df1['supspc'] = df1.sup_special.astype(int)"
   ]
  },
  {
   "cell_type": "code",
   "execution_count": 69,
   "metadata": {},
   "outputs": [],
   "source": [
    "dfclus = df1.filter(items=['LPS_66984','LPS_99213','LPS_99214','LPS_99223','LPS_99232','LPS_99233','LPS_99284',\n",
    "                           'LPS_99285','LPS_99291','LPS_A0427','bene_unique_cnt_66984','bene_unique_cnt_99213',\n",
    "                           'bene_unique_cnt_99214','bene_unique_cnt_99223','bene_unique_cnt_99232',\n",
    "                           'bene_unique_cnt_99233','bene_unique_cnt_99284','bene_unique_cnt_99285',\n",
    "                           'bene_unique_cnt_99291','bene_unique_cnt_A0427','ne','mw',\n",
    "                           'so','we','pcp','spc','supspc'\n",
    "                          ])"
   ]
  },
  {
   "cell_type": "code",
   "execution_count": 70,
   "metadata": {},
   "outputs": [
    {
     "data": {
      "text/plain": [
       "(648778, 27)"
      ]
     },
     "execution_count": 70,
     "metadata": {},
     "output_type": "execute_result"
    }
   ],
   "source": [
    "dfclus.shape"
   ]
  },
  {
   "cell_type": "code",
   "execution_count": 71,
   "metadata": {
    "scrolled": true
   },
   "outputs": [
    {
     "data": {
      "text/plain": [
       "LPS_66984                float64\n",
       "LPS_99213                float64\n",
       "LPS_99214                float64\n",
       "LPS_99223                float64\n",
       "LPS_99232                float64\n",
       "LPS_99233                float64\n",
       "LPS_99284                float64\n",
       "LPS_99285                float64\n",
       "LPS_99291                float64\n",
       "LPS_A0427                float64\n",
       "bene_unique_cnt_66984    float64\n",
       "bene_unique_cnt_99213    float64\n",
       "bene_unique_cnt_99214    float64\n",
       "bene_unique_cnt_99223      int64\n",
       "bene_unique_cnt_99232    float64\n",
       "bene_unique_cnt_99233    float64\n",
       "bene_unique_cnt_99284      int64\n",
       "bene_unique_cnt_99285      int64\n",
       "bene_unique_cnt_99291    float64\n",
       "bene_unique_cnt_A0427      int64\n",
       "ne                         int32\n",
       "mw                         int32\n",
       "so                         int32\n",
       "we                         int32\n",
       "pcp                        int32\n",
       "spc                        int32\n",
       "supspc                     int32\n",
       "dtype: object"
      ]
     },
     "execution_count": 71,
     "metadata": {},
     "output_type": "execute_result"
    }
   ],
   "source": [
    "dfclus.dtypes"
   ]
  },
  {
   "cell_type": "code",
   "execution_count": 72,
   "metadata": {},
   "outputs": [],
   "source": [
    "from sklearn.preprocessing import StandardScaler"
   ]
  },
  {
   "cell_type": "code",
   "execution_count": 73,
   "metadata": {},
   "outputs": [],
   "source": [
    "scaler = StandardScaler()"
   ]
  },
  {
   "cell_type": "code",
   "execution_count": 74,
   "metadata": {},
   "outputs": [
    {
     "name": "stderr",
     "output_type": "stream",
     "text": [
      "C:\\Users\\aparn\\Anaconda3\\lib\\site-packages\\sklearn\\preprocessing\\data.py:645: DataConversionWarning: Data with input dtype int32, int64, float64 were all converted to float64 by StandardScaler.\n",
      "  return self.partial_fit(X, y)\n",
      "C:\\Users\\aparn\\Anaconda3\\lib\\site-packages\\sklearn\\base.py:464: DataConversionWarning: Data with input dtype int32, int64, float64 were all converted to float64 by StandardScaler.\n",
      "  return self.fit(X, **fit_params).transform(X)\n"
     ]
    }
   ],
   "source": [
    "dfclus[['LPS_66984','LPS_99213','LPS_99214','LPS_99223','LPS_99232','LPS_99233','LPS_99284',\n",
    "                           'LPS_99285','LPS_99291','LPS_A0427','bene_unique_cnt_66984','bene_unique_cnt_99213',\n",
    "                           'bene_unique_cnt_99214','bene_unique_cnt_99223','bene_unique_cnt_99232',\n",
    "                           'bene_unique_cnt_99233','bene_unique_cnt_99284','bene_unique_cnt_99285',\n",
    "                           'bene_unique_cnt_99291','bene_unique_cnt_A0427','ne','mw',\n",
    "                           'so','we','pcp','spc','supspc']] = scaler.fit_transform(dfclus[['LPS_66984','LPS_99213','LPS_99214','LPS_99223','LPS_99232','LPS_99233','LPS_99284',\n",
    "                           'LPS_99285','LPS_99291','LPS_A0427','bene_unique_cnt_66984','bene_unique_cnt_99213',\n",
    "                           'bene_unique_cnt_99214','bene_unique_cnt_99223','bene_unique_cnt_99232',\n",
    "                           'bene_unique_cnt_99233','bene_unique_cnt_99284','bene_unique_cnt_99285',\n",
    "                           'bene_unique_cnt_99291','bene_unique_cnt_A0427','ne','mw',\n",
    "                           'so','we','pcp','spc','supspc']])\n"
   ]
  },
  {
   "cell_type": "code",
   "execution_count": 80,
   "metadata": {},
   "outputs": [
    {
     "data": {
      "text/plain": [
       "pandas.core.frame.DataFrame"
      ]
     },
     "execution_count": 80,
     "metadata": {},
     "output_type": "execute_result"
    }
   ],
   "source": [
    "type(dfclus)"
   ]
  },
  {
   "cell_type": "code",
   "execution_count": 75,
   "metadata": {},
   "outputs": [],
   "source": [
    "from sklearn.cluster import KMeans\n",
    "kmeans = KMeans()"
   ]
  },
  {
   "cell_type": "code",
   "execution_count": 50,
   "metadata": {},
   "outputs": [
    {
     "data": {
      "text/plain": [
       "KMeans(algorithm='auto', copy_x=True, init='k-means++', max_iter=300,\n",
       "    n_clusters=5, n_init=10, n_jobs=None, precompute_distances='auto',\n",
       "    random_state=None, tol=0.0001, verbose=0)"
      ]
     },
     "execution_count": 50,
     "metadata": {},
     "output_type": "execute_result"
    }
   ],
   "source": [
    "## PRELIMINARY RUN: NOT USED RIGHT NOW\n",
    "\n",
    "kmeans.set_params(n_clusters=5)\n",
    "kmeans.fit(dfclus)"
   ]
  },
  {
   "cell_type": "code",
   "execution_count": 51,
   "metadata": {
    "scrolled": true
   },
   "outputs": [
    {
     "data": {
      "text/plain": [
       "array([[-1.40305324e-01,  9.03510558e-02,  1.02658390e-01,\n",
       "        -3.06786543e-01, -2.41198137e-01, -3.18996854e-01,\n",
       "        -2.10744505e-01, -2.31560113e-01, -2.53295303e-01,\n",
       "        -2.44223958e-03, -9.28007963e-02, -3.90148572e-02,\n",
       "        -1.94187214e-02, -2.57927806e-01, -2.58628277e-01,\n",
       "        -2.63901691e-01, -2.21364467e-01, -2.19165376e-01,\n",
       "        -2.08700721e-01, -1.89069152e-03,  2.83803505e-01,\n",
       "         3.23734414e-01, -7.50890629e-01, -7.50890629e-01,\n",
       "         4.77917374e-01, -5.34818281e-01, -1.83764207e-04],\n",
       "       [ 5.64781146e-01,  3.87484684e-01,  9.76959754e-02,\n",
       "        -2.84695475e-01, -2.05426642e-01, -3.17675818e-01,\n",
       "        -2.72022025e-01, -2.68805332e-01, -2.34182082e-01,\n",
       "        -2.44223958e-03,  3.73527230e-01,  2.92941817e-01,\n",
       "        -2.64092639e-02, -2.60849061e-01, -2.46274875e-01,\n",
       "        -2.69061966e-01, -2.45300298e-01, -2.29373909e-01,\n",
       "        -1.78936486e-01, -1.89069152e-03,  5.60831214e-02,\n",
       "        -1.69037136e-02, -5.19606840e-02, -5.19606840e-02,\n",
       "        -1.46617574e+00,  1.86934697e+00, -3.23579744e-01],\n",
       "       [-1.40377890e-01, -1.17911411e+00, -1.08216000e+00,\n",
       "        -4.52570104e-01, -5.31247188e-01, -4.24766592e-01,\n",
       "         2.92706343e+00,  3.03998523e+00,  1.12047802e+00,\n",
       "        -2.44223958e-03, -9.28369876e-02, -5.91747655e-01,\n",
       "        -6.01829927e-01, -3.11335387e-01, -3.57233944e-01,\n",
       "        -2.99529955e-01,  2.90223801e+00,  2.83773253e+00,\n",
       "         1.27292323e+00, -1.89069152e-03, -6.95949316e-03,\n",
       "         2.47221636e-02, -3.13979218e-02, -3.13979218e-02,\n",
       "         6.68590937e-01, -5.23275394e-01, -3.19168435e-01],\n",
       "       [-1.40308107e-01, -3.80854406e-01, -9.74528939e-02,\n",
       "         1.77845092e+00,  1.49034401e+00,  1.90488550e+00,\n",
       "        -2.40894876e-01, -2.41209999e-01,  7.70071666e-01,\n",
       "        -2.44223958e-03, -9.28237634e-02, -1.68614640e-01,\n",
       "         1.57214902e-01,  1.50663911e+00,  1.51693714e+00,\n",
       "         1.55774399e+00, -2.39227309e-01, -2.25954229e-01,\n",
       "         4.43254439e-01, -1.89069152e-03, -2.61589191e-02,\n",
       "        -1.46328276e-03,  4.88336202e-02,  4.88336202e-02,\n",
       "        -2.55504267e-01, -1.57213306e-01,  6.28423579e-01],\n",
       "       [-1.40297021e-01,  1.39034829e-01,  1.60193496e-01,\n",
       "        -2.78887371e-01, -2.41420159e-01, -3.23599365e-01,\n",
       "        -1.93333930e-01, -1.97767701e-01, -2.48720614e-01,\n",
       "         9.04343158e-03, -9.27560854e-02,  1.08791420e-01,\n",
       "         1.51455969e-01, -2.45446883e-01, -2.49607399e-01,\n",
       "        -2.66692440e-01, -1.92697036e-01, -1.98988711e-01,\n",
       "        -2.02938337e-01,  7.00109014e-03, -5.25802945e-01,\n",
       "        -5.54679652e-01,  1.33173677e+00,  1.33173677e+00,\n",
       "         4.93354653e-01, -5.34765989e-01, -2.47584150e-02]])"
      ]
     },
     "execution_count": 51,
     "metadata": {},
     "output_type": "execute_result"
    }
   ],
   "source": [
    "kmeans.cluster_centers_"
   ]
  },
  {
   "cell_type": "code",
   "execution_count": 54,
   "metadata": {},
   "outputs": [
    {
     "data": {
      "text/plain": [
       "array([3, 1, 3, ..., 4, 1, 3])"
      ]
     },
     "execution_count": 54,
     "metadata": {},
     "output_type": "execute_result"
    }
   ],
   "source": [
    "kmeans.labels_"
   ]
  },
  {
   "cell_type": "code",
   "execution_count": 57,
   "metadata": {
    "scrolled": true
   },
   "outputs": [
    {
     "data": {
      "image/png": "[encoded data removed]",
      "text/plain": [
       "<Figure size 432x288 with 1 Axes>"
      ]
     },
     "metadata": {
      "needs_background": "light"
     },
     "output_type": "display_data"
    }
   ],
   "source": [
    "plot_inertia(kmeans, dfclus, range(1, 10))"
   ]
  },
  {
   "cell_type": "code",
   "execution_count": 77,
   "metadata": {},
   "outputs": [
    {
     "data": {
      "text/plain": [
       "KMeans(algorithm='auto', copy_x=True, init='k-means++', max_iter=300,\n",
       "    n_clusters=8, n_init=10, n_jobs=None, precompute_distances='auto',\n",
       "    random_state=None, tol=0.0001, verbose=0)"
      ]
     },
     "execution_count": 77,
     "metadata": {},
     "output_type": "execute_result"
    }
   ],
   "source": [
    "kmeans.set_params(n_clusters=8)\n",
    "                \n",
    "kmeans.fit(dfclus)"
   ]
  },
  {
   "cell_type": "code",
   "execution_count": 79,
   "metadata": {},
   "outputs": [],
   "source": [
    "plot_silhouette(kmeans, dfclus)"
   ]
  },
  {
   "cell_type": "code",
   "execution_count": null,
   "metadata": {},
   "outputs": [],
   "source": []
  },
  {
   "cell_type": "code",
   "execution_count": null,
   "metadata": {},
   "outputs": [],
   "source": []
  },
  {
   "cell_type": "code",
   "execution_count": null,
   "metadata": {},
   "outputs": [],
   "source": [
    "## LISTING OF VARIABLES ONLY. NOT TO BE RUN.\n",
    "# 'gender','state','provider_type','EXCLTYPE','year','Target','weight',\n",
    "# 'LPS_66984','LPS_99213','LPS_99214','LPS_99223','LPS_99232','LPS_99233','LPS_99284','LPS_99285','LPS_99291','LPS_A0427',\n",
    "#  'northeast','midwest','south','west','basic','specialist','sup_special'\n",
    "    \n",
    "# 'bene_unique_cnt_66984','bene_unique_cnt_99213','bene_unique_cnt_99214','bene_unique_cnt_99223',\n",
    "# 'bene_unique_cnt_99232','bene_unique_cnt_99233','bene_unique_cnt_99284','bene_unique_cnt_99285',\n",
    "# 'bene_unique_cnt_99291','bene_unique_cnt_A0427',   "
   ]
  },
  {
   "cell_type": "code",
   "execution_count": 33,
   "metadata": {},
   "outputs": [],
   "source": [
    "#df_wide.reset_index()"
   ]
  },
  {
   "cell_type": "code",
   "execution_count": 44,
   "metadata": {},
   "outputs": [],
   "source": [
    "## A different way of getting a wide dataset with the column names as string instead of multi-index table\n",
    "\n",
    "# df['nap_hcpcs']  = 'Net_allow_pay_' + df.hcpcs_code.astype(str)\n",
    "# df['tmaa_hcpcs'] = 'Total_Medicare_allowed_amt_'     + df.hcpcs_code.astype(str)\n",
    "# df['tmspa_hcpcs'] = 'Total_Medicare_std_payment_amt_' + df.hcpcs_code.astype(str)\n",
    "# df['tn_hcpcs']   = 'Total_Net_'                      + df.hcpcs_code.astype(str)\n",
    "# df['tsca_hcpcs'] = 'Total_submitted_chrg_amt_'       + df.hcpcs_code.astype(str)\n",
    "# df['amaa_hcpcs'] = 'average_Medicare_allowed_amt_'   + df.hcpcs_code.astype(str)\n",
    "# df['amsa_hcpcs'] = 'average_Medicare_standard_amt_'  + df.hcpcs_code.astype(str)\n",
    "# df['asca_hcpcs'] = 'average_submitted_chrg_amt_'     + df.hcpcs_code.astype(str)\n",
    "# df['buc_hcpcs']  = 'bene_unique_cnt_'                + df.hcpcs_code.astype(str)\n",
    "# df['lsc_hcpcs']  = 'line_srvc_cnt_'                  + df.hcpcs_code.astype(str)\n",
    "# df['rpa_hcpcs']  = 'ratio_pay/allowed_'              + df.hcpcs_code.astype(str)\n",
    "# df['rps_hcpcs']  = 'ratio_pay/submit_'               + df.hcpcs_code.astype(str)"
   ]
  },
  {
   "cell_type": "code",
   "execution_count": 45,
   "metadata": {},
   "outputs": [],
   "source": [
    "## Making table wide continued\n",
    "\n",
    "# nap = df.pivot_table(index='npi',columns='nap_hcpcs',values='Net_allow_pay')\n",
    "# tmaa = df.pivot_table(index='npi',columns='tmaa_hcpcs',values='Total_Medicare_allowed_amt')\n",
    "# tmspa = df.pivot_table(index='npi',columns='tmspa_hcpcs',values='Total_Medicare_std_payment_amt')\n",
    "# tn = df.pivot_table(index='npi',columns='tn_hcpcs',values='Total_Net')\n",
    "# tsca = df.pivot_table(index='npi',columns='tsca_hcpcs',values='Total_submitted_chrg_amt')\n",
    "# amaa = df.pivot_table(index='npi',columns='amaa_hcpcs',values='average_Medicare_allowed_amt')\n",
    "# amsa = df.pivot_table(index='npi',columns='amsa_hcpcs',values='average_Medicare_standard_amt')\n",
    "# asca = df.pivot_table(index='npi',columns='asca_hcpcs',values='average_submitted_chrg_amt')\n",
    "# buc = df.pivot_table(index='npi',columns='buc_hcpcs',values='bene_unique_cnt')\n",
    "# lsc = df.pivot_table(index='npi',columns='lsc_hcpcs',values='line_srvc_cnt')\n",
    "# rpa = df.pivot_table(index='npi',columns='rpa_hcpcs',values='ratio_pay/allowed')\n",
    "# rps = df.pivot_table(index='npi',columns='rps_hcpcs',values='ratio_pay/submit')"
   ]
  },
  {
   "cell_type": "code",
   "execution_count": 46,
   "metadata": {},
   "outputs": [],
   "source": [
    "#df_wide = pd.concat([nap,tmaa,tmspa,tn,tsca,amaa,amsa,asca,buc,lsc,rpa,rps ],axis=1)"
   ]
  },
  {
   "cell_type": "code",
   "execution_count": null,
   "metadata": {},
   "outputs": [],
   "source": []
  }
 ],
 "metadata": {
  "kernelspec": {
   "display_name": "Python 3",
   "language": "python",
   "name": "python3"
  },
  "language_info": {
   "codemirror_mode": {
    "name": "ipython",
    "version": 3
   },
   "file_extension": ".py",
   "mimetype": "text/x-python",
   "name": "python",
   "nbconvert_exporter": "python",
   "pygments_lexer": "ipython3",
   "version": "3.7.3"
  }
 },
 "nbformat": 4,
 "nbformat_minor": 2
}
